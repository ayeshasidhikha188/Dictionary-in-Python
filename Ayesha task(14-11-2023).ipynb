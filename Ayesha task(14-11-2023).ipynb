{
 "cells": [
  {
   "cell_type": "markdown",
   "id": "fc4ff10a",
   "metadata": {},
   "source": [
    "# 1. strlower()"
   ]
  },
  {
   "cell_type": "code",
   "execution_count": 75,
   "id": "8b7c9911",
   "metadata": {},
   "outputs": [],
   "source": [
    "def strlower(s):\n",
    "    '''\n",
    "    lower() method converts all uppercase characters in a string into lowercase characters and returns it.\n",
    "* Parameters:\n",
    " The lower() method doesn’t take any parameters. \n",
    "* Returns:\n",
    " Returns a lowercase string of the given string\n",
    " \n",
    "     '''\n",
    "    z = ''\n",
    "    for ele in s:\n",
    "        if 65<=ord(ele)<=90:\n",
    "            z+=chr(ord(ele) + 32)\n",
    "        else:\n",
    "            z+=ele\n",
    "            \n",
    "    return z"
   ]
  },
  {
   "cell_type": "code",
   "execution_count": 76,
   "id": "a4b6193b",
   "metadata": {},
   "outputs": [
    {
     "data": {
      "text/plain": [
       "'\\n    lower() method converts all uppercase characters in a string into lowercase characters and returns it.\\n* Parameters:\\n The lower() method doesn’t take any parameters. \\n* Returns:\\n Returns a lowercase string of the given string\\n '"
      ]
     },
     "execution_count": 76,
     "metadata": {},
     "output_type": "execute_result"
    }
   ],
   "source": [
    "strlower.__doc__"
   ]
  },
  {
   "cell_type": "code",
   "execution_count": 28,
   "id": "d2074ec5",
   "metadata": {},
   "outputs": [
    {
     "data": {
      "text/plain": [
       "'ayesha'"
      ]
     },
     "execution_count": 28,
     "metadata": {},
     "output_type": "execute_result"
    }
   ],
   "source": [
    "strlower('AYESHA')"
   ]
  },
  {
   "cell_type": "markdown",
   "id": "4445d183",
   "metadata": {},
   "source": [
    "# 2. strindex()"
   ]
  },
  {
   "cell_type": "code",
   "execution_count": 77,
   "id": "c7f9ff52",
   "metadata": {},
   "outputs": [],
   "source": [
    "def strindex(string, substring):\n",
    "    '''\n",
    "     index() Method allows a user to find the index of the first occurrence of an existing substring inside a given string.\n",
    " Parameters: \n",
    " substring: The string to be searched for.\n",
    " start (default : 0) : This function specifies the position from where the search has to be started. \n",
    " end (default: length of string): This function specifies the position from where the search has to end\n",
    " Return:  \n",
    " Returns the first position of the substring found.\n",
    "     '''\n",
    "    for i, _ in enumerate(string):\n",
    "        if string[i:i+len(substring)] == substring:\n",
    "            return i\n",
    "    return -1  \n"
   ]
  },
  {
   "cell_type": "code",
   "execution_count": 78,
   "id": "99194ec2",
   "metadata": {},
   "outputs": [
    {
     "data": {
      "text/plain": [
       "'\\n     index() Method allows a user to find the index of the first occurrence of an existing substring inside a given string.\\n Parameters: \\n substring: The string to be searched for.\\n start (default : 0) : This function specifies the position from where the search has to be started. \\n end (default: length of string): This function specifies the position from where the search has to end\\n Return:  \\n Returns the first position of the substring found.'"
      ]
     },
     "execution_count": 78,
     "metadata": {},
     "output_type": "execute_result"
    }
   ],
   "source": [
    "strindex.__doc__"
   ]
  },
  {
   "cell_type": "code",
   "execution_count": 4,
   "id": "312cdaa1",
   "metadata": {},
   "outputs": [
    {
     "data": {
      "text/plain": [
       "2"
      ]
     },
     "execution_count": 4,
     "metadata": {},
     "output_type": "execute_result"
    }
   ],
   "source": [
    "strindex('Helloworld','ll') # first occurence l "
   ]
  },
  {
   "cell_type": "code",
   "execution_count": 5,
   "id": "0da39346",
   "metadata": {},
   "outputs": [
    {
     "data": {
      "text/plain": [
       "2"
      ]
     },
     "execution_count": 5,
     "metadata": {},
     "output_type": "execute_result"
    }
   ],
   "source": [
    "strindex('Helloworld','l')"
   ]
  },
  {
   "cell_type": "code",
   "execution_count": 6,
   "id": "1b730ce7",
   "metadata": {},
   "outputs": [
    {
     "data": {
      "text/plain": [
       "4"
      ]
     },
     "execution_count": 6,
     "metadata": {},
     "output_type": "execute_result"
    }
   ],
   "source": [
    "strindex('Hello world','o')"
   ]
  },
  {
   "cell_type": "code",
   "execution_count": 7,
   "id": "833e0942",
   "metadata": {},
   "outputs": [
    {
     "data": {
      "text/plain": [
       "-1"
      ]
     },
     "execution_count": 7,
     "metadata": {},
     "output_type": "execute_result"
    }
   ],
   "source": [
    "strindex('Hello world','z') # need error"
   ]
  },
  {
   "cell_type": "markdown",
   "id": "78a04fcf",
   "metadata": {},
   "source": [
    "# 3. strrindex()"
   ]
  },
  {
   "cell_type": "code",
   "execution_count": 79,
   "id": "7bfa3575",
   "metadata": {},
   "outputs": [],
   "source": [
    "def strrindex(string, substring):\n",
    "    '''\n",
    "     rindex() method returns the highest index of the substring inside the string if the substring is found. \n",
    "* Otherwise, it raises ValueError.\n",
    " Parameters: \n",
    "* sub : It’s the substring which needs to be searched in the given string.\n",
    "* start : Starting position where sub is needs to be checked within the string.\n",
    "* end : Ending position where suffix is needs to be checked within the string.\n",
    "Return:\n",
    "* Returns the highest index of the substring inside the string if substring is found. \n",
    "* Otherwise it raises an exception.\n",
    "\n",
    "     '''\n",
    "    for i, _ in enumerate(reversed(string)):\n",
    "        if string[-i-len(substring): -i] == substring:\n",
    "            return len(string) - i - len(substring)\n",
    "    return -1  "
   ]
  },
  {
   "cell_type": "code",
   "execution_count": 80,
   "id": "404fdc58",
   "metadata": {},
   "outputs": [
    {
     "data": {
      "text/plain": [
       "'\\n     rindex() method returns the highest index of the substring inside the string if the substring is found. \\n* Otherwise, it raises ValueError.\\n Parameters: \\n* sub : It’s the substring which needs to be searched in the given string.\\n* start : Starting position where sub is needs to be checked within the string.\\n* end : Ending position where suffix is needs to be checked within the string.\\nReturn:\\n* Returns the highest index of the substring inside the string if substring is found. \\n* Otherwise it raises an exception.'"
      ]
     },
     "execution_count": 80,
     "metadata": {},
     "output_type": "execute_result"
    }
   ],
   "source": [
    "strrindex.__doc__"
   ]
  },
  {
   "cell_type": "code",
   "execution_count": 11,
   "id": "67737a6c",
   "metadata": {},
   "outputs": [
    {
     "data": {
      "text/plain": [
       "8"
      ]
     },
     "execution_count": 11,
     "metadata": {},
     "output_type": "execute_result"
    }
   ],
   "source": [
    "strrindex('Helloworld','l')"
   ]
  },
  {
   "cell_type": "code",
   "execution_count": 13,
   "id": "28dc16e3",
   "metadata": {},
   "outputs": [
    {
     "data": {
      "text/plain": [
       "2"
      ]
     },
     "execution_count": 13,
     "metadata": {},
     "output_type": "execute_result"
    }
   ],
   "source": [
    "strrindex('Helloworld', 'll')"
   ]
  },
  {
   "cell_type": "code",
   "execution_count": 117,
   "id": "1afcb1a9",
   "metadata": {},
   "outputs": [
    {
     "data": {
      "text/plain": [
       "-1"
      ]
     },
     "execution_count": 117,
     "metadata": {},
     "output_type": "execute_result"
    }
   ],
   "source": [
    "strrindex('Ayesha','z') # need error "
   ]
  },
  {
   "cell_type": "markdown",
   "id": "55edce34",
   "metadata": {},
   "source": [
    "# 4. strcount()"
   ]
  },
  {
   "cell_type": "code",
   "execution_count": 81,
   "id": "35710ea5",
   "metadata": {},
   "outputs": [],
   "source": [
    "def strcount(string, substring):\n",
    "    '''\n",
    "     count() function returns the number of occurrences of a substring in the given string\n",
    "     Parameters: \n",
    "* The count() function has one compulsory and two optional parameters.  \n",
    "Mandatory parameter: \n",
    "* substring – string whose count is to be found.\n",
    " Return Value: \n",
    "* count() method returns an integer that denotes the number of times\n",
    "    \n",
    "    '''\n",
    "    x = 0\n",
    "    for char in string:\n",
    "        if char == substring:\n",
    "            x += 1\n",
    "    return x"
   ]
  },
  {
   "cell_type": "code",
   "execution_count": 82,
   "id": "3fd6d8f1",
   "metadata": {},
   "outputs": [
    {
     "data": {
      "text/plain": [
       "'\\n     count() function returns the number of occurrences of a substring in the given string\\n     Parameters: \\n* The count() function has one compulsory and two optional parameters.  \\nMandatory parameter: \\n* substring – string whose count is to be found.\\n Return Value: \\n* count() method returns an integer that denotes the number of times'"
      ]
     },
     "execution_count": 82,
     "metadata": {},
     "output_type": "execute_result"
    }
   ],
   "source": [
    " strcount.__doc__"
   ]
  },
  {
   "cell_type": "code",
   "execution_count": 123,
   "id": "b398f440",
   "metadata": {},
   "outputs": [
    {
     "data": {
      "text/plain": [
       "2"
      ]
     },
     "execution_count": 123,
     "metadata": {},
     "output_type": "execute_result"
    }
   ],
   "source": [
    "strcount('ayesha','a')"
   ]
  },
  {
   "cell_type": "code",
   "execution_count": 124,
   "id": "a26de26e",
   "metadata": {},
   "outputs": [
    {
     "data": {
      "text/plain": [
       "0"
      ]
     },
     "execution_count": 124,
     "metadata": {},
     "output_type": "execute_result"
    }
   ],
   "source": [
    "strcount('sidhikha','z')"
   ]
  },
  {
   "cell_type": "markdown",
   "id": "8e2354f3",
   "metadata": {},
   "source": [
    "# 5. strpartition()"
   ]
  },
  {
   "cell_type": "code",
   "execution_count": 89,
   "id": "5c6ba708",
   "metadata": {},
   "outputs": [],
   "source": [
    "# using find method\n",
    "def strpartition(string, sep):\n",
    "    '''\n",
    "partition() method splits the string at the first occurrence of the separator and returns a tuple containing the part before the separator, the separator, and the part after the separator. \n",
    "Parameters: \n",
    "* sep: a substring that separates the string\n",
    "Return:\n",
    "* Returns a tuple of 3 elements. The substring before the separator, the separator, the part after the separator\n",
    "    \n",
    "    '''\n",
    "    for i, _ in enumerate(string):\n",
    "        index=string.find(sep)\n",
    "    if index !=1:\n",
    "        return string[:index], sep, string[index + len(sep):]\n",
    "    else:\n",
    "        return string, \"\", \"\""
   ]
  },
  {
   "cell_type": "code",
   "execution_count": 90,
   "id": "5a5d7752",
   "metadata": {},
   "outputs": [
    {
     "data": {
      "text/plain": [
       "'\\npartition() method splits the string at the first occurrence of the separator and returns a tuple containing the part before the separator, the separator, and the part after the separator. \\nParameters: \\n* sep: a substring that separates the string\\nReturn:\\n* Returns a tuple of 3 elements. The substring before the separator, the separator, the part after the separator\\n    '"
      ]
     },
     "execution_count": 90,
     "metadata": {},
     "output_type": "execute_result"
    }
   ],
   "source": [
    "strpartition.__doc__"
   ]
  },
  {
   "cell_type": "code",
   "execution_count": 84,
   "id": "cbbac025",
   "metadata": {},
   "outputs": [
    {
     "data": {
      "text/plain": [
       "('aye', 's', 'ha')"
      ]
     },
     "execution_count": 84,
     "metadata": {},
     "output_type": "execute_result"
    }
   ],
   "source": [
    "partition('ayesha','s')"
   ]
  },
  {
   "cell_type": "code",
   "execution_count": 94,
   "id": "823499c8",
   "metadata": {},
   "outputs": [],
   "source": [
    "# using find \n",
    "def strpartition(string, separator):\n",
    "    '''\n",
    "    partition() method splits the string at the first occurrence of the separator and returns a tuple containing the part before the separator, the separator, and the part after the separator. \n",
    "Parameters: \n",
    "* sep: a substring that separates the string\n",
    "Return:\n",
    "* Returns a tuple of 3 elements. The substring before the separator, the separator, the part after the separator\n",
    "    '''\n",
    "    separatorindex = -1\n",
    "    for i in range(len(string)):\n",
    "        if string[i:i+len(separator)] == separator:\n",
    "            separatorindex = i\n",
    "            break  \n",
    "    if separatorindex != -1:\n",
    "        beforeseparator = string[:separatorindex]\n",
    "        afterseparator = string[separatorindex + len(separator):]\n",
    "        return beforeseparator, separator, afterseparator\n",
    "    else:\n",
    "        return string, \"\", \"\""
   ]
  },
  {
   "cell_type": "code",
   "execution_count": 95,
   "id": "9ab7a430",
   "metadata": {},
   "outputs": [
    {
     "data": {
      "text/plain": [
       "'\\n    partition() method splits the string at the first occurrence of the separator and returns a tuple containing the part before the separator, the separator, and the part after the separator. \\nParameters: \\n* sep: a substring that separates the string\\nReturn:\\n* Returns a tuple of 3 elements. The substring before the separator, the separator, the part after the separator\\n    '"
      ]
     },
     "execution_count": 95,
     "metadata": {},
     "output_type": "execute_result"
    }
   ],
   "source": [
    "strpartition.__doc__"
   ]
  },
  {
   "cell_type": "code",
   "execution_count": 179,
   "id": "c1ab2574",
   "metadata": {},
   "outputs": [
    {
     "data": {
      "text/plain": [
       "('aye', 's', 'ha')"
      ]
     },
     "execution_count": 179,
     "metadata": {},
     "output_type": "execute_result"
    }
   ],
   "source": [
    "strpartition('ayesha','s') # three tokens"
   ]
  },
  {
   "cell_type": "code",
   "execution_count": 183,
   "id": "9930e644",
   "metadata": {},
   "outputs": [
    {
     "data": {
      "text/plain": [
       "('', 'a', 'yesha')"
      ]
     },
     "execution_count": 183,
     "metadata": {},
     "output_type": "execute_result"
    }
   ],
   "source": [
    "strpartition('ayesha','a') # three tokens"
   ]
  },
  {
   "cell_type": "code",
   "execution_count": 195,
   "id": "6373718b",
   "metadata": {},
   "outputs": [
    {
     "data": {
      "text/plain": [
       "('ayesha', '', '')"
      ]
     },
     "execution_count": 195,
     "metadata": {},
     "output_type": "execute_result"
    }
   ],
   "source": [
    "strpartition('ayesha','i')"
   ]
  },
  {
   "cell_type": "markdown",
   "id": "58ba7126",
   "metadata": {},
   "source": [
    "# 6. strrpartition()"
   ]
  },
  {
   "cell_type": "code",
   "execution_count": 96,
   "id": "9d3882be",
   "metadata": {},
   "outputs": [],
   "source": [
    "def strrpartition(string, separator):\n",
    "    '''\n",
    "         rpartition() Method split the given string into three parts.\n",
    "* rpartition() starts looking for separator from the right side, till the separator is found and return a tuple which contains part of the string before separator, the separator and the part after the separator.\n",
    " Parameters :  \n",
    "* separator –  separates the string at the first occurrence of it.\n",
    " Return Value : \n",
    "* It returns the part the string before the separator, separator parameter itself, and the part after the separator if the separator parameter is found in the string.\n",
    "* It returns two empty strings, followed by the given string if the separator is not found in the string \n",
    "    '''\n",
    "    separatorindex = -1\n",
    "    for i in range(len(string) - 1, -1, -1):\n",
    "        if string[i - len(separator) + 1:i + 1] == separator:\n",
    "            separatorindex = i - len(separator) + 1\n",
    "            break\n",
    "\n",
    "    if separatorindex != -1:\n",
    "        beforeseparator = string[:separatorindex]\n",
    "        afterseparator = string[separatorindex + len(separator):]\n",
    "        return beforeseparator, separator, afterseparator\n",
    "    else:\n",
    "        return \"\", \"\", string"
   ]
  },
  {
   "cell_type": "code",
   "execution_count": 98,
   "id": "97cd2efd",
   "metadata": {},
   "outputs": [
    {
     "data": {
      "text/plain": [
       "'\\n         rpartition() Method split the given string into three parts.\\n* rpartition() starts looking for separator from the right side, till the separator is found and return a tuple which contains part of the string before separator, the separator and the part after the separator.\\n Parameters :  \\n* separator –  separates the string at the first occurrence of it.\\n Return Value : \\n* It returns the part the string before the separator, separator parameter itself, and the part after the separator if the separator parameter is found in the string.\\n* It returns two empty strings, followed by the given string if the separator is not found in the string \\n    '"
      ]
     },
     "execution_count": 98,
     "metadata": {},
     "output_type": "execute_result"
    }
   ],
   "source": [
    "strrpartition.__doc__"
   ]
  },
  {
   "cell_type": "code",
   "execution_count": 193,
   "id": "1cd5b0b9",
   "metadata": {},
   "outputs": [
    {
     "data": {
      "text/plain": [
       "('ayesh', 'a', '')"
      ]
     },
     "execution_count": 193,
     "metadata": {},
     "output_type": "execute_result"
    }
   ],
   "source": [
    "strrpartition('ayesha','a')"
   ]
  },
  {
   "cell_type": "code",
   "execution_count": 194,
   "id": "94795335",
   "metadata": {},
   "outputs": [
    {
     "data": {
      "text/plain": [
       "('', '', 'ayesha')"
      ]
     },
     "execution_count": 194,
     "metadata": {},
     "output_type": "execute_result"
    }
   ],
   "source": [
    "strrpartition('ayesha','i')"
   ]
  },
  {
   "cell_type": "markdown",
   "id": "81fecfe2",
   "metadata": {},
   "source": [
    "# 7. strformat()"
   ]
  },
  {
   "cell_type": "code",
   "execution_count": 99,
   "id": "37182584",
   "metadata": {},
   "outputs": [],
   "source": [
    "def strformat(string, *args):\n",
    "    '''\n",
    "     The format() method is a powerful tool that allows developers to create formatted strings by embedding variables and values into placeholders within a template string. \n",
    "* This method offers a flexible and versatile way to construct textual output for a wide range of applications.\n",
    "* Python string format() function has been introduced for handling complex string formatting more efficiently.\n",
    "* Sometimes we want to make generalized print statements in that case instead of writing print statements every time we use the concept of formatting.\n",
    " Parameters: \n",
    "* *args : Can be an integer, floating point numeric constant, string, characters or even variables.\n",
    "Returntype:\n",
    "* Returns a formatted string with the value passed as parameter in the placeholder position. \n",
    "    '''\n",
    "    result = \"\"\n",
    "    i = 0\n",
    "    while i < len(string):\n",
    "        if string[i:i+2] == \"{}\":\n",
    "            if args:\n",
    "                result += str(args[0])\n",
    "                args = args[1:]\n",
    "            else:\n",
    "                raise ValueError(\"Not enough arguments for format string\")\n",
    "            i += 2  \n",
    "        else:\n",
    "            result += string[i]\n",
    "            i += 1\n",
    "    return result"
   ]
  },
  {
   "cell_type": "code",
   "execution_count": 100,
   "id": "8e82ad27",
   "metadata": {},
   "outputs": [
    {
     "data": {
      "text/plain": [
       "'\\n     The format() method is a powerful tool that allows developers to create formatted strings by embedding variables and values into placeholders within a template string. \\n* This method offers a flexible and versatile way to construct textual output for a wide range of applications.\\n* Python string format() function has been introduced for handling complex string formatting more efficiently.\\n* Sometimes we want to make generalized print statements in that case instead of writing print statements every time we use the concept of formatting.\\n Parameters: \\n* *args : Can be an integer, floating point numeric constant, string, characters or even variables.\\nReturntype:\\n* Returns a formatted string with the value passed as parameter in the placeholder position. '"
      ]
     },
     "execution_count": 100,
     "metadata": {},
     "output_type": "execute_result"
    }
   ],
   "source": [
    "strformat.__doc__"
   ]
  },
  {
   "cell_type": "code",
   "execution_count": 53,
   "id": "a4f4acb7",
   "metadata": {},
   "outputs": [
    {
     "data": {
      "text/plain": [
       "'Hello, Pooja! My name  is Ayesha.'"
      ]
     },
     "execution_count": 53,
     "metadata": {},
     "output_type": "execute_result"
    }
   ],
   "source": [
    "string = 'Hello, {}! My name  is {}.'\n",
    "strformat(string,'Pooja','Ayesha')"
   ]
  },
  {
   "cell_type": "markdown",
   "id": "46f1695e",
   "metadata": {},
   "source": [
    "# 8. strsplitlines() "
   ]
  },
  {
   "cell_type": "code",
   "execution_count": 105,
   "id": "d26b423d",
   "metadata": {},
   "outputs": [],
   "source": [
    "def strsplitlines(string):\n",
    "    '''\n",
    "    splitlines() method is used to split the lines at line boundaries. The function returns a list of lines in the string, including the line break(optional).\n",
    "Parameters:\n",
    " * This can be a number, specifying the position of line break or, can be any Unicode characters, like “\\n”, “\\r”, “\\r\\n”, etc as boundaries for strings.\n",
    "Return Value: \n",
    "* Returns a list of the lines in the string, breaking at line boundaries.\n",
    "\n",
    "     '''\n",
    "    lines = []\n",
    "    start = 0\n",
    "    for i in range(len(string)):\n",
    "        if string[i] == \". \":\n",
    "            lines.append(string[start:i])\n",
    "            start = i + 1\n",
    "    lines.append(string[start:])\n",
    "    return lines\n"
   ]
  },
  {
   "cell_type": "code",
   "execution_count": 106,
   "id": "24169d7b",
   "metadata": {},
   "outputs": [
    {
     "data": {
      "text/plain": [
       "'\\n    splitlines() method is used to split the lines at line boundaries. The function returns a list of lines in the string, including the line break(optional).\\nParameters:\\n * This can be a number, specifying the position of line break or, can be any Unicode characters, like “\\n”, “\\r”, “\\r\\n”, etc as boundaries for strings.\\nReturn Value: \\n* Returns a list of the lines in the string, breaking at line boundaries.\\n\\n     '"
      ]
     },
     "execution_count": 106,
     "metadata": {},
     "output_type": "execute_result"
    }
   ],
   "source": [
    "strsplitlines.__doc__"
   ]
  },
  {
   "cell_type": "code",
   "execution_count": 107,
   "id": "2d7fceb3",
   "metadata": {
    "scrolled": false
   },
   "outputs": [
    {
     "data": {
      "text/plain": [
       "['There are many types of essays you might write as a student. The content and length of an essay depends on your level, subject of study, and course requirements. However, most essays at university level are argumentative—they aim to persuade the reader of a particular position or perspective on a topic.']"
      ]
     },
     "execution_count": 107,
     "metadata": {},
     "output_type": "execute_result"
    }
   ],
   "source": [
    "strsplitlines('There are many types of essays you might write as a student. The content and length of an essay depends on your level, subject of study, and course requirements. However, most essays at university level are argumentative—they aim to persuade the reader of a particular position or perspective on a topic.')"
   ]
  },
  {
   "cell_type": "markdown",
   "id": "61e3b840",
   "metadata": {},
   "source": [
    "# 9. strsplit() "
   ]
  },
  {
   "cell_type": "code",
   "execution_count": 108,
   "id": "e36beb60",
   "metadata": {},
   "outputs": [],
   "source": [
    "def strsplit(string, sep, maxsplit):\n",
    "    '''\n",
    "     split() method in Python split a string into a list of strings after breaking the given string by the specified separator.\n",
    "##### Parameters :\n",
    "* sep: This is a delimiter. The string splits at this specified separator. If is not provided then any white space is a separator.\n",
    "* maxsplit: It is a number, which tells us to split the string into maximum of provided number of times. If it is not provided then the default is -1 that means there is no limit.\n",
    "##### Returns :\n",
    "* Returns a list of strings after breaking the given string by the specified separator.\n",
    "\n",
    "    '''\n",
    "    l = []\n",
    "    start = 0\n",
    "    count = 0\n",
    "    for _ in range(maxsplit):\n",
    "        end = string.find(sep, start)\n",
    "        if end == -1:\n",
    "            l.append(string[start:])\n",
    "            break\n",
    "        else:\n",
    "            l.append(string[start:end])\n",
    "            start = end + len(sep)\n",
    "    if start < len(string):\n",
    "        l.append(string[start:])\n",
    "    \n",
    "    return l"
   ]
  },
  {
   "cell_type": "code",
   "execution_count": 111,
   "id": "2ebfba57",
   "metadata": {},
   "outputs": [
    {
     "data": {
      "text/plain": [
       "'\\n     split() method in Python split a string into a list of strings after breaking the given string by the specified separator.\\n##### Parameters :\\n* sep: This is a delimiter. The string splits at this specified separator. If is not provided then any white space is a separator.\\n* maxsplit: It is a number, which tells us to split the string into maximum of provided number of times. If it is not provided then the default is -1 that means there is no limit.\\n##### Returns :\\n* Returns a list of strings after breaking the given string by the specified separator.\\n\\n    '"
      ]
     },
     "execution_count": 111,
     "metadata": {},
     "output_type": "execute_result"
    }
   ],
   "source": [
    "strsplit.__doc__ "
   ]
  },
  {
   "cell_type": "code",
   "execution_count": 110,
   "id": "40b143a0",
   "metadata": {},
   "outputs": [
    {
     "data": {
      "text/plain": [
       "['apple', 'orange', 'banana', 'grape', 'kiwi']"
      ]
     },
     "execution_count": 110,
     "metadata": {},
     "output_type": "execute_result"
    }
   ],
   "source": [
    "strsplit(\"apple,orange,banana,grape,kiwi\",',',4)"
   ]
  },
  {
   "cell_type": "markdown",
   "id": "64f621b4",
   "metadata": {},
   "source": [
    "# 10 strrsplit()"
   ]
  },
  {
   "cell_type": "code",
   "execution_count": 112,
   "id": "ade48653",
   "metadata": {},
   "outputs": [],
   "source": [
    "def strrsplit(string, sep, maxsplit):\n",
    "    ''' \n",
    "    rsplit() method returns a list of strings after breaking the given string from the right side by the specified separator.\n",
    " Parameters:  \n",
    "* sep: The is a delimiter. The string splits at this specified separator starting from the right side. If not provided then any white space character is a separator.\n",
    "* maxsplit: It is a number, which tells us to split the string into a maximum of provided number of times. If it is not provided then there is no limit.  \n",
    " Return: \n",
    "* Returns a list of strings after breaking the given string from the right side by the specified separator\n",
    "    \n",
    "    '''\n",
    "    l = []\n",
    "    end = len(string)\n",
    "    for _ in range(maxsplit):\n",
    "        start = string.rfind(delimiter, 0, end)\n",
    "        if start == -1:\n",
    "            l.insert(0,string[:end])\n",
    "            break\n",
    "        else:\n",
    "            l.insert(0,string[start:end])\n",
    "            end = start\n",
    "    if end > 0:\n",
    "        l.insert(0,string[:end])\n",
    "    \n",
    "    return l"
   ]
  },
  {
   "cell_type": "code",
   "execution_count": 113,
   "id": "75b4b9db",
   "metadata": {},
   "outputs": [
    {
     "data": {
      "text/plain": [
       "' \\n    rsplit() method returns a list of strings after breaking the given string from the right side by the specified separator.\\n Parameters:  \\n* sep: The is a delimiter. The string splits at this specified separator starting from the right side. If not provided then any white space character is a separator.\\n* maxsplit: It is a number, which tells us to split the string into a maximum of provided number of times. If it is not provided then there is no limit.  \\n Return: \\n* Returns a list of strings after breaking the given string from the right side by the specified separato'"
      ]
     },
     "execution_count": 113,
     "metadata": {},
     "output_type": "execute_result"
    }
   ],
   "source": [
    "strrsplit.__doc__"
   ]
  },
  {
   "cell_type": "code",
   "execution_count": 73,
   "id": "947ab59a",
   "metadata": {},
   "outputs": [
    {
     "data": {
      "text/plain": [
       "['apple,orange,banana', ',grape', ',kiwi']"
      ]
     },
     "execution_count": 73,
     "metadata": {},
     "output_type": "execute_result"
    }
   ],
   "source": [
    "strrsplit(\"apple,orange,banana,grape,kiwi\", ',', 2)"
   ]
  }
 ],
 "metadata": {
  "kernelspec": {
   "display_name": "Python 3 (ipykernel)",
   "language": "python",
   "name": "python3"
  },
  "language_info": {
   "codemirror_mode": {
    "name": "ipython",
    "version": 3
   },
   "file_extension": ".py",
   "mimetype": "text/x-python",
   "name": "python",
   "nbconvert_exporter": "python",
   "pygments_lexer": "ipython3",
   "version": "3.11.5"
  }
 },
 "nbformat": 4,
 "nbformat_minor": 5
}
