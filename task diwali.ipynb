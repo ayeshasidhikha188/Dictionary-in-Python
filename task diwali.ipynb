{
 "cells": [
  {
   "cell_type": "code",
   "execution_count": 5,
   "id": "ace4ccd1",
   "metadata": {},
   "outputs": [],
   "source": [
    "def str_removeprefix(string, prefix):\n",
    "    prefix_length = len(prefix)\n",
    "    if len(string) >= prefix_length and all(string[i] == prefix[i] for i in range(prefix_length)):\n",
    "        print(string[prefix_length:])\n",
    "    else:\n",
    "        print(string)"
   ]
  },
  {
   "cell_type": "code",
   "execution_count": 6,
   "id": "fd43ec90",
   "metadata": {},
   "outputs": [
    {
     "name": "stdout",
     "output_type": "stream",
     "text": [
      "srikanth\n"
     ]
    }
   ],
   "source": [
    "str_removeprefix(\"srikanth\",'kanth')"
   ]
  },
  {
   "cell_type": "code",
   "execution_count": 7,
   "id": "8e677d9b",
   "metadata": {},
   "outputs": [
    {
     "name": "stdout",
     "output_type": "stream",
     "text": [
      "kanth\n"
     ]
    }
   ],
   "source": [
    "str_removeprefix(\"srikanth\",'sri')"
   ]
  },
  {
   "cell_type": "code",
   "execution_count": 8,
   "id": "6e7b058c",
   "metadata": {},
   "outputs": [],
   "source": [
    "def str_removesuffix(string, suffix):\n",
    "    suffix_length = len(suffix)\n",
    "    if len(string) >= suffix_length and all(string[-i] == suffix[-i] for i in range(1, suffix_length + 1)): #cheaking weather string has suffix or not\n",
    "        print(string[:-suffix_length])\n",
    "    else:\n",
    "        print(string)"
   ]
  },
  {
   "cell_type": "code",
   "execution_count": 9,
   "id": "da4cae73",
   "metadata": {},
   "outputs": [
    {
     "name": "stdout",
     "output_type": "stream",
     "text": [
      "sri\n"
     ]
    }
   ],
   "source": [
    "str_removesuffix(\"srikanth\",'kanth')"
   ]
  },
  {
   "cell_type": "code",
   "execution_count": 10,
   "id": "19911883",
   "metadata": {},
   "outputs": [
    {
     "name": "stdout",
     "output_type": "stream",
     "text": [
      "srikanth\n"
     ]
    }
   ],
   "source": [
    "str_removesuffix(\"srikanth\",'sri')"
   ]
  },
  {
   "cell_type": "code",
   "execution_count": 11,
   "id": "fbeb1770",
   "metadata": {},
   "outputs": [],
   "source": [
    "def str_replace(string, old_substring, new_substring):\n",
    "    result = \"\"\n",
    "    i = 0\n",
    "    while i < len(string):\n",
    "        if string[i:i + len(old_substring)] == old_substring:\n",
    "            result += new_substring\n",
    "            i += len(old_substring)\n",
    "        else:\n",
    "            result += string[i]\n",
    "            i += 1\n",
    "    return result"
   ]
  },
  {
   "cell_type": "code",
   "execution_count": 12,
   "id": "94c3d417",
   "metadata": {},
   "outputs": [
    {
     "data": {
      "text/plain": [
       "'saigowtham'"
      ]
     },
     "execution_count": 12,
     "metadata": {},
     "output_type": "execute_result"
    }
   ],
   "source": [
    "str_replace(\"srikanth\",\"srikanth\",\"saigowtham\")"
   ]
  },
  {
   "cell_type": "code",
   "execution_count": 13,
   "id": "a6b79893",
   "metadata": {},
   "outputs": [
    {
     "data": {
      "text/plain": [
       "'saikanth'"
      ]
     },
     "execution_count": 13,
     "metadata": {},
     "output_type": "execute_result"
    }
   ],
   "source": [
    "str_replace(\"srikanth\",\"sri\",\"sai\")"
   ]
  },
  {
   "cell_type": "code",
   "execution_count": 14,
   "id": "2cb41081",
   "metadata": {},
   "outputs": [],
   "source": [
    "def Str_Upper(s):\n",
    "    z = ''\n",
    "    for ele in s:\n",
    "        if 97 <= ord(ele) <= 122:  # Check if the character is a lowercase letter\n",
    "            z += chr(ord(ele) - 32)  # Convert lowercase to uppercase using ASCII values\n",
    "        else:\n",
    "            z += ele  # Leave non-lowercase characters unchanged\n",
    "            \n",
    "    return z\n"
   ]
  },
  {
   "cell_type": "code",
   "execution_count": 15,
   "id": "4aeb3aa1",
   "metadata": {},
   "outputs": [
    {
     "data": {
      "text/plain": [
       "'SRI KANATH'"
      ]
     },
     "execution_count": 15,
     "metadata": {},
     "output_type": "execute_result"
    }
   ],
   "source": [
    " Str_Upper('sRi kaNatH')"
   ]
  },
  {
   "cell_type": "code",
   "execution_count": 16,
   "id": "f5efd52f",
   "metadata": {},
   "outputs": [],
   "source": [
    "def strisupper(string):\n",
    "    for char in string:\n",
    "        asciicode = ord(char)\n",
    "        if not (65 <= asciicode <= 90):\n",
    "            print('false')\n",
    "            return\n",
    "    print('true')"
   ]
  },
  {
   "cell_type": "code",
   "execution_count": 17,
   "id": "175b994a",
   "metadata": {},
   "outputs": [
    {
     "name": "stdout",
     "output_type": "stream",
     "text": [
      "false\n"
     ]
    }
   ],
   "source": [
    "strisupper('SrikantH')"
   ]
  },
  {
   "cell_type": "code",
   "execution_count": 18,
   "id": "47991569",
   "metadata": {},
   "outputs": [
    {
     "name": "stdout",
     "output_type": "stream",
     "text": [
      "false\n"
     ]
    }
   ],
   "source": [
    "strisupper('sdf')"
   ]
  },
  {
   "cell_type": "code",
   "execution_count": 19,
   "id": "8f7ff74d",
   "metadata": {},
   "outputs": [],
   "source": [
    "def strisspace(string):\n",
    "    for char in string:\n",
    "        if char != ' ' and char != '\\t' and char != '\\n':\n",
    "            return False\n",
    "    return True"
   ]
  },
  {
   "cell_type": "code",
   "execution_count": 20,
   "id": "b46501a9",
   "metadata": {},
   "outputs": [
    {
     "data": {
      "text/plain": [
       "False"
      ]
     },
     "execution_count": 20,
     "metadata": {},
     "output_type": "execute_result"
    }
   ],
   "source": [
    " strisspace('sri kanth')"
   ]
  },
  {
   "cell_type": "code",
   "execution_count": 21,
   "id": "c473417d",
   "metadata": {},
   "outputs": [
    {
     "data": {
      "text/plain": [
       "False"
      ]
     },
     "execution_count": 21,
     "metadata": {},
     "output_type": "execute_result"
    }
   ],
   "source": [
    "strisspace('srikanth')"
   ]
  },
  {
   "cell_type": "code",
   "execution_count": 22,
   "id": "5b12a2e5",
   "metadata": {},
   "outputs": [
    {
     "data": {
      "text/plain": [
       "False"
      ]
     },
     "execution_count": 22,
     "metadata": {},
     "output_type": "execute_result"
    }
   ],
   "source": [
    " strisspace('   sri kanth   ')"
   ]
  },
  {
   "cell_type": "code",
   "execution_count": 23,
   "id": "be7b13a2",
   "metadata": {},
   "outputs": [
    {
     "data": {
      "text/plain": [
       "False"
      ]
     },
     "execution_count": 23,
     "metadata": {},
     "output_type": "execute_result"
    }
   ],
   "source": [
    "strisspace(' s r i k a n t h ')"
   ]
  },
  {
   "cell_type": "code",
   "execution_count": 24,
   "id": "c2110360",
   "metadata": {},
   "outputs": [
    {
     "data": {
      "text/plain": [
       "True"
      ]
     },
     "execution_count": 24,
     "metadata": {},
     "output_type": "execute_result"
    }
   ],
   "source": [
    "strisspace('  ')"
   ]
  },
  {
   "cell_type": "code",
   "execution_count": 4,
   "id": "ecd54f14",
   "metadata": {},
   "outputs": [],
   "source": [
    "def str_title(string):\n",
    "    title = \"\"\n",
    "    capitalize_next = True\n",
    "\n",
    "    for char in string:  # Fix: Change 'sentence' to 'string'\n",
    "        if char == ' ' or char == '\\t':  # Check if the character is a space or a tab\n",
    "            capitalize_next = True\n",
    "            title += char\n",
    "        else:\n",
    "            if capitalize_next:  # Check if the next character should be capitalized\n",
    "                if 'a' <= char <= 'z':  # Check if the character is a lowercase letter\n",
    "                    title += chr(ord(char) - ord('a') + ord('A'))  # Convert the lowercase letter to uppercase using ASCII values\n",
    "                else:\n",
    "                    title += char\n",
    "                capitalize_next = False\n",
    "            else:\n",
    "                title += char\n",
    "\n",
    "    return title\n"
   ]
  },
  {
   "cell_type": "code",
   "execution_count": 5,
   "id": "1002b1ee",
   "metadata": {},
   "outputs": [
    {
     "data": {
      "text/plain": [
       "'Hii Hello This Is SrikantH'"
      ]
     },
     "execution_count": 5,
     "metadata": {},
     "output_type": "execute_result"
    }
   ],
   "source": [
    "str_title( 'hii hello this is srikantH')"
   ]
  },
  {
   "cell_type": "code",
   "execution_count": 6,
   "id": "092b5bc0",
   "metadata": {},
   "outputs": [],
   "source": [
    "def strisdecimal(string):\n",
    "    for char in string:\n",
    "        asciicode = ord(char)\n",
    "        if not (48 <= asciicode <= 58):\n",
    "            print('false')\n",
    "            return\n",
    "    print('true')"
   ]
  },
  {
   "cell_type": "code",
   "execution_count": 7,
   "id": "b70bdafb",
   "metadata": {},
   "outputs": [
    {
     "name": "stdout",
     "output_type": "stream",
     "text": [
      "true\n"
     ]
    }
   ],
   "source": [
    "strisdecimal(\"62782\")"
   ]
  },
  {
   "cell_type": "code",
   "execution_count": 8,
   "id": "3f352d1b",
   "metadata": {},
   "outputs": [
    {
     "name": "stdout",
     "output_type": "stream",
     "text": [
      "false\n"
     ]
    }
   ],
   "source": [
    "strisdecimal(\"627hsy82\")"
   ]
  },
  {
   "cell_type": "code",
   "execution_count": 9,
   "id": "8282dd34",
   "metadata": {},
   "outputs": [],
   "source": [
    "s = [1,2,3,4,5,6,7,7,8]"
   ]
  },
  {
   "cell_type": "code",
   "execution_count": 10,
   "id": "db7f9b41",
   "metadata": {},
   "outputs": [
    {
     "data": {
      "text/plain": [
       "[1, 2, 3, 4, 5, 6, 7, 7, 8]"
      ]
     },
     "execution_count": 10,
     "metadata": {},
     "output_type": "execute_result"
    }
   ],
   "source": [
    "s[0:]"
   ]
  },
  {
   "cell_type": "code",
   "execution_count": 13,
   "id": "a73686a2",
   "metadata": {},
   "outputs": [
    {
     "name": "stdout",
     "output_type": "stream",
     "text": [
      "Enter the original string: hgtgg\n",
      "Enter the desired width: 9\n",
      "Padded String: 0000hgtgg\n"
     ]
    }
   ],
   "source": [
    "def custom_zfill(original_string, width):\n",
    "    if len(original_string) >= width:\n",
    "        return original_string\n",
    "    else:\n",
    "        num_zeros = width - len(original_string)\n",
    "        padded_string = '0' * num_zeros + original_string\n",
    "        return padded_string\n",
    "\n",
    "# Get user input\n",
    "original_string = input(\"Enter the original string: \")\n",
    "width = int(input(\"Enter the desired width: \"))\n",
    "\n",
    "# Call the custom_zfill function\n",
    "result = custom_zfill(original_string, width)\n",
    "\n",
    "# Print the result\n",
    "print(\"Padded String:\", result)\n"
   ]
  },
  {
   "cell_type": "code",
   "execution_count": null,
   "id": "91712c11",
   "metadata": {},
   "outputs": [],
   "source": []
  }
 ],
 "metadata": {
  "kernelspec": {
   "display_name": "Python 3 (ipykernel)",
   "language": "python",
   "name": "python3"
  },
  "language_info": {
   "codemirror_mode": {
    "name": "ipython",
    "version": 3
   },
   "file_extension": ".py",
   "mimetype": "text/x-python",
   "name": "python",
   "nbconvert_exporter": "python",
   "pygments_lexer": "ipython3",
   "version": "3.11.5"
  }
 },
 "nbformat": 4,
 "nbformat_minor": 5
}
