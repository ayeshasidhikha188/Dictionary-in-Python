{
 "cells": [
  {
   "cell_type": "markdown",
   "id": "082ef2fb",
   "metadata": {},
   "source": [
    "# Pattern Programs(10-11-23)\n",
    "\n",
    "# Patterns\n",
    "* Patterns can be printed in python using simple for loops.\n",
    "* First outer loop is used to handle the number of rows and the Inner nested loop is used to handle the number of columns. \n",
    "* Manipulating the print statements, different number patterns, alphabet patterns, or star patterns can be printed."
   ]
  },
  {
   "cell_type": "markdown",
   "id": "e75b5f14",
   "metadata": {},
   "source": [
    "# 1. Square Pattern"
   ]
  },
  {
   "cell_type": "markdown",
   "id": "7087ec77",
   "metadata": {},
   "source": [
    "### using loop"
   ]
  },
  {
   "cell_type": "code",
   "execution_count": 82,
   "id": "0f49f408",
   "metadata": {},
   "outputs": [
    {
     "name": "stdout",
     "output_type": "stream",
     "text": [
      "* * * * * * * * * * \n",
      "* * * * * * * * * * \n",
      "* * * * * * * * * * \n",
      "* * * * * * * * * * \n",
      "* * * * * * * * * * \n",
      "* * * * * * * * * * \n",
      "* * * * * * * * * * \n",
      "* * * * * * * * * * \n",
      "* * * * * * * * * * \n",
      "* * * * * * * * * * \n"
     ]
    }
   ],
   "source": [
    "# using for loop \n",
    "r=10\n",
    "for i in range(1,r+1):\n",
    "    for j in range(1,r+1):\n",
    "        print('*', end=' ')\n",
    "    print()\n",
    "    "
   ]
  },
  {
   "cell_type": "code",
   "execution_count": 81,
   "id": "74d63759",
   "metadata": {},
   "outputs": [
    {
     "name": "stdout",
     "output_type": "stream",
     "text": [
      "1 2 3 4 5 6 7 8 9 10 \n",
      "1 2 3 4 5 6 7 8 9 10 \n",
      "1 2 3 4 5 6 7 8 9 10 \n",
      "1 2 3 4 5 6 7 8 9 10 \n",
      "1 2 3 4 5 6 7 8 9 10 \n",
      "1 2 3 4 5 6 7 8 9 10 \n",
      "1 2 3 4 5 6 7 8 9 10 \n",
      "1 2 3 4 5 6 7 8 9 10 \n",
      "1 2 3 4 5 6 7 8 9 10 \n",
      "1 2 3 4 5 6 7 8 9 10 \n"
     ]
    }
   ],
   "source": [
    "r=10\n",
    "for i in range(1,r+1):\n",
    "    for j in range(1,r+1):\n",
    "        print(j, end=' ')\n",
    "    print()"
   ]
  },
  {
   "cell_type": "markdown",
   "id": "9d2ffc36",
   "metadata": {},
   "source": [
    "### using function"
   ]
  },
  {
   "cell_type": "code",
   "execution_count": 79,
   "id": "85690780",
   "metadata": {},
   "outputs": [],
   "source": [
    "def square(r,char):\n",
    "    for i in range(1,r+1):\n",
    "        for j in range(1,r+1):\n",
    "            print(char,end=' ')\n",
    "        print()"
   ]
  },
  {
   "cell_type": "code",
   "execution_count": 80,
   "id": "a231d25f",
   "metadata": {},
   "outputs": [
    {
     "name": "stdout",
     "output_type": "stream",
     "text": [
      "* * * * * * * * * * \n",
      "* * * * * * * * * * \n",
      "* * * * * * * * * * \n",
      "* * * * * * * * * * \n",
      "* * * * * * * * * * \n",
      "* * * * * * * * * * \n",
      "* * * * * * * * * * \n",
      "* * * * * * * * * * \n",
      "* * * * * * * * * * \n",
      "* * * * * * * * * * \n"
     ]
    }
   ],
   "source": [
    "square(10,'*')"
   ]
  },
  {
   "cell_type": "code",
   "execution_count": 77,
   "id": "9ca5c912",
   "metadata": {},
   "outputs": [],
   "source": [
    "def square(r,char):\n",
    "    for i in range(1,r+1):\n",
    "        for j in range(1,r+1):\n",
    "            print(j,end=' ')\n",
    "        print()\n",
    "    "
   ]
  },
  {
   "cell_type": "code",
   "execution_count": 78,
   "id": "e5280a7b",
   "metadata": {},
   "outputs": [
    {
     "name": "stdout",
     "output_type": "stream",
     "text": [
      "1 2 3 4 5 6 7 8 9 10 \n",
      "1 2 3 4 5 6 7 8 9 10 \n",
      "1 2 3 4 5 6 7 8 9 10 \n",
      "1 2 3 4 5 6 7 8 9 10 \n",
      "1 2 3 4 5 6 7 8 9 10 \n",
      "1 2 3 4 5 6 7 8 9 10 \n",
      "1 2 3 4 5 6 7 8 9 10 \n",
      "1 2 3 4 5 6 7 8 9 10 \n",
      "1 2 3 4 5 6 7 8 9 10 \n",
      "1 2 3 4 5 6 7 8 9 10 \n"
     ]
    }
   ],
   "source": [
    "square(10,'*')"
   ]
  },
  {
   "cell_type": "markdown",
   "id": "980d2c14",
   "metadata": {},
   "source": [
    "# 2. Rectangle pattern"
   ]
  },
  {
   "cell_type": "markdown",
   "id": "f6470844",
   "metadata": {},
   "source": [
    "### Using loop"
   ]
  },
  {
   "cell_type": "code",
   "execution_count": 75,
   "id": "3dc828d6",
   "metadata": {},
   "outputs": [
    {
     "name": "stdout",
     "output_type": "stream",
     "text": [
      "* * * * * * * * * * \n",
      "* * * * * * * * * * \n",
      "* * * * * * * * * * \n",
      "* * * * * * * * * * \n",
      "* * * * * * * * * * \n"
     ]
    }
   ],
   "source": [
    "r=5\n",
    "c=10\n",
    "for i in range(1,6):\n",
    "    for j in range(1,11):\n",
    "        print('*',end=' ')\n",
    "    print()"
   ]
  },
  {
   "cell_type": "code",
   "execution_count": 74,
   "id": "e171c850",
   "metadata": {},
   "outputs": [
    {
     "name": "stdout",
     "output_type": "stream",
     "text": [
      "1 2 3 4 5 6 7 8 9 10 \n",
      "1 2 3 4 5 6 7 8 9 10 \n",
      "1 2 3 4 5 6 7 8 9 10 \n",
      "1 2 3 4 5 6 7 8 9 10 \n",
      "1 2 3 4 5 6 7 8 9 10 \n"
     ]
    }
   ],
   "source": [
    "r=5\n",
    "c=10\n",
    "for i in range(1,6):\n",
    "    for j in range(1,11):\n",
    "        print(j, end=' ')\n",
    "    print()"
   ]
  },
  {
   "cell_type": "markdown",
   "id": "5a7374e7",
   "metadata": {},
   "source": [
    "### using function"
   ]
  },
  {
   "cell_type": "code",
   "execution_count": 71,
   "id": "051b4f7a",
   "metadata": {},
   "outputs": [],
   "source": [
    "def rectangle(r,c):\n",
    "    for i in range(1,r+1):\n",
    "        for j in range(1,c+1):\n",
    "            print('*',end=' ')\n",
    "        print()"
   ]
  },
  {
   "cell_type": "code",
   "execution_count": 72,
   "id": "82711cf0",
   "metadata": {},
   "outputs": [
    {
     "name": "stdout",
     "output_type": "stream",
     "text": [
      "* * * * * * * * * * \n",
      "* * * * * * * * * * \n",
      "* * * * * * * * * * \n",
      "* * * * * * * * * * \n",
      "* * * * * * * * * * \n"
     ]
    }
   ],
   "source": [
    "rectangle(5,10)"
   ]
  },
  {
   "cell_type": "code",
   "execution_count": 69,
   "id": "4bb0148c",
   "metadata": {},
   "outputs": [],
   "source": [
    "def rectangle(r,c):\n",
    "    for i in range(1,r+1):\n",
    "        for j in range(1,c+1):\n",
    "            print(j,end=' ')\n",
    "        print()"
   ]
  },
  {
   "cell_type": "code",
   "execution_count": 70,
   "id": "fc1c3377",
   "metadata": {},
   "outputs": [
    {
     "name": "stdout",
     "output_type": "stream",
     "text": [
      "1 2 3 4 5 6 7 8 9 10 \n",
      "1 2 3 4 5 6 7 8 9 10 \n",
      "1 2 3 4 5 6 7 8 9 10 \n",
      "1 2 3 4 5 6 7 8 9 10 \n",
      "1 2 3 4 5 6 7 8 9 10 \n"
     ]
    }
   ],
   "source": [
    "rectangle(5,10)"
   ]
  },
  {
   "cell_type": "markdown",
   "id": "d567ec82",
   "metadata": {},
   "source": [
    "# 3. Triangle  Pattern\n",
    "### using for loop"
   ]
  },
  {
   "cell_type": "code",
   "execution_count": 67,
   "id": "e2a999e1",
   "metadata": {},
   "outputs": [
    {
     "name": "stdout",
     "output_type": "stream",
     "text": [
      "                    * \n",
      "                  * * * \n",
      "                * * * * * \n",
      "              * * * * * * * \n",
      "            * * * * * * * * * \n",
      "          * * * * * * * * * * * \n",
      "        * * * * * * * * * * * * * \n",
      "      * * * * * * * * * * * * * * * \n",
      "    * * * * * * * * * * * * * * * * * \n",
      "  * * * * * * * * * * * * * * * * * * * \n"
     ]
    }
   ],
   "source": [
    "n=10\n",
    "for i in range(n):\n",
    "    for j in range(i,n):\n",
    "        print(' ',end=' ')\n",
    "    for j in range(i):\n",
    "        print('*',end=' ')\n",
    "    for j in range(i+1):\n",
    "        print('*',end=' ')\n",
    "    print()"
   ]
  },
  {
   "cell_type": "code",
   "execution_count": 66,
   "id": "610da38f",
   "metadata": {},
   "outputs": [
    {
     "name": "stdout",
     "output_type": "stream",
     "text": [
      "                    0 \n",
      "                  0 0 1 \n",
      "                0 1 0 1 2 \n",
      "              0 1 2 0 1 2 3 \n",
      "            0 1 2 3 0 1 2 3 4 \n",
      "          0 1 2 3 4 0 1 2 3 4 5 \n",
      "        0 1 2 3 4 5 0 1 2 3 4 5 6 \n",
      "      0 1 2 3 4 5 6 0 1 2 3 4 5 6 7 \n",
      "    0 1 2 3 4 5 6 7 0 1 2 3 4 5 6 7 8 \n",
      "  0 1 2 3 4 5 6 7 8 0 1 2 3 4 5 6 7 8 9 \n"
     ]
    }
   ],
   "source": [
    "n=10\n",
    "for i in range(n):\n",
    "    for j in range(i,n):\n",
    "        print(' ',end=' ')\n",
    "    for j in range(i):\n",
    "        print(j,end=' ')\n",
    "    for j in range(i+1):\n",
    "        print(j,end=' ')\n",
    "    print()"
   ]
  },
  {
   "cell_type": "markdown",
   "id": "12b37e5c",
   "metadata": {},
   "source": [
    "### using function"
   ]
  },
  {
   "cell_type": "code",
   "execution_count": 64,
   "id": "3a575696",
   "metadata": {},
   "outputs": [],
   "source": [
    "def triangle(r):\n",
    "    for i in range(0,n):\n",
    "        for j in range(0,n-i):\n",
    "            print(end=' ')\n",
    "        for j in range(0,2*i+1):\n",
    "            print('*',end=' ')\n",
    "        print()"
   ]
  },
  {
   "cell_type": "code",
   "execution_count": 65,
   "id": "235431ac",
   "metadata": {},
   "outputs": [
    {
     "name": "stdout",
     "output_type": "stream",
     "text": [
      "          * \n",
      "         * * * \n",
      "        * * * * * \n",
      "       * * * * * * * \n",
      "      * * * * * * * * * \n",
      "     * * * * * * * * * * * \n",
      "    * * * * * * * * * * * * * \n",
      "   * * * * * * * * * * * * * * * \n",
      "  * * * * * * * * * * * * * * * * * \n",
      " * * * * * * * * * * * * * * * * * * * \n"
     ]
    }
   ],
   "source": [
    "triangle(10)"
   ]
  },
  {
   "cell_type": "code",
   "execution_count": 62,
   "id": "3089510c",
   "metadata": {},
   "outputs": [],
   "source": [
    "def triangle(r):\n",
    "    for i in range(0,n):\n",
    "        for j in range(0,n-i-1):\n",
    "            print(end=' ')\n",
    "        for j in range(0,2*i+1):\n",
    "            print(j,end=' ')\n",
    "        print()"
   ]
  },
  {
   "cell_type": "code",
   "execution_count": 63,
   "id": "b9103ab6",
   "metadata": {},
   "outputs": [
    {
     "name": "stdout",
     "output_type": "stream",
     "text": [
      "         0 \n",
      "        0 1 2 \n",
      "       0 1 2 3 4 \n",
      "      0 1 2 3 4 5 6 \n",
      "     0 1 2 3 4 5 6 7 8 \n",
      "    0 1 2 3 4 5 6 7 8 9 10 \n",
      "   0 1 2 3 4 5 6 7 8 9 10 11 12 \n",
      "  0 1 2 3 4 5 6 7 8 9 10 11 12 13 14 \n",
      " 0 1 2 3 4 5 6 7 8 9 10 11 12 13 14 15 16 \n",
      "0 1 2 3 4 5 6 7 8 9 10 11 12 13 14 15 16 17 18 \n"
     ]
    }
   ],
   "source": [
    "triangle(10)"
   ]
  },
  {
   "cell_type": "markdown",
   "id": "0c0583e5",
   "metadata": {},
   "source": [
    "# 4. Right Angled Triangle Pattern(hypotheneous right side)\n",
    "### using for loop"
   ]
  },
  {
   "cell_type": "code",
   "execution_count": 60,
   "id": "ad064b01",
   "metadata": {},
   "outputs": [
    {
     "name": "stdout",
     "output_type": "stream",
     "text": [
      "* \n",
      "* * \n",
      "* * * \n",
      "* * * * \n",
      "* * * * * \n",
      "* * * * * * \n",
      "* * * * * * * \n",
      "* * * * * * * * \n",
      "* * * * * * * * * \n",
      "* * * * * * * * * * \n"
     ]
    }
   ],
   "source": [
    "r=10\n",
    "for i in range(1,r+1):\n",
    "    for j in range(i):\n",
    "        print('*', end=' ')\n",
    "    print()"
   ]
  },
  {
   "cell_type": "code",
   "execution_count": 59,
   "id": "5778f265",
   "metadata": {},
   "outputs": [
    {
     "name": "stdout",
     "output_type": "stream",
     "text": [
      "0 \n",
      "0 1 \n",
      "0 1 2 \n",
      "0 1 2 3 \n",
      "0 1 2 3 4 \n",
      "0 1 2 3 4 5 \n",
      "0 1 2 3 4 5 6 \n",
      "0 1 2 3 4 5 6 7 \n",
      "0 1 2 3 4 5 6 7 8 \n",
      "0 1 2 3 4 5 6 7 8 9 \n"
     ]
    }
   ],
   "source": [
    "r=10\n",
    "for i in range(1,r+1):\n",
    "    for j in range(i):\n",
    "        print(j, end=' ')\n",
    "    print()"
   ]
  },
  {
   "cell_type": "code",
   "execution_count": 58,
   "id": "fc4ac1aa",
   "metadata": {},
   "outputs": [
    {
     "name": "stdout",
     "output_type": "stream",
     "text": [
      "* * * * * * * * * * \n",
      "* * * * * * * * * \n",
      "* * * * * * * * \n",
      "* * * * * * * \n",
      "* * * * * * \n",
      "* * * * * \n",
      "* * * * \n",
      "* * * \n",
      "* * \n",
      "* \n"
     ]
    }
   ],
   "source": [
    "# reverse right angled triangle using loop\n",
    "r=10\n",
    "for i in range(10,0,-1):\n",
    "    for j in range(i):\n",
    "        print('*', end=' ')\n",
    "    print()"
   ]
  },
  {
   "cell_type": "code",
   "execution_count": 57,
   "id": "f7338e2b",
   "metadata": {},
   "outputs": [
    {
     "name": "stdout",
     "output_type": "stream",
     "text": [
      "0 1 2 3 4 5 6 7 8 9 \n",
      "0 1 2 3 4 5 6 7 8 \n",
      "0 1 2 3 4 5 6 7 \n",
      "0 1 2 3 4 5 6 \n",
      "0 1 2 3 4 5 \n",
      "0 1 2 3 4 \n",
      "0 1 2 3 \n",
      "0 1 2 \n",
      "0 1 \n",
      "0 \n"
     ]
    }
   ],
   "source": [
    "r=10\n",
    "for i in range(10,0,-1):\n",
    "    for j in range(i):\n",
    "        print(j, end=' ')\n",
    "    print()"
   ]
  },
  {
   "cell_type": "markdown",
   "id": "eeefea7e",
   "metadata": {},
   "source": [
    "### right angle triangle using function"
   ]
  },
  {
   "cell_type": "code",
   "execution_count": 91,
   "id": "a751f0bb",
   "metadata": {},
   "outputs": [],
   "source": [
    "def righthyp(r,c):\n",
    "    for i in range(1,r+1):\n",
    "        for j in range(i):\n",
    "            print(c,end=' ')\n",
    "        print()"
   ]
  },
  {
   "cell_type": "code",
   "execution_count": 55,
   "id": "2869462e",
   "metadata": {},
   "outputs": [
    {
     "name": "stdout",
     "output_type": "stream",
     "text": [
      "0 \n",
      "0 1 \n",
      "0 1 2 \n",
      "0 1 2 3 \n",
      "0 1 2 3 4 \n",
      "0 1 2 3 4 5 \n",
      "0 1 2 3 4 5 6 \n",
      "0 1 2 3 4 5 6 7 \n",
      "0 1 2 3 4 5 6 7 8 \n",
      "0 1 2 3 4 5 6 7 8 9 \n"
     ]
    }
   ],
   "source": [
    "righthyp(10,'*')"
   ]
  },
  {
   "cell_type": "code",
   "execution_count": 52,
   "id": "0ba8073d",
   "metadata": {},
   "outputs": [],
   "source": [
    "def righthyp(r,c):\n",
    "    for i in range(1,r+1):\n",
    "        for j in range(i):\n",
    "            print(j,end=' ')\n",
    "        print()"
   ]
  },
  {
   "cell_type": "code",
   "execution_count": 53,
   "id": "cdc3ae48",
   "metadata": {},
   "outputs": [
    {
     "name": "stdout",
     "output_type": "stream",
     "text": [
      "0 \n",
      "0 1 \n",
      "0 1 2 \n",
      "0 1 2 3 \n",
      "0 1 2 3 4 \n",
      "0 1 2 3 4 5 \n",
      "0 1 2 3 4 5 6 \n",
      "0 1 2 3 4 5 6 7 \n",
      "0 1 2 3 4 5 6 7 8 \n",
      "0 1 2 3 4 5 6 7 8 9 \n"
     ]
    }
   ],
   "source": [
    "righthyp(10,'*')"
   ]
  },
  {
   "cell_type": "code",
   "execution_count": 54,
   "id": "f33ae49c",
   "metadata": {},
   "outputs": [],
   "source": [
    "# reverse right angle triangle using function"
   ]
  },
  {
   "cell_type": "code",
   "execution_count": 97,
   "id": "8a628844",
   "metadata": {},
   "outputs": [],
   "source": [
    "def revrythyp(r,c):\n",
    "    for i in range(10,0,-1):\n",
    "        for j in range(i):\n",
    "            print(c,end=' ')\n",
    "        print()"
   ]
  },
  {
   "cell_type": "code",
   "execution_count": 50,
   "id": "a88fe430",
   "metadata": {},
   "outputs": [
    {
     "name": "stdout",
     "output_type": "stream",
     "text": [
      "0 1 2 3 4 5 6 7 8 9 \n",
      "0 1 2 3 4 5 6 7 8 \n",
      "0 1 2 3 4 5 6 7 \n",
      "0 1 2 3 4 5 6 \n",
      "0 1 2 3 4 5 \n",
      "0 1 2 3 4 \n",
      "0 1 2 3 \n",
      "0 1 2 \n",
      "0 1 \n",
      "0 \n"
     ]
    }
   ],
   "source": [
    "revrythyp(10,'*')"
   ]
  },
  {
   "cell_type": "code",
   "execution_count": 48,
   "id": "50a66160",
   "metadata": {},
   "outputs": [],
   "source": [
    "def revrythyp(r,c):\n",
    "    for i in range(10,0,-1):\n",
    "        for j in range(i):\n",
    "            print(j,end=' ')\n",
    "        print()"
   ]
  },
  {
   "cell_type": "code",
   "execution_count": 49,
   "id": "b64af616",
   "metadata": {},
   "outputs": [
    {
     "name": "stdout",
     "output_type": "stream",
     "text": [
      "0 1 2 3 4 5 6 7 8 9 \n",
      "0 1 2 3 4 5 6 7 8 \n",
      "0 1 2 3 4 5 6 7 \n",
      "0 1 2 3 4 5 6 \n",
      "0 1 2 3 4 5 \n",
      "0 1 2 3 4 \n",
      "0 1 2 3 \n",
      "0 1 2 \n",
      "0 1 \n",
      "0 \n"
     ]
    }
   ],
   "source": [
    "revrythyp(10,'*')"
   ]
  },
  {
   "cell_type": "markdown",
   "id": "45461769",
   "metadata": {},
   "source": [
    "# 5. Right Angle Triangle Pattern( hypotheneous on left side)"
   ]
  },
  {
   "cell_type": "markdown",
   "id": "fe234787",
   "metadata": {},
   "source": [
    "### using loop"
   ]
  },
  {
   "cell_type": "code",
   "execution_count": 43,
   "id": "875cca24",
   "metadata": {},
   "outputs": [
    {
     "name": "stdout",
     "output_type": "stream",
     "text": [
      "                  * \n",
      "                * * \n",
      "              * * * \n",
      "            * * * * \n",
      "          * * * * * \n",
      "        * * * * * * \n",
      "      * * * * * * * \n",
      "    * * * * * * * * \n",
      "  * * * * * * * * * \n",
      "* * * * * * * * * * \n"
     ]
    }
   ],
   "source": [
    "n=10\n",
    "for i in range(1,r+1):\n",
    "    for j in range(r,i,-1):\n",
    "        print(' ',end=' ')\n",
    "    for j in range(1,i+1):\n",
    "        print('*',end=' ')\n",
    "    print()"
   ]
  },
  {
   "cell_type": "code",
   "execution_count": 42,
   "id": "003b8cd2",
   "metadata": {},
   "outputs": [
    {
     "name": "stdout",
     "output_type": "stream",
     "text": [
      "                  1 \n",
      "                1 2 \n",
      "              1 2 3 \n",
      "            1 2 3 4 \n",
      "          1 2 3 4 5 \n",
      "        1 2 3 4 5 6 \n",
      "      1 2 3 4 5 6 7 \n",
      "    1 2 3 4 5 6 7 8 \n",
      "  1 2 3 4 5 6 7 8 9 \n",
      "1 2 3 4 5 6 7 8 9 10 \n"
     ]
    }
   ],
   "source": [
    "n=10\n",
    "for i in range(1,r+1):\n",
    "    for j in range(r,i,-1):\n",
    "        print(' ',end=' ')\n",
    "    for j in range(1,i+1):\n",
    "        print(j,end=' ')\n",
    "    print()"
   ]
  },
  {
   "cell_type": "markdown",
   "id": "8f44aae0",
   "metadata": {},
   "source": [
    "### using function"
   ]
  },
  {
   "cell_type": "code",
   "execution_count": 40,
   "id": "26984b12",
   "metadata": {},
   "outputs": [],
   "source": [
    "def lefthyp(r):\n",
    "    for i in range(1,r+1):\n",
    "        for j in range(r,i,-1):\n",
    "            print(\" \", end=\"\")\n",
    "        for k in range(1,i + 1):\n",
    "            print(\"*\", end=\"\")\n",
    "        print()"
   ]
  },
  {
   "cell_type": "code",
   "execution_count": 41,
   "id": "21796455",
   "metadata": {},
   "outputs": [
    {
     "name": "stdout",
     "output_type": "stream",
     "text": [
      "         *\n",
      "        **\n",
      "       ***\n",
      "      ****\n",
      "     *****\n",
      "    ******\n",
      "   *******\n",
      "  ********\n",
      " *********\n",
      "**********\n"
     ]
    }
   ],
   "source": [
    "lefthyp(10)"
   ]
  },
  {
   "cell_type": "code",
   "execution_count": 37,
   "id": "5a89fbe7",
   "metadata": {},
   "outputs": [],
   "source": [
    "def lefthyp(r):\n",
    "    for i in range(1,r+1):\n",
    "        for j in range(r,i,-1):\n",
    "            print(\" \", end=\"\")\n",
    "        for k in range(1,i + 1):\n",
    "            print(j, end=\"\")\n",
    "        print()"
   ]
  },
  {
   "cell_type": "code",
   "execution_count": 38,
   "id": "892e548f",
   "metadata": {},
   "outputs": [
    {
     "name": "stdout",
     "output_type": "stream",
     "text": [
      "         2\n",
      "        33\n",
      "       444\n",
      "      5555\n",
      "     66666\n",
      "    777777\n",
      "   8888888\n",
      "  99999999\n",
      " 101010101010101010\n",
      "10101010101010101010\n"
     ]
    }
   ],
   "source": [
    "lefthyp(10)"
   ]
  },
  {
   "cell_type": "markdown",
   "id": "02d24315",
   "metadata": {},
   "source": [
    "# 6. Pyramid Pattern"
   ]
  },
  {
   "cell_type": "markdown",
   "id": "ba00dd40",
   "metadata": {},
   "source": [
    "### using  for loop"
   ]
  },
  {
   "cell_type": "code",
   "execution_count": 36,
   "id": "819d5433",
   "metadata": {},
   "outputs": [
    {
     "name": "stdout",
     "output_type": "stream",
     "text": [
      "         *\n",
      "        ***\n",
      "       *****\n",
      "      *******\n",
      "     *********\n",
      "    ***********\n",
      "   *************\n",
      "  ***************\n",
      " *****************\n",
      "*******************\n"
     ]
    }
   ],
   "source": [
    "rows=10\n",
    "for i in range(1, rows + 1):\n",
    "        for j in range(rows - i):\n",
    "            print(\" \", end=\"\")\n",
    "        for j in range(2 * i - 1):\n",
    "            print(\"*\", end=\"\")\n",
    "        print()"
   ]
  },
  {
   "cell_type": "code",
   "execution_count": 35,
   "id": "b91adfdf",
   "metadata": {},
   "outputs": [
    {
     "name": "stdout",
     "output_type": "stream",
     "text": [
      "         0\n",
      "        012\n",
      "       01234\n",
      "      0123456\n",
      "     012345678\n",
      "    012345678910\n",
      "   0123456789101112\n",
      "  01234567891011121314\n",
      " 012345678910111213141516\n",
      "0123456789101112131415161718\n"
     ]
    }
   ],
   "source": [
    "rows=10\n",
    "for i in range(1, rows + 1):\n",
    "        for j in range(rows - i):\n",
    "            print(\" \", end=\"\")\n",
    "        for j in range(2 * i - 1):\n",
    "            print(j, end=\"\")\n",
    "        print()"
   ]
  },
  {
   "cell_type": "markdown",
   "id": "76d150f6",
   "metadata": {},
   "source": [
    "### using function"
   ]
  },
  {
   "cell_type": "code",
   "execution_count": 33,
   "id": "d56ea402",
   "metadata": {},
   "outputs": [],
   "source": [
    "def pyramid(r):\n",
    "    for i in range(0,r):\n",
    "        for j in range(0,r-i-1):\n",
    "            print(\" \", end=\"\")\n",
    "        for k in range(0,2*i+1):\n",
    "            print(\"*\", end=\"\")\n",
    "        print()"
   ]
  },
  {
   "cell_type": "code",
   "execution_count": 34,
   "id": "c1ce2c18",
   "metadata": {},
   "outputs": [
    {
     "name": "stdout",
     "output_type": "stream",
     "text": [
      "         *\n",
      "        ***\n",
      "       *****\n",
      "      *******\n",
      "     *********\n",
      "    ***********\n",
      "   *************\n",
      "  ***************\n",
      " *****************\n",
      "*******************\n"
     ]
    }
   ],
   "source": [
    "pyramid(10)"
   ]
  },
  {
   "cell_type": "code",
   "execution_count": 31,
   "id": "dabdd912",
   "metadata": {},
   "outputs": [],
   "source": [
    "def pyramid(r):\n",
    "    for i in range(0,r):\n",
    "        for j in range(0,r-i-1):\n",
    "            print(\" \", end=\"\")\n",
    "        for k in range(0,2*i+1):\n",
    "            print(j, end=\"\")\n",
    "        print()"
   ]
  },
  {
   "cell_type": "code",
   "execution_count": 32,
   "id": "e2207ebf",
   "metadata": {},
   "outputs": [
    {
     "name": "stdout",
     "output_type": "stream",
     "text": [
      "         8\n",
      "        777\n",
      "       66666\n",
      "      5555555\n",
      "     444444444\n",
      "    33333333333\n",
      "   2222222222222\n",
      "  111111111111111\n",
      " 00000000000000000\n",
      "0000000000000000000\n"
     ]
    }
   ],
   "source": [
    "pyramid(10)"
   ]
  },
  {
   "cell_type": "markdown",
   "id": "07e6a4ef",
   "metadata": {},
   "source": [
    "# 7. Inverted Pyramid Pattern"
   ]
  },
  {
   "cell_type": "markdown",
   "id": "31f4750a",
   "metadata": {},
   "source": [
    "### Using For Loop"
   ]
  },
  {
   "cell_type": "code",
   "execution_count": 29,
   "id": "ac7ce7f8",
   "metadata": {},
   "outputs": [
    {
     "name": "stdout",
     "output_type": "stream",
     "text": [
      "* * * * * * * * * * \n",
      " * * * * * * * * * \n",
      "  * * * * * * * * \n",
      "   * * * * * * * \n",
      "    * * * * * * \n",
      "     * * * * * \n",
      "      * * * * \n",
      "       * * * \n",
      "        * * \n",
      "         * \n"
     ]
    }
   ],
   "source": [
    "r=10\n",
    "for i in range(r, 0, -1):\n",
    "    for j in range(0, r - i):\n",
    "        print(end = ' ') \n",
    "    for j in range(0, i):\n",
    "        print('*', end = ' ')\n",
    "    print()"
   ]
  },
  {
   "cell_type": "code",
   "execution_count": 23,
   "id": "9877f1f9",
   "metadata": {},
   "outputs": [
    {
     "name": "stdout",
     "output_type": "stream",
     "text": [
      "0 1 2 3 4 5 6 7 8 9 \n",
      " 0 1 2 3 4 5 6 7 8 \n",
      "  0 1 2 3 4 5 6 7 \n",
      "   0 1 2 3 4 5 6 \n",
      "    0 1 2 3 4 5 \n",
      "     0 1 2 3 4 \n",
      "      0 1 2 3 \n",
      "       0 1 2 \n",
      "        0 1 \n",
      "         0 \n"
     ]
    }
   ],
   "source": [
    "r=10\n",
    "for i in range(r, 0, -1):\n",
    "    for j in range(0, r - i):\n",
    "        print(end = ' ') \n",
    "    for j in range(0, i):\n",
    "        print(j, end = ' ')\n",
    "    print()"
   ]
  },
  {
   "cell_type": "markdown",
   "id": "eb8efe0a",
   "metadata": {},
   "source": [
    "### Using Function"
   ]
  },
  {
   "cell_type": "code",
   "execution_count": 25,
   "id": "1d1c95cf",
   "metadata": {},
   "outputs": [],
   "source": [
    "def inverpyramid(r):\n",
    "    for i in range(r, 0, -1):\n",
    "        for j in range(0, r - i):\n",
    "            print(end = ' ') \n",
    "        for j in range(0, i):\n",
    "            print('*', end = ' ')\n",
    "        print()"
   ]
  },
  {
   "cell_type": "code",
   "execution_count": 26,
   "id": "2bfceead",
   "metadata": {},
   "outputs": [
    {
     "name": "stdout",
     "output_type": "stream",
     "text": [
      "* * * * * * * * * * \n",
      " * * * * * * * * * \n",
      "  * * * * * * * * \n",
      "   * * * * * * * \n",
      "    * * * * * * \n",
      "     * * * * * \n",
      "      * * * * \n",
      "       * * * \n",
      "        * * \n",
      "         * \n"
     ]
    }
   ],
   "source": [
    "inverpyramid(10)"
   ]
  },
  {
   "cell_type": "code",
   "execution_count": 27,
   "id": "c39a71dc",
   "metadata": {},
   "outputs": [],
   "source": [
    "def inverpyramid(r):\n",
    "    for i in range(r, 0, -1):\n",
    "        for j in range(0, r - i):\n",
    "            print(end = ' ') \n",
    "        for j in range(0, i):\n",
    "            print(j, end = ' ')\n",
    "        print()"
   ]
  },
  {
   "cell_type": "code",
   "execution_count": 28,
   "id": "4146e1cd",
   "metadata": {},
   "outputs": [
    {
     "name": "stdout",
     "output_type": "stream",
     "text": [
      "0 1 2 3 4 5 6 7 8 9 \n",
      " 0 1 2 3 4 5 6 7 8 \n",
      "  0 1 2 3 4 5 6 7 \n",
      "   0 1 2 3 4 5 6 \n",
      "    0 1 2 3 4 5 \n",
      "     0 1 2 3 4 \n",
      "      0 1 2 3 \n",
      "       0 1 2 \n",
      "        0 1 \n",
      "         0 \n"
     ]
    }
   ],
   "source": [
    "inverpyramid(10)"
   ]
  },
  {
   "cell_type": "markdown",
   "id": "7bcbb837",
   "metadata": {},
   "source": [
    "# 8. Rhombus Pattern"
   ]
  },
  {
   "cell_type": "markdown",
   "id": "4047e4b4",
   "metadata": {},
   "source": [
    "### Using For Loop"
   ]
  },
  {
   "cell_type": "code",
   "execution_count": 21,
   "id": "3d55b9a1",
   "metadata": {},
   "outputs": [
    {
     "name": "stdout",
     "output_type": "stream",
     "text": [
      "                    * \n",
      "                  * * * \n",
      "                * * * * * \n",
      "              * * * * * * * \n",
      "            * * * * * * * * * \n",
      "          * * * * * * * * * * * \n",
      "        * * * * * * * * * * * * * \n",
      "      * * * * * * * * * * * * * * * \n",
      "    * * * * * * * * * * * * * * * * * \n",
      "  * * * * * * * * * * * * * * * * * * * \n",
      "* * * * * * * * * * * * * * * * * * * * * \n",
      "  * * * * * * * * * * * * * * * * * * * \n",
      "    * * * * * * * * * * * * * * * * * \n",
      "      * * * * * * * * * * * * * * * \n",
      "        * * * * * * * * * * * * * \n",
      "          * * * * * * * * * * * \n",
      "            * * * * * * * * * \n",
      "              * * * * * * * \n",
      "                * * * * * \n",
      "                  * * * \n",
      "                    * \n"
     ]
    }
   ],
   "source": [
    "r=5\n",
    "for i in range(n):\n",
    "    for j in range(i,n):\n",
    "        print(' ',end=' ')\n",
    "    for j in range(i):\n",
    "        print('*',end=' ')\n",
    "    for j in range(i+1):\n",
    "        print('*',end=' ')\n",
    "    print()\n",
    "for i in range(n,-1,-1):\n",
    "    for j in range(i,n):\n",
    "        print(' ',end=' ')\n",
    "    for j in range(i):\n",
    "        print('*',end=' ')\n",
    "    for j in range(i+1):\n",
    "        print('*',end=' ')\n",
    "    print()"
   ]
  },
  {
   "cell_type": "code",
   "execution_count": 22,
   "id": "1a360be7",
   "metadata": {},
   "outputs": [
    {
     "name": "stdout",
     "output_type": "stream",
     "text": [
      "                    0 \n",
      "                  0 0 1 \n",
      "                0 1 0 1 2 \n",
      "              0 1 2 0 1 2 3 \n",
      "            0 1 2 3 0 1 2 3 4 \n",
      "          0 1 2 3 4 0 1 2 3 4 5 \n",
      "        0 1 2 3 4 5 0 1 2 3 4 5 6 \n",
      "      0 1 2 3 4 5 6 0 1 2 3 4 5 6 7 \n",
      "    0 1 2 3 4 5 6 7 0 1 2 3 4 5 6 7 8 \n",
      "  0 1 2 3 4 5 6 7 8 0 1 2 3 4 5 6 7 8 9 \n",
      "0 1 2 3 4 5 6 7 8 9 0 1 2 3 4 5 6 7 8 9 10 \n",
      "  0 1 2 3 4 5 6 7 8 0 1 2 3 4 5 6 7 8 9 \n",
      "    0 1 2 3 4 5 6 7 0 1 2 3 4 5 6 7 8 \n",
      "      0 1 2 3 4 5 6 0 1 2 3 4 5 6 7 \n",
      "        0 1 2 3 4 5 0 1 2 3 4 5 6 \n",
      "          0 1 2 3 4 0 1 2 3 4 5 \n",
      "            0 1 2 3 0 1 2 3 4 \n",
      "              0 1 2 0 1 2 3 \n",
      "                0 1 0 1 2 \n",
      "                  0 0 1 \n",
      "                    0 \n"
     ]
    }
   ],
   "source": [
    "r=5\n",
    "for i in range(n):\n",
    "    for j in range(i,n):\n",
    "        print(' ',end=' ')\n",
    "    for j in range(i):\n",
    "        print(j,end=' ')\n",
    "    for j in range(i+1):\n",
    "        print(j,end=' ')\n",
    "    print()\n",
    "for i in range(n,-1,-1):\n",
    "    for j in range(i,n):\n",
    "        print(' ',end=' ')\n",
    "    for j in range(i):\n",
    "        print(j,end=' ')\n",
    "    for j in range(i+1):\n",
    "        print(j,end=' ')\n",
    "    print()"
   ]
  },
  {
   "cell_type": "markdown",
   "id": "a33247c5",
   "metadata": {},
   "source": [
    "### Using Function"
   ]
  },
  {
   "cell_type": "code",
   "execution_count": 15,
   "id": "3c5a9169",
   "metadata": {},
   "outputs": [],
   "source": [
    "def rhombus(n):\n",
    "    for i in range(n):\n",
    "        for j in range(i,n):\n",
    "            print(' ',end=' ')\n",
    "        for j in range(i):\n",
    "            print('*',end=' ')\n",
    "        for j in range(i+1):\n",
    "            print('*',end=' ')\n",
    "        print()\n",
    "    for i in range(n,-1,-1):\n",
    "        for j in range(i,n):\n",
    "            print(' ',end=' ')\n",
    "        for j in range(i):\n",
    "            print('*',end=' ')\n",
    "        for j in range(i+1):\n",
    "            print('*',end=' ')\n",
    "        print()\n",
    " "
   ]
  },
  {
   "cell_type": "code",
   "execution_count": 17,
   "id": "7c4d5ead",
   "metadata": {},
   "outputs": [
    {
     "name": "stdout",
     "output_type": "stream",
     "text": [
      "                    * \n",
      "                  * * * \n",
      "                * * * * * \n",
      "              * * * * * * * \n",
      "            * * * * * * * * * \n",
      "          * * * * * * * * * * * \n",
      "        * * * * * * * * * * * * * \n",
      "      * * * * * * * * * * * * * * * \n",
      "    * * * * * * * * * * * * * * * * * \n",
      "  * * * * * * * * * * * * * * * * * * * \n",
      "* * * * * * * * * * * * * * * * * * * * * \n",
      "  * * * * * * * * * * * * * * * * * * * \n",
      "    * * * * * * * * * * * * * * * * * \n",
      "      * * * * * * * * * * * * * * * \n",
      "        * * * * * * * * * * * * * \n",
      "          * * * * * * * * * * * \n",
      "            * * * * * * * * * \n",
      "              * * * * * * * \n",
      "                * * * * * \n",
      "                  * * * \n",
      "                    * \n"
     ]
    }
   ],
   "source": [
    "rhombus(10)"
   ]
  },
  {
   "cell_type": "code",
   "execution_count": 18,
   "id": "873c9926",
   "metadata": {},
   "outputs": [],
   "source": [
    "def rhombus(n):\n",
    "    for i in range(n):\n",
    "        for j in range(i,n):\n",
    "            print(' ',end=' ')\n",
    "        for j in range(i):\n",
    "            print(j,end=' ')\n",
    "        for j in range(i+1):\n",
    "            print(j,end=' ')\n",
    "        print()\n",
    "    for i in range(n,-1,-1):\n",
    "        for j in range(i,n):\n",
    "            print(' ',end=' ')\n",
    "        for j in range(i):\n",
    "            print(j,end=' ')\n",
    "        for j in range(i+1):\n",
    "            print(j,end=' ')\n",
    "        print()"
   ]
  },
  {
   "cell_type": "code",
   "execution_count": 20,
   "id": "4dad0fea",
   "metadata": {},
   "outputs": [
    {
     "name": "stdout",
     "output_type": "stream",
     "text": [
      "                    0 \n",
      "                  0 0 1 \n",
      "                0 1 0 1 2 \n",
      "              0 1 2 0 1 2 3 \n",
      "            0 1 2 3 0 1 2 3 4 \n",
      "          0 1 2 3 4 0 1 2 3 4 5 \n",
      "        0 1 2 3 4 5 0 1 2 3 4 5 6 \n",
      "      0 1 2 3 4 5 6 0 1 2 3 4 5 6 7 \n",
      "    0 1 2 3 4 5 6 7 0 1 2 3 4 5 6 7 8 \n",
      "  0 1 2 3 4 5 6 7 8 0 1 2 3 4 5 6 7 8 9 \n",
      "0 1 2 3 4 5 6 7 8 9 0 1 2 3 4 5 6 7 8 9 10 \n",
      "  0 1 2 3 4 5 6 7 8 0 1 2 3 4 5 6 7 8 9 \n",
      "    0 1 2 3 4 5 6 7 0 1 2 3 4 5 6 7 8 \n",
      "      0 1 2 3 4 5 6 0 1 2 3 4 5 6 7 \n",
      "        0 1 2 3 4 5 0 1 2 3 4 5 6 \n",
      "          0 1 2 3 4 0 1 2 3 4 5 \n",
      "            0 1 2 3 0 1 2 3 4 \n",
      "              0 1 2 0 1 2 3 \n",
      "                0 1 0 1 2 \n",
      "                  0 0 1 \n",
      "                    0 \n"
     ]
    }
   ],
   "source": [
    "rhombus(10)"
   ]
  },
  {
   "cell_type": "markdown",
   "id": "206561ba",
   "metadata": {},
   "source": [
    "# 9. Sand Glass Pattern"
   ]
  },
  {
   "cell_type": "markdown",
   "id": "4623d1ab",
   "metadata": {},
   "source": [
    "### Using For Loop"
   ]
  },
  {
   "cell_type": "code",
   "execution_count": 5,
   "id": "8cb3e16a",
   "metadata": {},
   "outputs": [
    {
     "name": "stdout",
     "output_type": "stream",
     "text": [
      "  * * * * * * * * * * * * * * * * * * * \n",
      "    * * * * * * * * * * * * * * * * * \n",
      "      * * * * * * * * * * * * * * * \n",
      "        * * * * * * * * * * * * * \n",
      "          * * * * * * * * * * * \n",
      "            * * * * * * * * * \n",
      "              * * * * * * * \n",
      "                * * * * * \n",
      "                  * * * \n",
      "                    * \n",
      "                    * \n",
      "                  * * * \n",
      "                * * * * * \n",
      "              * * * * * * * \n",
      "            * * * * * * * * * \n",
      "          * * * * * * * * * * * \n",
      "        * * * * * * * * * * * * * \n",
      "      * * * * * * * * * * * * * * * \n",
      "    * * * * * * * * * * * * * * * * * \n",
      "  * * * * * * * * * * * * * * * * * * * \n"
     ]
    }
   ],
   "source": [
    "n=10\n",
    "for i in range(n-1,-1,-1):\n",
    "    for j in range(i,n):\n",
    "        print(' ',end=' ')\n",
    "    for j in range(i):\n",
    "        print('*',end=' ')\n",
    "    for j in range(i+1):\n",
    "        print('*',end=' ')\n",
    "    print()\n",
    "for i in range(n):\n",
    "    for j in range(i,n):\n",
    "        print(' ',end=' ')\n",
    "    for j in range(i):\n",
    "        print('*',end=' ')\n",
    "    for j in range(i+1):\n",
    "        print('*',end=' ')\n",
    "    print()"
   ]
  },
  {
   "cell_type": "code",
   "execution_count": 6,
   "id": "625937e4",
   "metadata": {},
   "outputs": [
    {
     "name": "stdout",
     "output_type": "stream",
     "text": [
      "  0 1 2 3 4 5 6 7 8 0 1 2 3 4 5 6 7 8 9 \n",
      "    0 1 2 3 4 5 6 7 0 1 2 3 4 5 6 7 8 \n",
      "      0 1 2 3 4 5 6 0 1 2 3 4 5 6 7 \n",
      "        0 1 2 3 4 5 0 1 2 3 4 5 6 \n",
      "          0 1 2 3 4 0 1 2 3 4 5 \n",
      "            0 1 2 3 0 1 2 3 4 \n",
      "              0 1 2 0 1 2 3 \n",
      "                0 1 0 1 2 \n",
      "                  0 0 1 \n",
      "                    0 \n",
      "                    0 \n",
      "                  0 0 1 \n",
      "                0 1 0 1 2 \n",
      "              0 1 2 0 1 2 3 \n",
      "            0 1 2 3 0 1 2 3 4 \n",
      "          0 1 2 3 4 0 1 2 3 4 5 \n",
      "        0 1 2 3 4 5 0 1 2 3 4 5 6 \n",
      "      0 1 2 3 4 5 6 0 1 2 3 4 5 6 7 \n",
      "    0 1 2 3 4 5 6 7 0 1 2 3 4 5 6 7 8 \n",
      "  0 1 2 3 4 5 6 7 8 0 1 2 3 4 5 6 7 8 9 \n"
     ]
    }
   ],
   "source": [
    "h=10\n",
    "for i in range(n-1,-1,-1):\n",
    "    for j in range(i,n):\n",
    "        print(' ',end=' ')\n",
    "    for j in range(i):\n",
    "        print(j,end=' ')\n",
    "    for j in range(i+1):\n",
    "        print(j,end=' ')\n",
    "    print()\n",
    "for i in range(n):\n",
    "    for j in range(i,n):\n",
    "        print(' ',end=' ')\n",
    "    for j in range(i):\n",
    "        print(j,end=' ')\n",
    "    for j in range(i+1):\n",
    "        print(j,end=' ')\n",
    "    print()"
   ]
  },
  {
   "cell_type": "markdown",
   "id": "c84009f8",
   "metadata": {},
   "source": [
    "### Using Function"
   ]
  },
  {
   "cell_type": "code",
   "execution_count": 7,
   "id": "548dcc3f",
   "metadata": {},
   "outputs": [],
   "source": [
    "def sandglass(h):\n",
    "    for i in range(n-1,-1,-1):\n",
    "        for j in range(i,n):\n",
    "            print(' ',end=' ')\n",
    "        for j in range(i):\n",
    "            print(j,end=' ')\n",
    "        for j in range(i+1):\n",
    "            print(j,end=' ')\n",
    "        print()\n",
    "    for i in range(n):\n",
    "        for j in range(i,n):\n",
    "            print(' ',end=' ')\n",
    "        for j in range(i):\n",
    "            print(j,end=' ')\n",
    "        for j in range(i+1):\n",
    "            print(j,end=' ')\n",
    "        print()"
   ]
  },
  {
   "cell_type": "code",
   "execution_count": 8,
   "id": "a30649b2",
   "metadata": {},
   "outputs": [
    {
     "name": "stdout",
     "output_type": "stream",
     "text": [
      "  0 1 2 3 4 5 6 7 8 0 1 2 3 4 5 6 7 8 9 \n",
      "    0 1 2 3 4 5 6 7 0 1 2 3 4 5 6 7 8 \n",
      "      0 1 2 3 4 5 6 0 1 2 3 4 5 6 7 \n",
      "        0 1 2 3 4 5 0 1 2 3 4 5 6 \n",
      "          0 1 2 3 4 0 1 2 3 4 5 \n",
      "            0 1 2 3 0 1 2 3 4 \n",
      "              0 1 2 0 1 2 3 \n",
      "                0 1 0 1 2 \n",
      "                  0 0 1 \n",
      "                    0 \n",
      "                    0 \n",
      "                  0 0 1 \n",
      "                0 1 0 1 2 \n",
      "              0 1 2 0 1 2 3 \n",
      "            0 1 2 3 0 1 2 3 4 \n",
      "          0 1 2 3 4 0 1 2 3 4 5 \n",
      "        0 1 2 3 4 5 0 1 2 3 4 5 6 \n",
      "      0 1 2 3 4 5 6 0 1 2 3 4 5 6 7 \n",
      "    0 1 2 3 4 5 6 7 0 1 2 3 4 5 6 7 8 \n",
      "  0 1 2 3 4 5 6 7 8 0 1 2 3 4 5 6 7 8 9 \n"
     ]
    }
   ],
   "source": [
    "sandglass(10)"
   ]
  },
  {
   "cell_type": "code",
   "execution_count": 13,
   "id": "f2b66599",
   "metadata": {},
   "outputs": [],
   "source": [
    "def sandglass(n):\n",
    "    for i in range(n-1,-1,-1):\n",
    "        for j in range(i,n):\n",
    "            print(' ',end=' ')\n",
    "        for j in range(i):\n",
    "            print('*',end=' ')\n",
    "        for j in range(i+1):\n",
    "            print('*',end=' ')\n",
    "        print()\n",
    "    for i in range(n):\n",
    "        for j in range(i,n):\n",
    "            print(' ',end=' ')\n",
    "        for j in range(i):\n",
    "            print('*',end=' ')\n",
    "        for j in range(i+1):\n",
    "            print('*',end=' ')\n",
    "        print()\n",
    "    "
   ]
  },
  {
   "cell_type": "code",
   "execution_count": 14,
   "id": "5794cf67",
   "metadata": {},
   "outputs": [
    {
     "name": "stdout",
     "output_type": "stream",
     "text": [
      "  * * * * * * * * * * * * * * * * * * * \n",
      "    * * * * * * * * * * * * * * * * * \n",
      "      * * * * * * * * * * * * * * * \n",
      "        * * * * * * * * * * * * * \n",
      "          * * * * * * * * * * * \n",
      "            * * * * * * * * * \n",
      "              * * * * * * * \n",
      "                * * * * * \n",
      "                  * * * \n",
      "                    * \n",
      "                    * \n",
      "                  * * * \n",
      "                * * * * * \n",
      "              * * * * * * * \n",
      "            * * * * * * * * * \n",
      "          * * * * * * * * * * * \n",
      "        * * * * * * * * * * * * * \n",
      "      * * * * * * * * * * * * * * * \n",
      "    * * * * * * * * * * * * * * * * * \n",
      "  * * * * * * * * * * * * * * * * * * * \n"
     ]
    }
   ],
   "source": [
    "sandglass(10)"
   ]
  },
  {
   "cell_type": "markdown",
   "id": "a7b38aee",
   "metadata": {},
   "source": [
    "# 10. M-Pattern"
   ]
  },
  {
   "cell_type": "markdown",
   "id": "3ac0b505",
   "metadata": {},
   "source": [
    "### Using  For Loop"
   ]
  },
  {
   "cell_type": "code",
   "execution_count": 240,
   "id": "72dca426",
   "metadata": {},
   "outputs": [
    {
     "name": "stdout",
     "output_type": "stream",
     "text": [
      "$                 $\n",
      "$$$               $$$\n",
      "$$$$$             $$$$$\n",
      "$$$$$$$           $$$$$$$\n",
      "$$$$$$$$$         $$$$$$$$$\n",
      "$$$$$$$$$$$       $$$$$$$$$$$\n",
      "$$$$$$$$$$$$$     $$$$$$$$$$$$$\n",
      "$$$$$$$$$$$$$$$   $$$$$$$$$$$$$$$\n",
      "$$$$$$$$$$$$$$$$$ $$$$$$$$$$$$$$$$$\n",
      "$$$$$$$$$$$$$$$$$$$$$$$$$$$$$$$$$$$$$$\n",
      "\n"
     ]
    }
   ],
   "source": [
    "h=10\n",
    "w =(2 * h - 1)\n",
    "for i in range(h):\n",
    "    print('$' * (2 * i + 1) + \" \" * (w - 2 * (i + 1)) + '$' * (2 * i + 1))\n",
    "print()"
   ]
  },
  {
   "cell_type": "code",
   "execution_count": 241,
   "id": "e5eaf67d",
   "metadata": {},
   "outputs": [
    {
     "name": "stdout",
     "output_type": "stream",
     "text": [
      "1                 1\n",
      " 1 2 3               3 2 1\n",
      "  1 2 3 4 5             5 4 3 2 1\n",
      "   1 2 3 4 5 6 7           7 6 5 4 3 2 1\n",
      "    1 2 3 4 5 6 7 8 9         9 8 7 6 5 4 3 2 1\n",
      "     1 2 3 4 5 6 7 8 9 10 11       11 10 9 8 7 6 5 4 3 2 1\n",
      "      1 2 3 4 5 6 7 8 9 10 11 12 13     13 12 11 10 9 8 7 6 5 4 3 2 1\n",
      "       1 2 3 4 5 6 7 8 9 10 11 12 13 14 15   15 14 13 12 11 10 9 8 7 6 5 4 3 2 1\n",
      "        1 2 3 4 5 6 7 8 9 10 11 12 13 14 15 16 17 17 16 15 14 13 12 11 10 9 8 7 6 5 4 3 2 1\n",
      "         1 2 3 4 5 6 7 8 9 10 11 12 13 14 15 16 17 18 1919 18 17 16 15 14 13 12 11 10 9 8 7 6 5 4 3 2 1\n",
      "\n"
     ]
    }
   ],
   "source": [
    "h=10\n",
    "w = 2 * h - 1\n",
    "for i in range(h):\n",
    "        print(\" \" * i + \" \".join(str(j) for j in range(1, 2 * i + 2)) + \" \" * (w - 2 * (i + 1)) + \" \".join(str(j) for j in range(2 * i + 1, 0, -1)))\n",
    "print()"
   ]
  },
  {
   "cell_type": "markdown",
   "id": "6613f8f6",
   "metadata": {},
   "source": [
    "### Using Function"
   ]
  },
  {
   "cell_type": "code",
   "execution_count": 236,
   "id": "e7b9e2db",
   "metadata": {},
   "outputs": [],
   "source": [
    "def print_m_pattern(h, char):\n",
    "    w =(2 * h - 1)\n",
    "    for i in range(h):\n",
    "        print('$' * (2 * i + 1) + \" \" * (w - 2 * (i + 1)) + '$' * (2 * i + 1))\n",
    "    print()\n",
    "    "
   ]
  },
  {
   "cell_type": "code",
   "execution_count": 239,
   "id": "0d373dbc",
   "metadata": {},
   "outputs": [
    {
     "name": "stdout",
     "output_type": "stream",
     "text": [
      "$                 $\n",
      "$$$               $$$\n",
      "$$$$$             $$$$$\n",
      "$$$$$$$           $$$$$$$\n",
      "$$$$$$$$$         $$$$$$$$$\n",
      "$$$$$$$$$$$       $$$$$$$$$$$\n",
      "$$$$$$$$$$$$$     $$$$$$$$$$$$$\n",
      "$$$$$$$$$$$$$$$   $$$$$$$$$$$$$$$\n",
      "$$$$$$$$$$$$$$$$$ $$$$$$$$$$$$$$$$$\n",
      "$$$$$$$$$$$$$$$$$$$$$$$$$$$$$$$$$$$$$$\n",
      "\n"
     ]
    }
   ],
   "source": [
    "print_m_pattern(10,'$')"
   ]
  },
  {
   "cell_type": "code",
   "execution_count": 231,
   "id": "11df802f",
   "metadata": {},
   "outputs": [],
   "source": [
    "def mpatern(h,char):\n",
    "    w = 2 * h - 1\n",
    "    for i in range(h):\n",
    "        print(\" \" * i + \" \".join(str(j) for j in range(1, 2 * i + 2)) + \" \" * (w - 2 * (i + 1)) + \" \".join(str(j) for j in range(2 * i + 1, 0, -1)))\n",
    "    print()"
   ]
  },
  {
   "cell_type": "code",
   "execution_count": 232,
   "id": "5188b8e0",
   "metadata": {},
   "outputs": [
    {
     "name": "stdout",
     "output_type": "stream",
     "text": [
      "1                 1\n",
      " 1 2 3               3 2 1\n",
      "  1 2 3 4 5             5 4 3 2 1\n",
      "   1 2 3 4 5 6 7           7 6 5 4 3 2 1\n",
      "    1 2 3 4 5 6 7 8 9         9 8 7 6 5 4 3 2 1\n",
      "     1 2 3 4 5 6 7 8 9 10 11       11 10 9 8 7 6 5 4 3 2 1\n",
      "      1 2 3 4 5 6 7 8 9 10 11 12 13     13 12 11 10 9 8 7 6 5 4 3 2 1\n",
      "       1 2 3 4 5 6 7 8 9 10 11 12 13 14 15   15 14 13 12 11 10 9 8 7 6 5 4 3 2 1\n",
      "        1 2 3 4 5 6 7 8 9 10 11 12 13 14 15 16 17 17 16 15 14 13 12 11 10 9 8 7 6 5 4 3 2 1\n",
      "         1 2 3 4 5 6 7 8 9 10 11 12 13 14 15 16 17 18 1919 18 17 16 15 14 13 12 11 10 9 8 7 6 5 4 3 2 1\n",
      "\n"
     ]
    }
   ],
   "source": [
    "mpatern(10,'$')"
   ]
  },
  {
   "cell_type": "markdown",
   "id": "71f49605",
   "metadata": {},
   "source": [
    "# 11. Star Pattern"
   ]
  },
  {
   "cell_type": "markdown",
   "id": "7c8353ad",
   "metadata": {},
   "source": [
    "### Using For Loop"
   ]
  },
  {
   "cell_type": "code",
   "execution_count": 265,
   "id": "5f3bf015",
   "metadata": {},
   "outputs": [
    {
     "name": "stdout",
     "output_type": "stream",
     "text": [
      "* \n",
      "* * \n",
      "* * * \n",
      "* * * * \n",
      "* * * * * \n",
      "* * * * * * \n",
      "* * * * * * * \n",
      "* * * * * * * * \n",
      "* * * * * * * * * \n",
      "* * * * * * * * * * \n",
      "* * * * * * * * * \n",
      "* * * * * * * * \n",
      "* * * * * * * \n",
      "* * * * * * \n",
      "* * * * * \n",
      "* * * * \n",
      "* * * \n",
      "* * \n",
      "* \n"
     ]
    }
   ],
   "source": [
    "rows=10\n",
    "for i in range(1, rows + 1):\n",
    "    for j in range(1, i + 1):\n",
    "        print(\"*\", end=' ')\n",
    "    print()\n",
    "for i in range(rows - 1, 0, -1):\n",
    "    for j in range(1, i + 1):\n",
    "        print(\"*\", end=' ')\n",
    "    print()"
   ]
  },
  {
   "cell_type": "code",
   "execution_count": 266,
   "id": "d605bb63",
   "metadata": {},
   "outputs": [
    {
     "name": "stdout",
     "output_type": "stream",
     "text": [
      "1 \n",
      "1 2 \n",
      "1 2 3 \n",
      "1 2 3 4 \n",
      "1 2 3 4 5 \n",
      "1 2 3 4 5 6 \n",
      "1 2 3 4 5 6 7 \n",
      "1 2 3 4 5 6 7 8 \n",
      "1 2 3 4 5 6 7 8 9 \n",
      "1 2 3 4 5 6 7 8 9 10 \n",
      "1 2 3 4 5 6 7 8 9 \n",
      "1 2 3 4 5 6 7 8 \n",
      "1 2 3 4 5 6 7 \n",
      "1 2 3 4 5 6 \n",
      "1 2 3 4 5 \n",
      "1 2 3 4 \n",
      "1 2 3 \n",
      "1 2 \n",
      "1 \n"
     ]
    }
   ],
   "source": [
    "rows=10\n",
    "for i in range(1, rows + 1):\n",
    "    for j in range(1, i + 1):\n",
    "        print(j, end=' ')\n",
    "    print()\n",
    "for i in range(rows - 1, 0, -1):\n",
    "    for j in range(1, i + 1):\n",
    "        print(j, end=' ')\n",
    "    print()"
   ]
  },
  {
   "cell_type": "markdown",
   "id": "93d79020",
   "metadata": {},
   "source": [
    "### Using Function"
   ]
  },
  {
   "cell_type": "code",
   "execution_count": 261,
   "id": "0ed54b42",
   "metadata": {},
   "outputs": [],
   "source": [
    "def starpattern(rows):\n",
    "    for i in range(1, rows + 1):\n",
    "        for j in range(1, i + 1):\n",
    "            print(\"*\", end=' ')\n",
    "        print()\n",
    "    for i in range(rows - 1, 0, -1):\n",
    "        for j in range(1, i + 1):\n",
    "            print(\"*\", end=' ')\n",
    "        print()"
   ]
  },
  {
   "cell_type": "code",
   "execution_count": 262,
   "id": "7438cefc",
   "metadata": {},
   "outputs": [
    {
     "name": "stdout",
     "output_type": "stream",
     "text": [
      "* \n",
      "* * \n",
      "* * * \n",
      "* * * * \n",
      "* * * * * \n",
      "* * * * * * \n",
      "* * * * * * * \n",
      "* * * * * * * * \n",
      "* * * * * * * * * \n",
      "* * * * * * * * * * \n",
      "* * * * * * * * * \n",
      "* * * * * * * * \n",
      "* * * * * * * \n",
      "* * * * * * \n",
      "* * * * * \n",
      "* * * * \n",
      "* * * \n",
      "* * \n",
      "* \n"
     ]
    }
   ],
   "source": [
    "starpattern(10)"
   ]
  },
  {
   "cell_type": "code",
   "execution_count": 267,
   "id": "3907d86b",
   "metadata": {},
   "outputs": [],
   "source": [
    "def starpattern(rows):\n",
    "    for i in range(1, rows + 1):\n",
    "        for j in range(1, i + 1):\n",
    "            print(j, end=' ')\n",
    "        print()\n",
    "    for i in range(rows - 1, 0, -1):\n",
    "        for j in range(1, i + 1):\n",
    "            print(j, end=' ')\n",
    "        print()"
   ]
  },
  {
   "cell_type": "code",
   "execution_count": 268,
   "id": "57e9d652",
   "metadata": {},
   "outputs": [
    {
     "name": "stdout",
     "output_type": "stream",
     "text": [
      "1 \n",
      "1 2 \n",
      "1 2 3 \n",
      "1 2 3 4 \n",
      "1 2 3 4 5 \n",
      "1 2 3 4 5 6 \n",
      "1 2 3 4 5 6 7 \n",
      "1 2 3 4 5 6 7 8 \n",
      "1 2 3 4 5 6 7 8 9 \n",
      "1 2 3 4 5 6 7 8 9 10 \n",
      "1 2 3 4 5 6 7 8 9 \n",
      "1 2 3 4 5 6 7 8 \n",
      "1 2 3 4 5 6 7 \n",
      "1 2 3 4 5 6 \n",
      "1 2 3 4 5 \n",
      "1 2 3 4 \n",
      "1 2 3 \n",
      "1 2 \n",
      "1 \n"
     ]
    }
   ],
   "source": [
    "starpattern(10)"
   ]
  }
 ],
 "metadata": {
  "kernelspec": {
   "display_name": "Python 3 (ipykernel)",
   "language": "python",
   "name": "python3"
  },
  "language_info": {
   "codemirror_mode": {
    "name": "ipython",
    "version": 3
   },
   "file_extension": ".py",
   "mimetype": "text/x-python",
   "name": "python",
   "nbconvert_exporter": "python",
   "pygments_lexer": "ipython3",
   "version": "3.11.5"
  }
 },
 "nbformat": 4,
 "nbformat_minor": 5
}
