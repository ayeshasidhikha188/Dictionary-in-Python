{
 "cells": [
  {
   "cell_type": "markdown",
   "id": "95c71d46",
   "metadata": {},
   "source": [
    "# Weekend Task(3-11-2023)\n",
    "## Team 7(Ayesha,  Akshith,  Sharath)\n",
    "## Easy Loop Programs"
   ]
  },
  {
   "cell_type": "markdown",
   "id": "ae7e3d6d",
   "metadata": {},
   "source": [
    "## 1. Sum of Resistance in Series Circuits using for loop "
   ]
  },
  {
   "cell_type": "code",
   "execution_count": 3,
   "id": "db79b009",
   "metadata": {},
   "outputs": [
    {
     "name": "stdout",
     "output_type": "stream",
     "text": [
      "Enter the number of resistors: 2\n",
      "Enter the resistance value of resistor 1 (in ohms): 10\n",
      "Enter the resistance value of resistor 2 (in ohms): 20\n",
      "The total resistance in the series circuit is 30.0 ohms.\n"
     ]
    }
   ],
   "source": [
    "#  number of resistors in the series circuit\n",
    "num_resistors = int(input(\"Enter the number of resistors: \"))\n",
    "\n",
    "total_resistance = 0\n",
    "\n",
    "# Use a for loop to input the resistance values and calculate the total resistance\n",
    "for i in range(num_resistors):\n",
    "    resistance = float(input(f\"Enter the resistance value of resistor {i + 1} (in ohms): \"))\n",
    "    total_resistance += resistance\n",
    "\n",
    "print(f\"The total resistance in the series circuit is {total_resistance} ohms.\")\n"
   ]
  },
  {
   "cell_type": "markdown",
   "id": "c3c6e8ae",
   "metadata": {},
   "source": [
    "## 2. Sum of Resistance in Series Circuits using while loop"
   ]
  },
  {
   "cell_type": "code",
   "execution_count": 4,
   "id": "2fd285b0",
   "metadata": {},
   "outputs": [
    {
     "name": "stdout",
     "output_type": "stream",
     "text": [
      "Enter the number of resistors: 2\n",
      "Enter the resistance value of resistor 1 (in ohms): 10\n",
      "Enter the resistance value of resistor 2 (in ohms): 20\n",
      "The total resistance in the series circuit is 30.0 ohms.\n"
     ]
    }
   ],
   "source": [
    "# Define the number of resistors in the series circuit\n",
    "num_resistors = int(input(\"Enter the number of resistors: \"))\n",
    "\n",
    "total_resistance = 0\n",
    "count = 0\n",
    "\n",
    "# Use a while loop to input the resistance values and calculate the total resistance\n",
    "while count < num_resistors:\n",
    "    resistance = float(input(f\"Enter the resistance value of resistor {count + 1} (in ohms): \"))\n",
    "    total_resistance += resistance\n",
    "    count += 1\n",
    "\n",
    "print(f\"The total resistance in the series circuit is {total_resistance} ohms.\")\n"
   ]
  },
  {
   "cell_type": "markdown",
   "id": "c4af10e0",
   "metadata": {},
   "source": [
    "## 3. Instant JAZZ using for loop"
   ]
  },
  {
   "cell_type": "code",
   "execution_count": 3,
   "id": "e1af2f6e",
   "metadata": {},
   "outputs": [
    {
     "name": "stdout",
     "output_type": "stream",
     "text": [
      "['F7', 'E7', 'A7', 'Ab7', 'Gm7', 'C7']\n",
      "['F7', 'E7', 'A7', 'Ab7', 'Gm7', 'C7']\n",
      "['F7', 'E7', 'A7', 'Ab7', 'Gm7', 'C7']\n",
      "['F7', 'E7', 'A7', 'Ab7', 'Gm7', 'C7']\n",
      "['F7', 'E7', 'A7', 'Ab7', 'Gm7', 'C7']\n"
     ]
    }
   ],
   "source": [
    "# Define the \"Instant Jazz\" pattern\n",
    "jazz_pattern = [\"F7\", \"E7\", \"A7\", \"Ab7\", \"Gm7\", \"C7\"]\n",
    "\n",
    "# Set the number of times to repeat the pattern\n",
    "num_repeats = 5\n",
    "\n",
    "# Use a for loop to generate the pattern\n",
    "for _ in range(num_repeats):\n",
    "    print(jazz_pattern)\n"
   ]
  },
  {
   "cell_type": "markdown",
   "id": "dd3b0d2e",
   "metadata": {},
   "source": [
    "## 4. Instant JAZZ using while loop"
   ]
  },
  {
   "cell_type": "code",
   "execution_count": 4,
   "id": "be6de7a5",
   "metadata": {},
   "outputs": [
    {
     "name": "stdout",
     "output_type": "stream",
     "text": [
      "['F7', 'E7', 'A7', 'Ab7', 'Gm7', 'C7']\n",
      "['F7', 'E7', 'A7', 'Ab7', 'Gm7', 'C7']\n",
      "['F7', 'E7', 'A7', 'Ab7', 'Gm7', 'C7']\n",
      "['F7', 'E7', 'A7', 'Ab7', 'Gm7', 'C7']\n",
      "['F7', 'E7', 'A7', 'Ab7', 'Gm7', 'C7']\n"
     ]
    }
   ],
   "source": [
    "# Define the \"Instant JAZZ\" pattern\n",
    "jazz_pattern = [\"F7\", \"E7\", \"A7\", \"Ab7\", \"Gm7\", \"C7\"]\n",
    "\n",
    "# Set the number of times to repeat the pattern\n",
    "num_repeats = 5\n",
    "\n",
    "# Initialize a counter\n",
    "count = 0\n",
    "\n",
    "# Use a while loop to generate the pattern\n",
    "while count < num_repeats:\n",
    "    print(jazz_pattern)\n",
    "    count += 1\n"
   ]
  },
  {
   "cell_type": "markdown",
   "id": "7090db61",
   "metadata": {},
   "source": [
    " ## 5. Remove sorrounding Duplicate items using while loop"
   ]
  },
  {
   "cell_type": "code",
   "execution_count": 14,
   "id": "195010d6",
   "metadata": {},
   "outputs": [
    {
     "name": "stdout",
     "output_type": "stream",
     "text": [
      "[1, 4, 6]\n"
     ]
    }
   ],
   "source": [
    "original_list = [1, 2, 2, 3, 3, 4, 5, 5, 5, 6, 7, 7]\n",
    "\n",
    "# Create a new list to store the result\n",
    "result_list = []\n",
    "\n",
    "# Iterate through the original list\n",
    "for i in range(len(original_list)):\n",
    "    # If the current element is not equal to the previous or next element, add it to the result list\n",
    "    if i == 0 or original_list[i] != original_list[i - 1]:\n",
    "        if i == len(original_list) - 1 or original_list[i] != original_list[i + 1]:\n",
    "            result_list.append(original_list[i])\n",
    "\n",
    "print(result_list)\n",
    "\n"
   ]
  },
  {
   "cell_type": "markdown",
   "id": "7b5485e3",
   "metadata": {},
   "source": [
    "## 6.Remove sorrounding Duplicate items using while loop"
   ]
  },
  {
   "cell_type": "code",
   "execution_count": 12,
   "id": "aa18580a",
   "metadata": {},
   "outputs": [
    {
     "name": "stdout",
     "output_type": "stream",
     "text": [
      "[1, 2, 3, 4, 5]\n"
     ]
    }
   ],
   "source": [
    "my_list = [1, 1, 2, 3, 4, 5]\n",
    "\n",
    "# Remove duplicates from the beginning\n",
    "while len(my_list) >= 2 and my_list[0] == my_list[1]:\n",
    "    my_list.pop(0)\n",
    "\n",
    "# Remove duplicates from the end\n",
    "while len(my_list) >= 2 and my_list[-1] == my_list[-2]:\n",
    "    my_list.pop()\n",
    "\n",
    "print(my_list)"
   ]
  },
  {
   "cell_type": "markdown",
   "id": "c0f91652",
   "metadata": {},
   "source": [
    "## 7. How Many Vowels? using for loop "
   ]
  },
  {
   "cell_type": "code",
   "execution_count": 13,
   "id": "628d778a",
   "metadata": {},
   "outputs": [
    {
     "name": "stdout",
     "output_type": "stream",
     "text": [
      "Enter a string: ayesha sidhikha\n",
      "Number of vowels: 6\n"
     ]
    }
   ],
   "source": [
    "# Input string\n",
    "text = input(\"Enter a string: \")\n",
    "\n",
    "# Initialize a variable to keep track of the vowel count\n",
    "vowel_count = 0\n",
    "\n",
    "# Convert the input string to lowercase to simplify the vowel check\n",
    "text = text.lower()\n",
    "\n",
    "# Define a string containing vowels\n",
    "vowels = \"aeiou\"\n",
    "\n",
    "# Iterate through the string using a for loop\n",
    "for char in text:\n",
    "    # Check if the character is a vowel\n",
    "    if char in vowels:\n",
    "        vowel_count += 1\n",
    "\n",
    "# Print the final vowel count\n",
    "print(\"Number of vowels:\", vowel_count)\n"
   ]
  },
  {
   "cell_type": "markdown",
   "id": "6414fa0c",
   "metadata": {},
   "source": [
    "## 8. How Many Vowels? using while loop "
   ]
  },
  {
   "cell_type": "code",
   "execution_count": 9,
   "id": "9d03a1d2",
   "metadata": {},
   "outputs": [
    {
     "name": "stdout",
     "output_type": "stream",
     "text": [
      "Enter a string: ayesha sidhikha\n",
      "Number of vowels: 6\n"
     ]
    }
   ],
   "source": [
    "# Input string\n",
    "text = input(\"Enter a string: \")\n",
    "\n",
    "# Initialize a variable to keep track of the vowel count\n",
    "vowel_count = 0\n",
    "\n",
    "# Iterate through each character in the string\n",
    "for char in text:\n",
    "    # Check if the character is a vowel (both lowercase and uppercase)\n",
    "    if char in \"aeiouAEIOU\":\n",
    "        vowel_count += 1\n",
    "\n",
    "# Print the final vowel count\n",
    "print(\"Number of vowels:\", vowel_count)\n"
   ]
  },
  {
   "cell_type": "markdown",
   "id": "c6acdacc",
   "metadata": {},
   "source": [
    "## 9. Find the Odd Integer using for loop "
   ]
  },
  {
   "cell_type": "code",
   "execution_count": 70,
   "id": "36be1db7",
   "metadata": {},
   "outputs": [
    {
     "name": "stdout",
     "output_type": "stream",
     "text": [
      "The first odd integer in the list is: 7\n"
     ]
    }
   ],
   "source": [
    "# Input list of integers\n",
    "numbers = [2, 4, 7, 10, 13, 16, 19]\n",
    "\n",
    "# Initialize a variable to store the odd integer\n",
    "odd_number = None\n",
    "\n",
    "# Iterate through the list using a for loop\n",
    "for num in numbers:\n",
    "    # Check if the number is odd\n",
    "    if num % 2 != 0:\n",
    "        odd_number = num\n",
    "        break  # Exit the loop as soon as an odd number is found\n",
    "\n",
    "# Check if an odd number was found\n",
    "if odd_number is not None:\n",
    "    print(\"The first odd integer in the list is:\", odd_number)\n",
    "else:\n",
    "    print(\"No odd integer found in the list.\")\n"
   ]
  },
  {
   "cell_type": "markdown",
   "id": "e301a91c",
   "metadata": {},
   "source": [
    "## 10. Find the Odd Integer using while loop "
   ]
  },
  {
   "cell_type": "code",
   "execution_count": 15,
   "id": "277cbe28",
   "metadata": {},
   "outputs": [
    {
     "name": "stdout",
     "output_type": "stream",
     "text": [
      "The first odd integer in the list is: 7\n"
     ]
    }
   ],
   "source": [
    "# Input list of integers\n",
    "numbers = [2, 4, 7, 10, 13, 16, 19]\n",
    "\n",
    "# Initialize a variable to store the odd integer\n",
    "odd_number = None\n",
    "\n",
    "# Initialize an index variable for the while loop\n",
    "index = 0\n",
    "\n",
    "# Iterate through the list using a while loop\n",
    "while index < len(numbers):\n",
    "    num = numbers[index]\n",
    "    # Check if the number is odd\n",
    "    if num % 2 != 0:\n",
    "        odd_number = num\n",
    "        break  # Exit the loop as soon as an odd number is found\n",
    "    index += 1\n",
    "\n",
    "# Check if an odd number was found\n",
    "if odd_number is not None:\n",
    "    print(\"The first odd integer in the list is:\", odd_number)\n",
    "else:\n",
    "    print(\"No odd integer found in the list.\")\n"
   ]
  },
  {
   "cell_type": "markdown",
   "id": "6d37c420",
   "metadata": {},
   "source": [
    "## 11. Hamming Distance using for loop "
   ]
  },
  {
   "cell_type": "code",
   "execution_count": 17,
   "id": "77c8b2cc",
   "metadata": {},
   "outputs": [
    {
     "name": "stdout",
     "output_type": "stream",
     "text": [
      "Enter the first string: ashu\n",
      "Enter the second string: asif\n",
      "Hamming distance: 2\n"
     ]
    }
   ],
   "source": [
    "# Input strings of equal length\n",
    "str1 = input(\"Enter the first string: \")\n",
    "str2 = input(\"Enter the second string: \")\n",
    "\n",
    "# Initialize a variable to keep track of the Hamming distance\n",
    "hamming_distance = 0\n",
    "\n",
    "# Ensure that the input strings are of equal length\n",
    "if len(str1) != len(str2):\n",
    "    print(\"The input strings must be of equal length.\")\n",
    "else:\n",
    "    # Iterate through the strings using a for loop\n",
    "    for i in range(len(str1)):\n",
    "        # Compare the characters at the same position in both strings\n",
    "        if str1[i] != str2[i]:\n",
    "            hamming_distance += 1\n",
    "\n",
    "    # Print the Hamming distance\n",
    "    print(\"Hamming distance:\", hamming_distance)\n"
   ]
  },
  {
   "cell_type": "markdown",
   "id": "6a1752f7",
   "metadata": {},
   "source": [
    "## 12. Hamming Distance using while loop "
   ]
  },
  {
   "cell_type": "code",
   "execution_count": 19,
   "id": "dc589f97",
   "metadata": {},
   "outputs": [
    {
     "name": "stdout",
     "output_type": "stream",
     "text": [
      "Enter the first string: ashu\n",
      "Enter the second string: asif\n",
      "Hamming distance: 2\n"
     ]
    }
   ],
   "source": [
    "# Input strings of equal length\n",
    "str1 = input(\"Enter the first string: \")\n",
    "str2 = input(\"Enter the second string: \")\n",
    "\n",
    "# Initialize a variable to keep track of the Hamming distance\n",
    "hamming_distance = 0\n",
    "\n",
    "# Ensure that the input strings are of equal length\n",
    "if len(str1) != len(str2):\n",
    "    print(\"The input strings must be of equal length.\")\n",
    "else:\n",
    "    # Initialize an index variable for the while loop\n",
    "    index = 0\n",
    "\n",
    "    # Iterate through the strings using a while loop\n",
    "    while index < len(str1):\n",
    "        # Compare the characters at the same position in both strings\n",
    "        if str1[index] != str2[index]:\n",
    "            hamming_distance += 1\n",
    "        index += 1\n",
    "\n",
    "    # Print the Hamming distance\n",
    "    print(\"Hamming distance:\", hamming_distance)\n"
   ]
  },
  {
   "cell_type": "markdown",
   "id": "b6d58fe1",
   "metadata": {},
   "source": [
    "## 13.Filter out Strings from an Array using for loop "
   ]
  },
  {
   "cell_type": "code",
   "execution_count": 20,
   "id": "3efbbe4e",
   "metadata": {},
   "outputs": [
    {
     "name": "stdout",
     "output_type": "stream",
     "text": [
      "Filtered strings: ['apple', 'banana', 'cherry']\n"
     ]
    }
   ],
   "source": [
    "# Input list with mixed data types\n",
    "data = [42, \"apple\", 3.14, \"banana\", 7, \"cherry\"]\n",
    "\n",
    "# Initialize an empty list to store the filtered strings\n",
    "strings = []\n",
    "\n",
    "# Iterate through the list using a for loop\n",
    "for item in data:\n",
    "    # Check if the item is a string\n",
    "    if isinstance(item, str):\n",
    "        strings.append(item)\n",
    "\n",
    "# Print the filtered strings\n",
    "print(\"Filtered strings:\", strings)\n"
   ]
  },
  {
   "cell_type": "markdown",
   "id": "4e8c9a43",
   "metadata": {},
   "source": [
    "## 14. Filter out Strings from an Array using while loop "
   ]
  },
  {
   "cell_type": "code",
   "execution_count": 22,
   "id": "6c066ff2",
   "metadata": {},
   "outputs": [
    {
     "name": "stdout",
     "output_type": "stream",
     "text": [
      "Filtered strings: ['apple', 'banana', 'cherry']\n"
     ]
    }
   ],
   "source": [
    "# Input list with mixed data types\n",
    "data = [42, \"apple\", 3.14, \"banana\", 7, \"cherry\"]\n",
    "\n",
    "# Create an empty list to store the filtered strings\n",
    "filtered_strings = []\n",
    "\n",
    "# Iterate through the list using a for loop\n",
    "for item in data:\n",
    "    # Check if the item is a string\n",
    "    if type(item) == str:\n",
    "        filtered_strings.append(item)\n",
    "\n",
    "# Print the filtered strings\n",
    "print(\"Filtered strings:\", filtered_strings)\n"
   ]
  },
  {
   "cell_type": "markdown",
   "id": "3ac7ac6c",
   "metadata": {},
   "source": [
    "## 15. Add the Index using for loop"
   ]
  },
  {
   "cell_type": "code",
   "execution_count": 23,
   "id": "70ff85d0",
   "metadata": {},
   "outputs": [
    {
     "name": "stdout",
     "output_type": "stream",
     "text": [
      "Indexed list: [(0, 10), (1, 20), (2, 30), (3, 40), (4, 50)]\n"
     ]
    }
   ],
   "source": [
    "# Input list\n",
    "my_list = [10, 20, 30, 40, 50]\n",
    "\n",
    "# Create an empty list to store the elements with their indexes\n",
    "indexed_list = []\n",
    "\n",
    "# Iterate through the list using a for loop and track the index\n",
    "for index, value in enumerate(my_list):\n",
    "    element_with_index = (index, value)\n",
    "    indexed_list.append(element_with_index)\n",
    "\n",
    "# Print the list with added indexes\n",
    "print(\"Indexed list:\", indexed_list)\n"
   ]
  },
  {
   "cell_type": "markdown",
   "id": "39271b6a",
   "metadata": {},
   "source": [
    "## 16. Add the Index using while loop"
   ]
  },
  {
   "cell_type": "code",
   "execution_count": 24,
   "id": "f876cb68",
   "metadata": {},
   "outputs": [
    {
     "name": "stdout",
     "output_type": "stream",
     "text": [
      "Indexed list: [(0, 10), (1, 20), (2, 30), (3, 40), (4, 50)]\n"
     ]
    }
   ],
   "source": [
    "# Input list\n",
    "my_list = [10, 20, 30, 40, 50]\n",
    "\n",
    "# Create an empty list to store the elements with their indexes\n",
    "indexed_list = []\n",
    "\n",
    "# Initialize an index variable for the while loop\n",
    "index = 0\n",
    "\n",
    "# Iterate through the list using a while loop and add the index\n",
    "while index < len(my_list):\n",
    "    element_with_index = (index, my_list[index])\n",
    "    indexed_list.append(element_with_index)\n",
    "    index += 1\n",
    "\n",
    "# Print the list with added indexes\n",
    "print(\"Indexed list:\", indexed_list)\n"
   ]
  },
  {
   "cell_type": "markdown",
   "id": "df19944d",
   "metadata": {},
   "source": [
    "## 17. Triangular Number Sequence using for loop "
   ]
  },
  {
   "cell_type": "code",
   "execution_count": 26,
   "id": "c73d2558",
   "metadata": {},
   "outputs": [
    {
     "name": "stdout",
     "output_type": "stream",
     "text": [
      "Enter the number of terms: 10\n",
      "1 3 6 10 15 21 28 36 45 55 \n"
     ]
    }
   ],
   "source": [
    "# Get the number of terms in the sequence from the user\n",
    "num_terms = int(input(\"Enter the number of terms: \"))\n",
    "\n",
    "# Initialize a variable to store the sum\n",
    "total = 0\n",
    "\n",
    "# Use a for loop to generate the sequence\n",
    "for i in range(1, num_terms + 1):\n",
    "    total += i\n",
    "    print(total, end=' ')\n",
    "\n",
    "# Output the sequence\n",
    "print()\n"
   ]
  },
  {
   "cell_type": "markdown",
   "id": "ae66e498",
   "metadata": {},
   "source": [
    "## 18. Triangular Number Sequence using while loop "
   ]
  },
  {
   "cell_type": "code",
   "execution_count": 27,
   "id": "b9024fd5",
   "metadata": {},
   "outputs": [
    {
     "name": "stdout",
     "output_type": "stream",
     "text": [
      "Enter the number of terms: 10\n",
      "1 3 6 10 15 21 28 36 45 55 \n"
     ]
    }
   ],
   "source": [
    "# Get the number of terms in the sequence from the user\n",
    "num_terms = int(input(\"Enter the number of terms: \"))\n",
    "\n",
    "# Initialize variables\n",
    "total = 0\n",
    "i = 1\n",
    "\n",
    "# Use a while loop to generate the sequence\n",
    "while i <= num_terms:\n",
    "    total += i\n",
    "    print(total, end=' ')\n",
    "    i += 1\n",
    "\n",
    "# Output the sequence\n",
    "print()\n"
   ]
  },
  {
   "cell_type": "markdown",
   "id": "ef9b2b52",
   "metadata": {},
   "source": [
    "## 19. Return Only the Integer using for loop"
   ]
  },
  {
   "cell_type": "code",
   "execution_count": 1,
   "id": "d4ce9ffb",
   "metadata": {},
   "outputs": [
    {
     "name": "stdout",
     "output_type": "stream",
     "text": [
      "[1, 2, 4]\n"
     ]
    }
   ],
   "source": [
    "# Input list containing mixed data types\n",
    "data = [1, 2, 'a', 3.14, 'b', 4, 5.0]\n",
    "\n",
    "# Create an empty list to store the integers\n",
    "integers = []\n",
    "\n",
    "# Use a for loop to iterate through the elements in the data list\n",
    "for item in data:\n",
    "    if isinstance(item, int):\n",
    "        integers.append(item)\n",
    "\n",
    "# Output the list containing only integers\n",
    "print(integers)\n"
   ]
  },
  {
   "cell_type": "markdown",
   "id": "21cd3bc4",
   "metadata": {},
   "source": [
    "## 20. Return Only the Integer using while loop"
   ]
  },
  {
   "cell_type": "code",
   "execution_count": 72,
   "id": "64526e61",
   "metadata": {},
   "outputs": [
    {
     "name": "stdout",
     "output_type": "stream",
     "text": [
      "[1, 2, 4]\n"
     ]
    }
   ],
   "source": [
    "# Input list containing mixed data types\n",
    "data = [1, 2, 'a', 3.14, 'b', 4, 5.0]\n",
    "\n",
    "# Create an empty list to store the integers\n",
    "integers = []\n",
    "\n",
    "# Initialize an index for the while loop\n",
    "index = 0\n",
    "\n",
    "# Use a while loop to iterate through the elements in the data list\n",
    "while index < len(data):\n",
    "    item = data[index]\n",
    "    if isinstance(item, int):\n",
    "        integers.append(item)\n",
    "    index += 1\n",
    "\n",
    "# Output the list containing only integers\n",
    "print(integers)\n"
   ]
  },
  {
   "cell_type": "markdown",
   "id": "0ce90951",
   "metadata": {},
   "source": [
    "## 21. Is the Word an Isogram? using for loop "
   ]
  },
  {
   "cell_type": "code",
   "execution_count": 1,
   "id": "3d16f7f6",
   "metadata": {},
   "outputs": [
    {
     "name": "stdout",
     "output_type": "stream",
     "text": [
      "Enter a word: ashu\n",
      "ashu is an isogram.\n"
     ]
    }
   ],
   "source": [
    "word = input(\"Enter a word: \")\n",
    "is_isogram = True\n",
    "\n",
    "for i in range(len(word)):\n",
    "    for j in range(i + 1, len(word)):\n",
    "        if word[i] == word[j]:\n",
    "            is_isogram = False\n",
    "            break\n",
    "\n",
    "if is_isogram:\n",
    "    print(f\"{word} is an isogram.\")\n",
    "else:\n",
    "    print(f\"{word} is not an isogram.\")\n"
   ]
  },
  {
   "cell_type": "markdown",
   "id": "4a6b55ae",
   "metadata": {},
   "source": [
    "## 22. Is the Word an Isogram? using while loop "
   ]
  },
  {
   "cell_type": "code",
   "execution_count": 2,
   "id": "ac020615",
   "metadata": {},
   "outputs": [
    {
     "name": "stdout",
     "output_type": "stream",
     "text": [
      "Enter a word: ashu\n",
      "ashu is an isogram.\n"
     ]
    }
   ],
   "source": [
    "word = input(\"Enter a word: \")\n",
    "is_isogram = True\n",
    "\n",
    "i = 0\n",
    "while i < len(word) and is_isogram:\n",
    "    j = i + 1\n",
    "    while j < len(word):\n",
    "        if word[i] == word[j]:\n",
    "            is_isogram = False\n",
    "            break\n",
    "        j += 1\n",
    "    i += 1\n",
    "\n",
    "if is_isogram:\n",
    "    print(f\"{word} is an isogram.\")\n",
    "else:\n",
    "    print(f\"{word} is not an isogram.\")\n"
   ]
  },
  {
   "cell_type": "markdown",
   "id": "6d77813c",
   "metadata": {},
   "source": [
    "## 23. Purge and Organize using for loop"
   ]
  },
  {
   "cell_type": "code",
   "execution_count": 3,
   "id": "d6b75bd5",
   "metadata": {},
   "outputs": [
    {
     "name": "stdout",
     "output_type": "stream",
     "text": [
      "Purged and organized list: [1, 2, 3, 5, 6, 7, 8]\n"
     ]
    }
   ],
   "source": [
    "# Initial list with duplicate and unorganized elements\n",
    "items = [3, 2, 6, 2, 1, 3, 5, 6, 7, 8]\n",
    "\n",
    "# Create an empty list to store the unique and organized elements\n",
    "result = []\n",
    "\n",
    "# Use a for loop to iterate through the original list\n",
    "for item in items:\n",
    "    if item not in result:\n",
    "        result.append(item)\n",
    "\n",
    "# Sort the result list in ascending order\n",
    "result.sort()\n",
    "\n",
    "# Print the purged and organized list\n",
    "print(\"Purged and organized list:\", result)\n"
   ]
  },
  {
   "cell_type": "markdown",
   "id": "ebd663cd",
   "metadata": {},
   "source": [
    "## 24. Purge and Organize using while loop"
   ]
  },
  {
   "cell_type": "code",
   "execution_count": 4,
   "id": "367cdd1a",
   "metadata": {},
   "outputs": [
    {
     "name": "stdout",
     "output_type": "stream",
     "text": [
      "Purged and organized list: [1, 2, 3, 5, 6, 7, 8]\n"
     ]
    }
   ],
   "source": [
    "# Initial list with duplicate and unorganized elements\n",
    "items = [3, 2, 6, 2, 1, 3, 5, 6, 7, 8]\n",
    "\n",
    "# Create an empty list to store the unique and organized elements\n",
    "result = []\n",
    "\n",
    "# Initialize an index for the while loop\n",
    "i = 0\n",
    "\n",
    "# Use a while loop to iterate through the original list\n",
    "while i < len(items):\n",
    "    item = items[i]\n",
    "    if item not in result:\n",
    "        result.append(item)\n",
    "    i += 1\n",
    "\n",
    "# Sort the result list in ascending order\n",
    "result.sort()\n",
    "\n",
    "# Print the purged and organized list\n",
    "print(\"Purged and organized list:\", result)\n"
   ]
  },
  {
   "cell_type": "markdown",
   "id": "90557fb8",
   "metadata": {},
   "source": [
    "## 25. Transform into a List with No Duplicates using for loop "
   ]
  },
  {
   "cell_type": "code",
   "execution_count": 5,
   "id": "5f69cb5b",
   "metadata": {},
   "outputs": [
    {
     "name": "stdout",
     "output_type": "stream",
     "text": [
      "List with no duplicates: [3, 2, 6, 1, 5, 7, 8]\n"
     ]
    }
   ],
   "source": [
    "# Initial list with duplicate elements\n",
    "original_list = [3, 2, 6, 2, 1, 3, 5, 6, 7, 8]\n",
    "\n",
    "# Create an empty list to store unique elements\n",
    "no_duplicates_list = []\n",
    "\n",
    "# Use a for loop to iterate through the original list\n",
    "for item in original_list:\n",
    "    if item not in no_duplicates_list:\n",
    "        no_duplicates_list.append(item)\n",
    "\n",
    "# Print the list with no duplicates\n",
    "print(\"List with no duplicates:\", no_duplicates_list)\n"
   ]
  },
  {
   "cell_type": "markdown",
   "id": "70fb88f1",
   "metadata": {},
   "source": [
    "## 26. Transform into a List with No Duplicates using while loop "
   ]
  },
  {
   "cell_type": "code",
   "execution_count": 6,
   "id": "ce531e7e",
   "metadata": {},
   "outputs": [
    {
     "name": "stdout",
     "output_type": "stream",
     "text": [
      "[1, 2, 3, 4, 5, 6]\n"
     ]
    }
   ],
   "source": [
    "# Input list with duplicates\n",
    "input_list = [1, 2, 2, 3, 4, 4, 5, 6, 6]\n",
    "\n",
    "# Create an empty list to store unique elements\n",
    "output_list = []\n",
    "\n",
    "# Initialize an index variable\n",
    "index = 0\n",
    "\n",
    "# Iterate through the input list using a while loop\n",
    "while index < len(input_list):\n",
    "    item = input_list[index]\n",
    "    \n",
    "    # Check if the item is not in the output list (no duplicates)\n",
    "    if item not in output_list:\n",
    "        # If not, add it to the output list\n",
    "        output_list.append(item)\n",
    "    \n",
    "    # Move to the next index\n",
    "    index += 1\n",
    "\n",
    "# Print the list with no duplicates\n",
    "print(output_list)\n"
   ]
  },
  {
   "cell_type": "markdown",
   "id": "fdf10dfd",
   "metadata": {},
   "source": [
    "## 27. Get Student Names using for loop "
   ]
  },
  {
   "cell_type": "code",
   "execution_count": 7,
   "id": "30fb75db",
   "metadata": {},
   "outputs": [
    {
     "name": "stdout",
     "output_type": "stream",
     "text": [
      "Enter the number of students: 3\n",
      "Enter the name of student 1: ayesha\n",
      "Enter the name of student 2: asif\n",
      "Enter the name of student 3: imran\n",
      "Student Names:\n",
      "ayesha\n",
      "asif\n",
      "imran\n"
     ]
    }
   ],
   "source": [
    "# Initialize an empty list to store student names\n",
    "student_names = []\n",
    "\n",
    "# Define the number of students\n",
    "num_students = int(input(\"Enter the number of students: \"))\n",
    "\n",
    "# Use a for loop to get student names\n",
    "for i in range(num_students):\n",
    "    name = input(f\"Enter the name of student {i + 1}: \")\n",
    "    student_names.append(name)\n",
    "\n",
    "# Print the list of student names\n",
    "print(\"Student Names:\")\n",
    "for name in student_names:\n",
    "    print(name)\n"
   ]
  },
  {
   "cell_type": "markdown",
   "id": "476eb5bd",
   "metadata": {},
   "source": [
    "## 28. Get Student Names using while loop "
   ]
  },
  {
   "cell_type": "code",
   "execution_count": 8,
   "id": "57e0559e",
   "metadata": {},
   "outputs": [
    {
     "name": "stdout",
     "output_type": "stream",
     "text": [
      "Enter the number of students: 3\n",
      "Enter the name of student 1: rahamath\n",
      "Enter the name of student 2: yaseen\n",
      "Enter the name of student 3: omar\n",
      "Student Names:\n",
      "rahamath\n",
      "yaseen\n",
      "omar\n"
     ]
    }
   ],
   "source": [
    "# Initialize an empty list to store student names\n",
    "student_names = []\n",
    "\n",
    "# Define the number of students\n",
    "num_students = int(input(\"Enter the number of students: \"))\n",
    "\n",
    "# Initialize a counter\n",
    "count = 0\n",
    "\n",
    "# Use a while loop to get student names\n",
    "while count < num_students:\n",
    "    name = input(f\"Enter the name of student {count + 1}: \")\n",
    "    student_names.append(name)\n",
    "    count += 1\n",
    "\n",
    "# Print the list of student names\n",
    "print(\"Student Names:\")\n",
    "for name in student_names:\n",
    "    print(name)\n"
   ]
  },
  {
   "cell_type": "markdown",
   "id": "512f67ef",
   "metadata": {},
   "source": [
    "## 29. Say Hello to Guests using for loop"
   ]
  },
  {
   "cell_type": "code",
   "execution_count": 15,
   "id": "24c37dfd",
   "metadata": {},
   "outputs": [
    {
     "name": "stdout",
     "output_type": "stream",
     "text": [
      "Hello, Ayesha! Welcome to our event.\n",
      "Hello, Asif! Welcome to our event.\n",
      "Hello, Imran! Welcome to our event.\n",
      "Hello, Yaseen! Welcome to our event.\n",
      "Hello, Rahamath! Welcome to our event.\n"
     ]
    }
   ],
   "source": [
    "# List of guest names\n",
    "guests = [\"Ayesha\",\"Asif\",\"Imran\",\"Yaseen\",\"Rahamath\"]\n",
    "\n",
    "# Use a for loop to greet each guest\n",
    "for guest in guests:\n",
    "    print(f\"Hello, {guest}! Welcome to our event.\")\n",
    "\n",
    "# Output:\n",
    "# Hello, Alice! Welcome to our event.\n",
    "# Hello, Bob! Welcome to our event.\n",
    "# Hello, Charlie! Welcome to our event.\n",
    "# Hello, David! Welcome to our event.\n",
    "# Hello, Eve! Welcome to our event.\n"
   ]
  },
  {
   "cell_type": "markdown",
   "id": "2e92711c",
   "metadata": {},
   "source": [
    "## 30. Say Hello to Guests using while loop"
   ]
  },
  {
   "cell_type": "code",
   "execution_count": 16,
   "id": "77602331",
   "metadata": {},
   "outputs": [
    {
     "name": "stdout",
     "output_type": "stream",
     "text": [
      "Hello, Ayesha! Welcome to our event.\n",
      "Hello, Asif! Welcome to our event.\n",
      "Hello, Imran! Welcome to our event.\n",
      "Hello, Yaseen! Welcome to our event.\n",
      "Hello, Rahamath! Welcome to our event.\n"
     ]
    }
   ],
   "source": [
    "# List of guest names\n",
    "guests = [\"Ayesha\",\"Asif\",\"Imran\",\"Yaseen\",\"Rahamath\"]\n",
    "\n",
    "# Initialize a counter\n",
    "count = 0\n",
    "\n",
    "# Use a while loop to greet each guest\n",
    "while count < len(guests):\n",
    "    guest = guests[count]\n",
    "    print(f\"Hello, {guest}! Welcome to our event.\")\n",
    "    count += 1\n",
    "\n",
    "# Output:\n",
    "# Hello, Alice! Welcome to our event.\n",
    "# Hello, Bob! Welcome to our event.\n",
    "# Hello, Charlie! Welcome to our event.\n",
    "# Hello, David! Welcome to our event.\n",
    "# Hello, Eve! Welcome to our event.\n"
   ]
  },
  {
   "cell_type": "markdown",
   "id": "4621a7ae",
   "metadata": {},
   "source": [
    "## 31. Find the Mean of All Digits using for loop ##"
   ]
  },
  {
   "cell_type": "code",
   "execution_count": 12,
   "id": "7221faf2",
   "metadata": {},
   "outputs": [
    {
     "name": "stdout",
     "output_type": "stream",
     "text": [
      "Enter a number: 12\n",
      "Mean of all digits: 1.5\n"
     ]
    }
   ],
   "source": [
    "# Input a number\n",
    "num = int(input(\"Enter a number: \"))\n",
    "\n",
    "# Initialize variables to store the sum and count of digits\n",
    "total = 0\n",
    "count = 0\n",
    "\n",
    "# Calculate the sum of all digits in the number\n",
    "while num > 0:\n",
    "    digit = num % 10\n",
    "    total += digit\n",
    "    count += 1\n",
    "    num //= 10\n",
    "\n",
    "# Calculate the mean\n",
    "mean = total / count\n",
    "\n",
    "# Display the result\n",
    "print(f\"Mean of all digits: {mean}\")\n"
   ]
  },
  {
   "cell_type": "markdown",
   "id": "79c5ff58",
   "metadata": {},
   "source": [
    "## 32. Find the Mean of All Digits using while loop"
   ]
  },
  {
   "cell_type": "code",
   "execution_count": 13,
   "id": "eccc74df",
   "metadata": {},
   "outputs": [
    {
     "name": "stdout",
     "output_type": "stream",
     "text": [
      "Enter a number: 12\n",
      "Mean of all digits: 1.5\n"
     ]
    }
   ],
   "source": [
    "# Input a number\n",
    "num = int(input(\"Enter a number: \"))\n",
    "\n",
    "# Initialize variables to store the sum and count of digits\n",
    "total = 0\n",
    "count = 0\n",
    "\n",
    "# Calculate the sum of all digits in the number\n",
    "while num > 0:\n",
    "    digit = num % 10\n",
    "    total += digit\n",
    "    count += 1\n",
    "    num //= 10\n",
    "\n",
    "# Calculate the mean\n",
    "if count > 0:\n",
    "    mean = total / count\n",
    "    print(f\"Mean of all digits: {mean}\")\n",
    "else:\n",
    "    print(\"No digits to calculate the mean.\")\n"
   ]
  },
  {
   "cell_type": "markdown",
   "id": "4e54357a",
   "metadata": {},
   "source": [
    "## 33. Typing Game  using for loop"
   ]
  },
  {
   "cell_type": "code",
   "execution_count": 16,
   "id": "cc7aec65",
   "metadata": {},
   "outputs": [
    {
     "name": "stdout",
     "output_type": "stream",
     "text": [
      "Type the word: apple\n",
      "2\n",
      "Incorrect. Your final score is: 0\n"
     ]
    }
   ],
   "source": [
    "import random\n",
    "\n",
    "words = [\"apple\", \"banana\", \"cherry\", \"date\", \"elderberry\", \"fig\", \"grape\", \"honeydew\", \"kiwi\", \"lemon\", \"mango\", \"nectarine\", \"orange\", \"papaya\", \"quince\", \"raspberry\", \"strawberry\", \"tangerine\", \"watermelon\"]\n",
    "\n",
    "score = 0\n",
    "\n",
    "for word in words:\n",
    "    print(\"Type the word:\", word)\n",
    "    \n",
    "    user_input = input()\n",
    "    \n",
    "    if user_input == word:\n",
    "        print(\"Correct!\\n\")\n",
    "        score += 1\n",
    "    else:\n",
    "        print(\"Incorrect. Your final score is:\", score)\n",
    "        break\n"
   ]
  },
  {
   "cell_type": "markdown",
   "id": "d401dd47",
   "metadata": {},
   "source": [
    "## 34. Typing Game  using while loop"
   ]
  },
  {
   "cell_type": "code",
   "execution_count": 17,
   "id": "2e0a1b09",
   "metadata": {},
   "outputs": [
    {
     "name": "stdout",
     "output_type": "stream",
     "text": [
      "Type the word: papaya\n",
      "3\n",
      "Incorrect. Your score is: 0\n"
     ]
    }
   ],
   "source": [
    "import random\n",
    "\n",
    "words = [\"apple\", \"banana\", \"cherry\", \"date\", \"elderberry\", \"fig\", \"grape\", \"honeydew\", \"kiwi\", \"lemon\", \"mango\", \"nectarine\", \"orange\", \"papaya\", \"quince\", \"raspberry\", \"strawberry\", \"tangerine\", \"watermelon\"]\n",
    "\n",
    "score = 0\n",
    "\n",
    "while True:\n",
    "    word = random.choice(words)\n",
    "    print(\"Type the word:\", word)\n",
    "    \n",
    "    user_input = input()\n",
    "    \n",
    "    if user_input == word:\n",
    "        print(\"Correct!\\n\")\n",
    "        score += 1\n",
    "    else:\n",
    "        print(\"Incorrect. Your score is:\", score)\n",
    "        break\n"
   ]
  },
  {
   "cell_type": "markdown",
   "id": "7ea32700",
   "metadata": {},
   "source": [
    "## 35. True Ones, False Zeros using for loop"
   ]
  },
  {
   "cell_type": "code",
   "execution_count": 19,
   "id": "bd923091",
   "metadata": {},
   "outputs": [
    {
     "name": "stdout",
     "output_type": "stream",
     "text": [
      "[1, 0, 1, 0, 1, 0, 1, 0, 1, 0]\n"
     ]
    }
   ],
   "source": [
    "# Define the length of the sequence\n",
    "sequence_length = 10\n",
    "\n",
    "# Initialize an empty list to store the values\n",
    "code = []\n",
    "\n",
    "# Use a for loop to generate the sequence\n",
    "for i in range(sequence_length):\n",
    "    # Use an if statement to generate True (1) or False (0) alternately\n",
    "    if i % 2 == 0:\n",
    "        code.append(1)  # True\n",
    "    else:\n",
    "        code.append(0)  # False\n",
    "\n",
    "# Print the generated code\n",
    "print(code)\n"
   ]
  },
  {
   "cell_type": "markdown",
   "id": "abed936e",
   "metadata": {},
   "source": [
    "## 36. True Ones, False Zeros using while loop"
   ]
  },
  {
   "cell_type": "code",
   "execution_count": 20,
   "id": "20d266cb",
   "metadata": {},
   "outputs": [
    {
     "name": "stdout",
     "output_type": "stream",
     "text": [
      "[0, 1, 0, 1, 0, 1, 0, 1, 0, 1]\n"
     ]
    }
   ],
   "source": [
    "# Define the length of the sequence\n",
    "sequence_length = 10\n",
    "\n",
    "# Initialize a counter and an empty list to store the values\n",
    "count = 0\n",
    "code = []\n",
    "\n",
    "# Use a while loop to generate the sequence\n",
    "while count < sequence_length:\n",
    "    # Use the counter to determine True (1) or False (0)\n",
    "    value = count % 2\n",
    "    code.append(value)\n",
    "\n",
    "    # Increment the counter\n",
    "    count += 1\n",
    "\n",
    "# Print the generated code\n",
    "print(code)\n"
   ]
  },
  {
   "cell_type": "markdown",
   "id": "77c26e90",
   "metadata": {},
   "source": [
    "## 37. Is One List a Subset of Another? using for loop"
   ]
  },
  {
   "cell_type": "code",
   "execution_count": 21,
   "id": "e6644382",
   "metadata": {},
   "outputs": [
    {
     "name": "stdout",
     "output_type": "stream",
     "text": [
      "1011001\n"
     ]
    }
   ],
   "source": [
    "boolean_values = [True, False, True, True, False, False, True]\n",
    "\n",
    "for value in boolean_values:\n",
    "    if value:\n",
    "        print('1', end='')\n",
    "    else:\n",
    "        print('0', end='')\n",
    "\n",
    "print()  # Print a newline at the end\n"
   ]
  },
  {
   "cell_type": "markdown",
   "id": "86b1f5fb",
   "metadata": {},
   "source": [
    "## 38. Is One List a Subset of Another? using while loop"
   ]
  },
  {
   "cell_type": "code",
   "execution_count": 22,
   "id": "8b82cf88",
   "metadata": {},
   "outputs": [
    {
     "name": "stdout",
     "output_type": "stream",
     "text": [
      "1011001\n"
     ]
    }
   ],
   "source": [
    "boolean_values = [True, False, True, True, False, False, True]\n",
    "index = 0\n",
    "\n",
    "while index < len(boolean_values):\n",
    "    if boolean_values[index]:\n",
    "        print('1', end='')\n",
    "    else:\n",
    "        print('0', end='')\n",
    "    index += 1\n",
    "\n",
    "print()  # Print a newline at the end\n"
   ]
  },
  {
   "cell_type": "markdown",
   "id": "275513c5",
   "metadata": {},
   "source": [
    "## 39. Scrabble Hand using for loop"
   ]
  },
  {
   "cell_type": "code",
   "execution_count": 1,
   "id": "37eac714",
   "metadata": {},
   "outputs": [
    {
     "name": "stdout",
     "output_type": "stream",
     "text": [
      "list2 is a subset of list1\n"
     ]
    }
   ],
   "source": [
    "#1\n",
    "# Define two lists\n",
    "list1 = [1, 2, 3, 4, 5]\n",
    "list2 = [2, 3, 4]\n",
    "\n",
    "# Initialize a flag to check if list2 is a subset of list1\n",
    "is_subset = True\n",
    "\n",
    "# Iterate over elements in list2\n",
    "for item in list2:\n",
    "    if item not in list1:\n",
    "        is_subset = False\n",
    "        break\n",
    "\n",
    "if is_subset:\n",
    "    print(\"list2 is a subset of list1\")\n",
    "else:\n",
    "    print(\"list2 is not a subset of list1\")\n"
   ]
  },
  {
   "cell_type": "markdown",
   "id": "6360994b",
   "metadata": {},
   "source": [
    "## 40. Scrabble Hand using for loop"
   ]
  },
  {
   "cell_type": "code",
   "execution_count": 3,
   "id": "db149a4f",
   "metadata": {},
   "outputs": [
    {
     "name": "stdout",
     "output_type": "stream",
     "text": [
      "list2 is a subset of list1\n"
     ]
    }
   ],
   "source": [
    "# Define two lists\n",
    "list1 = [1, 2, 3, 4, 5]\n",
    "list2 = [2, 3, 4]\n",
    "\n",
    "# Initialize a flag to check if list2 is a subset of list1\n",
    "is_subset = True\n",
    "\n",
    "# Create index variables to iterate through list2\n",
    "index1 = 0\n",
    "index2 = 0\n",
    "\n",
    "# Iterate through both lists using a while loop\n",
    "while index2 < len(list2):\n",
    "    if list2[index2] == list1[index1]:\n",
    "        index2 += 1\n",
    "    index1 += 1\n",
    "\n",
    "    # If we reach the end of list1 and still haven't found all elements of list2, it's not a subset\n",
    "    if index1 == len(list1) and index2 < len(list2):\n",
    "        is_subset = False\n",
    "        break\n",
    "\n",
    "if is_subset:\n",
    "    print(\"list2 is a subset of list1\")\n",
    "else:\n",
    "    print(\"list2 is not a subset of list1\")\n"
   ]
  },
  {
   "cell_type": "markdown",
   "id": "8fa075b5",
   "metadata": {},
   "source": [
    "## 41. Amplify the Multiples of Four using for loop"
   ]
  },
  {
   "cell_type": "code",
   "execution_count": 18,
   "id": "a2761112",
   "metadata": {},
   "outputs": [
    {
     "name": "stdout",
     "output_type": "stream",
     "text": [
      "1\n",
      "2\n",
      "3\n",
      "4 amplified is 8\n",
      "5\n",
      "6\n",
      "7\n",
      "8 amplified is 16\n",
      "9\n",
      "10\n",
      "11\n",
      "12 amplified is 24\n",
      "13\n",
      "14\n",
      "15\n",
      "16 amplified is 32\n",
      "17\n",
      "18\n",
      "19\n",
      "20 amplified is 40\n"
     ]
    }
   ],
   "source": [
    "## Amplify the multiples of four within a range\n",
    "start = 1\n",
    "end = 20\n",
    "amplification_factor = 2  # Adjust this factor as needed\n",
    "\n",
    "for num in range(start, end + 1):\n",
    "    if num % 4 == 0:  # Check if the number is a multiple of 4\n",
    "        amplified_num = num * amplification_factor\n",
    "        print(f\"{num} amplified is {amplified_num}\")\n",
    "    else:\n",
    "        print(num)\n"
   ]
  },
  {
   "cell_type": "markdown",
   "id": "b91e4119",
   "metadata": {},
   "source": [
    "## 42. Amplify the Multiples of Four using while loop"
   ]
  },
  {
   "cell_type": "code",
   "execution_count": 19,
   "id": "3e23d489",
   "metadata": {},
   "outputs": [
    {
     "name": "stdout",
     "output_type": "stream",
     "text": [
      "1\n",
      "2\n",
      "3\n",
      "4 amplified is 8\n",
      "5\n",
      "6\n",
      "7\n",
      "8 amplified is 16\n",
      "9\n",
      "10\n",
      "11\n",
      "12 amplified is 24\n",
      "13\n",
      "14\n",
      "15\n",
      "16 amplified is 32\n",
      "17\n",
      "18\n",
      "19\n",
      "20 amplified is 40\n"
     ]
    }
   ],
   "source": [
    "# Amplify the multiples of four using a while loop\n",
    "start = 1\n",
    "end = 20\n",
    "amplification_factor = 2  # Adjust this factor as needed\n",
    "num = start\n",
    "\n",
    "while num <= end:\n",
    "    if num % 4 == 0:  # Check if the number is a multiple of 4\n",
    "        amplified_num = num * amplification_factor\n",
    "        print(f\"{num} amplified is {amplified_num}\")\n",
    "    else:\n",
    "        print(num)\n",
    "    num += 1\n"
   ]
  },
  {
   "cell_type": "markdown",
   "id": "1d101756",
   "metadata": {},
   "source": [
    "## 43. Joining Digits Together using for loop"
   ]
  },
  {
   "cell_type": "code",
   "execution_count": 17,
   "id": "76434ad8",
   "metadata": {},
   "outputs": [
    {
     "name": "stdout",
     "output_type": "stream",
     "text": [
      "12345\n"
     ]
    }
   ],
   "source": [
    "# List of digits\n",
    "digits = [1, 2, 3, 4, 5]\n",
    "\n",
    "# Initialize the result as 0\n",
    "result = 0\n",
    "\n",
    "# Iterate through the digits and join them together\n",
    "for digit in digits:\n",
    "    result = result * 10 + digit\n",
    "\n",
    "print(result)\n",
    "\n"
   ]
  },
  {
   "cell_type": "markdown",
   "id": "eb6a7166",
   "metadata": {},
   "source": [
    "## 44.  Joining Digits Together using while loop"
   ]
  },
  {
   "cell_type": "code",
   "execution_count": 18,
   "id": "c1588450",
   "metadata": {},
   "outputs": [
    {
     "name": "stdout",
     "output_type": "stream",
     "text": [
      "12345\n"
     ]
    }
   ],
   "source": [
    "# List of digits\n",
    "digits = [1, 2, 3, 4, 5]\n",
    "\n",
    "# Initialize the result as 0\n",
    "result = 0\n",
    "\n",
    "# Create an index variable to iterate through the digits\n",
    "index = 0\n",
    "\n",
    "# Use a while loop to join the digits together\n",
    "while index < len(digits):\n",
    "    result = result * 10 + digits[index]\n",
    "    index += 1\n",
    "\n",
    "print(result)\n",
    "\n"
   ]
  },
  {
   "cell_type": "markdown",
   "id": "7a358e08",
   "metadata": {},
   "source": [
    "## 45. One Button Messaging Device using for loop"
   ]
  },
  {
   "cell_type": "code",
   "execution_count": 22,
   "id": "799b6ba2",
   "metadata": {},
   "outputs": [
    {
     "name": "stdout",
     "output_type": "stream",
     "text": [
      "Sending message: Hello, World!\n",
      "Sending message: Hello, World!\n",
      "Sending message: Hello, World!\n"
     ]
    }
   ],
   "source": [
    "# Define the predefined message\n",
    "message = \"Hello, World!\"\n",
    "\n",
    "# Simulate the one-button messaging device\n",
    "button_pressed = True  # Simulate the button press\n",
    "\n",
    "if button_pressed:\n",
    "    for _ in range(3):  # Simulate sending the message three times\n",
    "        print(\"Sending message:\", message)\n",
    "else:\n",
    "    print(\"Button not pressed. No message sent.\")\n"
   ]
  },
  {
   "cell_type": "markdown",
   "id": "9433cae9",
   "metadata": {},
   "source": [
    "## 46. One Button Messaging Device using while loop"
   ]
  },
  {
   "cell_type": "code",
   "execution_count": 24,
   "id": "7ddf7eb6",
   "metadata": {},
   "outputs": [
    {
     "name": "stdout",
     "output_type": "stream",
     "text": [
      "Sending message: Hello, World!\n",
      "Sending message: Hello, World!\n",
      "Sending message: Hello, World!\n",
      "Maximum messages sent. Button released.\n"
     ]
    }
   ],
   "source": [
    "# Define the predefined message\n",
    "message = \"Hello, World!\"\n",
    "\n",
    "# Simulate the one-button messaging device\n",
    "button_pressed = True  # Simulate the button press\n",
    "messages_sent = 0  # Track the number of messages sent\n",
    "\n",
    "while button_pressed:\n",
    "    if messages_sent < 3:  # Simulate sending the message three times\n",
    "        print(\"Sending message:\", message)\n",
    "        messages_sent += 1\n",
    "    else:\n",
    "        print(\"Maximum messages sent. Button released.\")\n",
    "        button_pressed = False\n"
   ]
  },
  {
   "cell_type": "markdown",
   "id": "01deb7fa",
   "metadata": {},
   "source": [
    "## 47. Amplify the Multiples of Four using for loop"
   ]
  },
  {
   "cell_type": "code",
   "execution_count": 1,
   "id": "20e6ce67",
   "metadata": {},
   "outputs": [
    {
     "name": "stdout",
     "output_type": "stream",
     "text": [
      "Number of YouTube video uploads: 5\n"
     ]
    }
   ],
   "source": [
    "# Assuming you have a list of video titles\n",
    "video_titles = [\"Video 1\", \"Video 2\", \"Video 3\", \"Video 4\", \"Video 5\"]\n",
    "\n",
    "# Initialize a counter\n",
    "upload_count = 0\n",
    "\n",
    "# Loop through the video titles\n",
    "for title in video_titles:\n",
    "    if \"Video\" in title:  # Check if the title contains \"Video\"\n",
    "        upload_count += 1  # Increment the upload count\n",
    "\n",
    "# Print the upload count\n",
    "print(\"Number of YouTube video uploads:\", upload_count)\n"
   ]
  },
  {
   "cell_type": "markdown",
   "id": "dedbd034",
   "metadata": {},
   "source": [
    "## 48. Amplify the Multiples of Four using while loop"
   ]
  },
  {
   "cell_type": "code",
   "execution_count": 2,
   "id": "3c41a42b",
   "metadata": {},
   "outputs": [
    {
     "name": "stdout",
     "output_type": "stream",
     "text": [
      "Number of YouTube video uploads: 5\n"
     ]
    }
   ],
   "source": [
    "# Assuming you have a list of video titles\n",
    "video_titles = [\"Video 1\", \"Video 2\", \"Video 3\", \"Video 4\", \"Video 5\"]\n",
    "\n",
    "# Initialize a counter\n",
    "upload_count = 0\n",
    "\n",
    "# Create an index variable\n",
    "index = 0\n",
    "\n",
    "# Use a while loop to iterate through the video titles\n",
    "while index < len(video_titles):\n",
    "    title = video_titles[index]\n",
    "    if \"Video\" in title:  # Check if the title contains \"Video\"\n",
    "        upload_count += 1  # Increment the upload count\n",
    "    index += 1  # Move to the next title\n",
    "\n",
    "# Print the upload count\n",
    "print(\"Number of YouTube video uploads:\", upload_count)\n"
   ]
  },
  {
   "cell_type": "markdown",
   "id": "e2ea5abd",
   "metadata": {},
   "source": [
    "## 49. Sum of all Evens in a Matrix using for loop"
   ]
  },
  {
   "cell_type": "code",
   "execution_count": 3,
   "id": "457e8fef",
   "metadata": {},
   "outputs": [
    {
     "name": "stdout",
     "output_type": "stream",
     "text": [
      "Sum of even numbers in the matrix: 20\n"
     ]
    }
   ],
   "source": [
    "# Create a sample matrix (2D list)\n",
    "matrix = [\n",
    "    [1, 2, 3],\n",
    "    [4, 5, 6],\n",
    "    [7, 8, 9]\n",
    "]\n",
    "\n",
    "# Initialize the sum of even numbers\n",
    "even_sum = 0\n",
    "\n",
    "# Loop through the rows of the matrix\n",
    "for row in matrix:\n",
    "    # Loop through the elements in each row\n",
    "    for num in row:\n",
    "        if num % 2 == 0:  # Check if the number is even\n",
    "            even_sum += num  # Add the even number to the sum\n",
    "\n",
    "# Print the sum of even numbers\n",
    "print(\"Sum of even numbers in the matrix:\", even_sum)\n"
   ]
  },
  {
   "cell_type": "markdown",
   "id": "1dcc0637",
   "metadata": {},
   "source": [
    "## 50. Sum of all Evens in a Matrix using while loop"
   ]
  },
  {
   "cell_type": "code",
   "execution_count": 5,
   "id": "7a5bda3c",
   "metadata": {},
   "outputs": [
    {
     "name": "stdout",
     "output_type": "stream",
     "text": [
      "Sum of even numbers in the matrix: 20\n"
     ]
    }
   ],
   "source": [
    "# Define a matrix as a list of lists\n",
    "matrix = [\n",
    "    [1, 2, 3],\n",
    "    [4, 5, 6],\n",
    "    [7, 8, 9]\n",
    "]\n",
    "\n",
    "# Initialize a variable to store the sum of even numbers\n",
    "even_sum = 0\n",
    "\n",
    "# Initialize row and column variables to navigate the matrix\n",
    "row = 0\n",
    "column = 0\n",
    "\n",
    "# Use a while loop to iterate through the matrix\n",
    "while row < len(matrix):\n",
    "    while column < len(matrix[row]):\n",
    "        num = matrix[row][column]\n",
    "        if num % 2 == 0:  # Check if the number is even\n",
    "            even_sum += num  # Add the even number to the sum\n",
    "        column += 1  # Move to the next column\n",
    "    column = 0  # Reset the column index for the next row\n",
    "    row += 1  # Move to the next row\n",
    "\n",
    "# Print the sum of even numbers in the matrix\n",
    "print(\"Sum of even numbers in the matrix:\", even_sum)\n"
   ]
  },
  {
   "cell_type": "markdown",
   "id": "d7bb4bb6",
   "metadata": {},
   "source": [
    "## 51. Factor Chain using for loop"
   ]
  },
  {
   "cell_type": "code",
   "execution_count": 6,
   "id": "c542df86",
   "metadata": {},
   "outputs": [
    {
     "name": "stdout",
     "output_type": "stream",
     "text": [
      "Enter the first number: 20\n",
      "Enter the length of the factor chain: 3\n",
      "20 2 2 "
     ]
    }
   ],
   "source": [
    "# Initialize the first number in the chain\n",
    "number = int(input(\"Enter the first number: \"))\n",
    "chain_length = int(input(\"Enter the length of the factor chain: \"))\n",
    "\n",
    "# Loop to generate the factor chain\n",
    "for _ in range(chain_length):\n",
    "    print(number, end=\" \")\n",
    "    \n",
    "    # Find the next factor\n",
    "    for factor in range(2, number + 1):\n",
    "        if number % factor == 0:\n",
    "            number = factor\n",
    "            break\n"
   ]
  },
  {
   "cell_type": "markdown",
   "id": "0ce939c6",
   "metadata": {},
   "source": [
    "## 52. Factor Chain using while loop"
   ]
  },
  {
   "cell_type": "code",
   "execution_count": 8,
   "id": "a0320cb5",
   "metadata": {},
   "outputs": [
    {
     "name": "stdout",
     "output_type": "stream",
     "text": [
      "Enter the first number: 30\n",
      "Enter the length of the factor chain: 10\n",
      "30 2 2 2 2 2 2 2 2 2 "
     ]
    }
   ],
   "source": [
    "# Initialize the first number in the chain\n",
    "number = int(input(\"Enter the first number: \"))\n",
    "chain_length = int(input(\"Enter the length of the factor chain: \"))\n",
    "\n",
    "# Generate the factor chain\n",
    "count = 0\n",
    "\n",
    "while count < chain_length:\n",
    "    print(number, end=\" \")\n",
    "    \n",
    "    # Find the next factor\n",
    "    factor = 2\n",
    "    while number % factor != 0:\n",
    "        factor += 1\n",
    "\n",
    "    number = factor\n",
    "    count += 1\n"
   ]
  },
  {
   "cell_type": "markdown",
   "id": "48d1efc3",
   "metadata": {},
   "source": [
    "## 53. Multi-division using for loop"
   ]
  },
  {
   "cell_type": "code",
   "execution_count": 9,
   "id": "49428e43",
   "metadata": {},
   "outputs": [
    {
     "name": "stdout",
     "output_type": "stream",
     "text": [
      "Enter the initial number: 5\n",
      "Enter the divisor: 6\n",
      "Enter the number of divisions: 8\n",
      "5 // 6 = 0, remainder = 5\n",
      "0 // 6 = 0, remainder = 0\n",
      "0 // 6 = 0, remainder = 0\n",
      "0 // 6 = 0, remainder = 0\n",
      "0 // 6 = 0, remainder = 0\n",
      "0 // 6 = 0, remainder = 0\n",
      "0 // 6 = 0, remainder = 0\n",
      "0 // 6 = 0, remainder = 0\n"
     ]
    }
   ],
   "source": [
    "# Initialize the initial number and divisor\n",
    "number = int(input(\"Enter the initial number: \"))\n",
    "divisor = int(input(\"Enter the divisor: \"))\n",
    "iterations = int(input(\"Enter the number of divisions: \"))\n",
    "\n",
    "# Perform multi-division using a for loop\n",
    "for _ in range(iterations):\n",
    "    result = number // divisor  # Use integer division to get the quotient\n",
    "    remainder = number % divisor  # Get the remainder\n",
    "    print(f\"{number} // {divisor} = {result}, remainder = {remainder}\")\n",
    "    number = result  # Update the number for the next iteration\n"
   ]
  },
  {
   "cell_type": "markdown",
   "id": "6464cf06",
   "metadata": {},
   "source": [
    "## 54. Multi-division using while loop"
   ]
  },
  {
   "cell_type": "code",
   "execution_count": 10,
   "id": "96baf2dc",
   "metadata": {},
   "outputs": [
    {
     "name": "stdout",
     "output_type": "stream",
     "text": [
      "Enter the initial number: 5\n",
      "Enter the divisor: 6\n",
      "Enter the number of divisions: 8\n",
      "5 // 6 = 0, remainder = 5\n",
      "0 // 6 = 0, remainder = 0\n",
      "0 // 6 = 0, remainder = 0\n",
      "0 // 6 = 0, remainder = 0\n",
      "0 // 6 = 0, remainder = 0\n",
      "0 // 6 = 0, remainder = 0\n",
      "0 // 6 = 0, remainder = 0\n",
      "0 // 6 = 0, remainder = 0\n"
     ]
    }
   ],
   "source": [
    "# Initialize the initial number and divisor\n",
    "number = int(input(\"Enter the initial number: \"))\n",
    "divisor = int(input(\"Enter the divisor: \"))\n",
    "iterations = int(input(\"Enter the number of divisions: \"))\n",
    "\n",
    "# Perform multi-division using a while loop\n",
    "count = 0\n",
    "\n",
    "while count < iterations:\n",
    "    result = number // divisor  # Use integer division to get the quotient\n",
    "    remainder = number % divisor  # Get the remainder\n",
    "    print(f\"{number} // {divisor} = {result}, remainder = {remainder}\")\n",
    "    number = result  # Update the number for the next iteration\n",
    "    count += 1\n"
   ]
  },
  {
   "cell_type": "markdown",
   "id": "4323df4a",
   "metadata": {},
   "source": [
    "## 55. Return a List of Sublists using for loop"
   ]
  },
  {
   "cell_type": "code",
   "execution_count": 12,
   "id": "e33d5864",
   "metadata": {},
   "outputs": [
    {
     "name": "stdout",
     "output_type": "stream",
     "text": [
      "[[1, 2, 3], [4, 5, 6], [7, 8, 9]]\n"
     ]
    }
   ],
   "source": [
    "# Initialize the list of elements\n",
    "elements = [1, 2, 3, 4, 5, 6, 7, 8, 9]\n",
    "sublist_size = 3  # Size of each sublist\n",
    "\n",
    "# Create a list of sublists\n",
    "sublists = []\n",
    "\n",
    "for i in range(0, len(elements), sublist_size):\n",
    "    sublist = elements[i:i + sublist_size]\n",
    "    sublists.append(sublist)\n",
    "\n",
    "print(sublists)\n"
   ]
  },
  {
   "cell_type": "markdown",
   "id": "125e395f",
   "metadata": {},
   "source": [
    "## 56. Return a List of Sublists using while loop"
   ]
  },
  {
   "cell_type": "code",
   "execution_count": 13,
   "id": "baf70658",
   "metadata": {},
   "outputs": [
    {
     "name": "stdout",
     "output_type": "stream",
     "text": [
      "[[1, 2, 3], [4, 5, 6], [7, 8, 9]]\n"
     ]
    }
   ],
   "source": [
    "# Initialize the list of elements\n",
    "elements = [1, 2, 3, 4, 5, 6, 7, 8, 9]\n",
    "sublist_size = 3  # Size of each sublist\n",
    "\n",
    "# Create a list of sublists\n",
    "sublists = []\n",
    "\n",
    "index = 0\n",
    "while index < len(elements):\n",
    "    sublist = elements[index:index + sublist_size]\n",
    "    sublists.append(sublist)\n",
    "    index += sublist_size\n",
    "\n",
    "print(sublists)\n"
   ]
  },
  {
   "cell_type": "markdown",
   "id": "021b2ea4",
   "metadata": {},
   "source": [
    "## 57. Burglary Series (10): Calculate Difference using for loop"
   ]
  },
  {
   "cell_type": "code",
   "execution_count": 14,
   "id": "3cc2c9fe",
   "metadata": {},
   "outputs": [
    {
     "name": "stdout",
     "output_type": "stream",
     "text": [
      "Enter the first number: 5\n",
      "Enter the second number: 6\n",
      "The difference between 5 and 6 is 1\n"
     ]
    }
   ],
   "source": [
    "# Initialize the two numbers\n",
    "num1 = int(input(\"Enter the first number: \"))\n",
    "num2 = int(input(\"Enter the second number: \"))\n",
    "difference = 0\n",
    "\n",
    "# Calculate the difference using a for loop\n",
    "for i in range(num1, num2):\n",
    "    difference += 1\n",
    "\n",
    "print(f\"The difference between {num1} and {num2} is {difference}\")\n"
   ]
  },
  {
   "cell_type": "markdown",
   "id": "ecd75d7e",
   "metadata": {},
   "source": [
    "## 58. Burglary Series (10): Calculate Difference using while loop"
   ]
  },
  {
   "cell_type": "code",
   "execution_count": 15,
   "id": "9f0d0ab8",
   "metadata": {},
   "outputs": [
    {
     "name": "stdout",
     "output_type": "stream",
     "text": [
      "Enter the first number: 5\n",
      "Enter the second number: 6\n",
      "The difference between the two numbers is: 1\n"
     ]
    }
   ],
   "source": [
    "# Initialize the two numbers\n",
    "num1 = int(input(\"Enter the first number: \"))\n",
    "num2 = int(input(\"Enter the second number: \"))\n",
    "difference = 0\n",
    "\n",
    "# Calculate the difference using a while loop\n",
    "while num1 < num2:\n",
    "    num1 += 1\n",
    "    difference += 1\n",
    "\n",
    "print(f\"The difference between the two numbers is: {difference}\")\n"
   ]
  },
  {
   "cell_type": "markdown",
   "id": "2df5512f",
   "metadata": {},
   "source": [
    "## 59. War of Numbers using for loop"
   ]
  },
  {
   "cell_type": "code",
   "execution_count": 17,
   "id": "832985c8",
   "metadata": {},
   "outputs": [
    {
     "name": "stdout",
     "output_type": "stream",
     "text": [
      "Enter a number: 50\n",
      "The sum of numbers from 1 to 50 is 1275\n"
     ]
    }
   ],
   "source": [
    "# War of Numbers Example\n",
    "# This program calculates the sum of numbers from 1 to a given number.\n",
    "\n",
    "# Input: Get the number from the user\n",
    "n = int(input(\"Enter a number: \"))\n",
    "\n",
    "# Initialize a variable to store the sum\n",
    "sum_of_numbers = 0\n",
    "\n",
    "# Use a for loop to iterate through numbers from 1 to n\n",
    "for i in range(1, n + 1):\n",
    "    sum_of_numbers += i\n",
    "\n",
    "# Output: Print the sum of numbers\n",
    "print(f\"The sum of numbers from 1 to {n} is {sum_of_numbers}\")\n"
   ]
  },
  {
   "cell_type": "markdown",
   "id": "64e53f97",
   "metadata": {},
   "source": [
    "## 60. War of Numbers using while loop"
   ]
  },
  {
   "cell_type": "code",
   "execution_count": null,
   "id": "5cc80557",
   "metadata": {},
   "outputs": [],
   "source": [
    "# Initialize the starting value\n",
    "starting_value = 20\n",
    "\n",
    "# Initialize the target number\n",
    "target = 0\n",
    "\n",
    "# Initialize the current player\n",
    "current_player = 1\n",
    "\n",
    "# Game loop\n",
    "while starting_value > target:\n",
    "    print(f\"Player {current_player}'s turn\")\n",
    "    valid_input = False\n",
    "    while not valid_input:\n",
    "        try:\n",
    "            # Get the number to subtract\n",
    "            number_to_subtract = int(input(f\"Enter a number to subtract (1-5): \"))\n",
    "            if 1 <= number_to_subtract <= 5:\n",
    "                valid_input = True\n",
    "            else:\n",
    "                print(\"Invalid input. Please enter a number between 1 and 5.\")\n",
    "        except ValueError:\n",
    "            print(\"Invalid input. Please enter a valid number.\")\n",
    "    \n",
    "    # Subtract the number from the starting value\n",
    "    starting_value -= number_to_subtract\n",
    "\n",
    "    # Switch to the other player\n",
    "    current_player = 3 - current_player  # Switch between player 1 and 2\n",
    "\n",
    "# Declare the winner\n",
    "print(f\"Player {current_player} wins!\")"
   ]
  },
  {
   "cell_type": "markdown",
   "id": "fb8db0b3",
   "metadata": {},
   "source": [
    "## 61. Compare by ASCII Codes using for loop"
   ]
  },
  {
   "cell_type": "code",
   "execution_count": 18,
   "id": "24101832",
   "metadata": {},
   "outputs": [
    {
     "name": "stdout",
     "output_type": "stream",
     "text": [
      "Enter the first character: 7\n",
      "Enter the second character: 8\n",
      "7 comes before 8 in the ASCII table.\n"
     ]
    }
   ],
   "source": [
    "# Input two characters\n",
    "char1 = input(\"Enter the first character: \")\n",
    "char2 = input(\"Enter the second character: \")\n",
    "\n",
    "# Check and compare ASCII codes\n",
    "if len(char1) == 1 and len(char2) == 1:\n",
    "    for i in range(256):\n",
    "        if chr(i) == char1:\n",
    "            ascii1 = i\n",
    "        if chr(i) == char2:\n",
    "            ascii2 = i\n",
    "    \n",
    "    if ascii1 < ascii2:\n",
    "        print(f\"{char1} comes before {char2} in the ASCII table.\")\n",
    "    elif ascii1 > ascii2:\n",
    "        print(f\"{char2} comes before {char1} in the ASCII table.\")\n",
    "    else:\n",
    "        print(f\"{char1} and {char2} have the same ASCII code.\")\n",
    "else:\n",
    "    print(\"Please enter exactly one character for each input.\")\n"
   ]
  },
  {
   "cell_type": "markdown",
   "id": "a05a587b",
   "metadata": {},
   "source": [
    "## 62. Compare by ASCII Codes using while loop"
   ]
  },
  {
   "cell_type": "code",
   "execution_count": 2,
   "id": "8d950c1a",
   "metadata": {},
   "outputs": [
    {
     "name": "stdout",
     "output_type": "stream",
     "text": [
      "Enter the first string: ayesha\n",
      "Enter the second string: ashu\n",
      "The second string is a prefix of the first string.\n"
     ]
    }
   ],
   "source": [
    "# Input two strings\n",
    "string1 = input(\"Enter the first string: \")\n",
    "string2 = input(\"Enter the second string: \")\n",
    "\n",
    "# Initialize index\n",
    "index = 0\n",
    "\n",
    "# Initialize a flag to track the result of the comparison\n",
    "equal = True\n",
    "\n",
    "# While loop to compare strings character by character\n",
    "while index < len(string1) and index < len(string2):\n",
    "    char1 = string1[index]\n",
    "    char2 = string2[index]\n",
    "\n",
    "    # Compare the ASCII codes of the characters\n",
    "    if ord(char1) != ord(char2):\n",
    "        equal = False\n",
    "        break\n",
    "\n",
    "    index += 1\n",
    "\n",
    "# Determine the result\n",
    "if equal and len(string1) == len(string2):\n",
    "    print(\"The strings are equal character by character based on their ASCII codes.\")\n",
    "elif len(string1) < len(string2):\n",
    "    print(\"The first string is a prefix of the second string.\")\n",
    "elif len(string1) > len(string2):\n",
    "    print(\"The second string is a prefix of the first string.\")\n",
    "else:\n",
    "    print(\"The strings are different character by character based on their ASCII codes.\")\n"
   ]
  },
  {
   "cell_type": "markdown",
   "id": "1a8712ee",
   "metadata": {},
   "source": [
    "## 63. Longest Sequence of Consecutive Zeroes using for loop"
   ]
  },
  {
   "cell_type": "code",
   "execution_count": 1,
   "id": "3f0f7e19",
   "metadata": {},
   "outputs": [
    {
     "name": "stdout",
     "output_type": "stream",
     "text": [
      "Enter a binary string: 10\n",
      "The longest sequence of consecutive zeroes is: 1\n"
     ]
    }
   ],
   "source": [
    "# Input binary string\n",
    "binary_string = input(\"Enter a binary string: \")\n",
    "\n",
    "max_length = 0\n",
    "current_length = 0\n",
    "\n",
    "for digit in binary_string:\n",
    "    if digit == '0':\n",
    "        current_length += 1\n",
    "        if current_length > max_length:\n",
    "            max_length = current_length\n",
    "    else:\n",
    "        current_length = 0\n",
    "\n",
    "print(f\"The longest sequence of consecutive zeroes is: {max_length}\")\n"
   ]
  },
  {
   "cell_type": "markdown",
   "id": "fdc6416b",
   "metadata": {},
   "source": [
    "## 64. Longest Sequence of Consecutive Zeroes using while loop "
   ]
  },
  {
   "cell_type": "code",
   "execution_count": 3,
   "id": "9062cf95",
   "metadata": {},
   "outputs": [
    {
     "name": "stdout",
     "output_type": "stream",
     "text": [
      "Enter a binary string: 10\n",
      "The longest sequence of consecutive zeroes is: 1\n"
     ]
    }
   ],
   "source": [
    "# Input binary string\n",
    "binary_string = input(\"Enter a binary string: \")\n",
    "\n",
    "max_length = 0\n",
    "current_length = 0\n",
    "i = 0\n",
    "\n",
    "while i < len(binary_string):\n",
    "    if binary_string[i] == '0':\n",
    "        current_length += 1\n",
    "        if current_length > max_length:\n",
    "            max_length = current_length\n",
    "    else:\n",
    "        current_length = 0\n",
    "    i += 1\n",
    "\n",
    "print(\"The longest sequence of consecutive zeroes is:\", max_length)\n"
   ]
  },
  {
   "cell_type": "markdown",
   "id": "a32241c6",
   "metadata": {},
   "source": [
    "## 65. Reverse the Order of Words with Five Letters or More using for loop"
   ]
  },
  {
   "cell_type": "code",
   "execution_count": 32,
   "id": "a6764237",
   "metadata": {},
   "outputs": [
    {
     "name": "stdout",
     "output_type": "stream",
     "text": [
      "Letters Words Order Reverse the of with Five or More\n"
     ]
    }
   ],
   "source": [
    "input_text = \"Reverse the Order of Words with Five Letters or More\"\n",
    "words = input_text.split()\n",
    "reversed_text = \"\"\n",
    "\n",
    "for word in words:\n",
    "    if len(word) >= 5:\n",
    "        reversed_text = word + \" \" + reversed_text\n",
    "    else:\n",
    "        reversed_text += word + \" \"\n",
    "\n",
    "# Remove the trailing space and print the reversed text\n",
    "print(reversed_text.strip())\n"
   ]
  },
  {
   "cell_type": "markdown",
   "id": "aa643521",
   "metadata": {},
   "source": [
    "## 66. Reverse the Order of Words with Five Letters or More using wh"
   ]
  },
  {
   "cell_type": "code",
   "execution_count": 33,
   "id": "aa7315c5",
   "metadata": {},
   "outputs": [
    {
     "name": "stdout",
     "output_type": "stream",
     "text": [
      "the of with Five or More Letters Words Order Reverse\n"
     ]
    }
   ],
   "source": [
    "input_text = \"Reverse the Order of Words with Five Letters or More\"\n",
    "words = input_text.split()\n",
    "reversed_text = \"\"\n",
    "i = len(words) - 1\n",
    "\n",
    "while i >= 0:\n",
    "    if len(words[i]) >= 5:\n",
    "        reversed_text += words[i] + \" \"\n",
    "    else:\n",
    "        reversed_text = words[i] + \" \" + reversed_text\n",
    "    i -= 1\n",
    "\n",
    "# Remove the trailing space and print the reversed text\n",
    "print(reversed_text.strip())\n"
   ]
  },
  {
   "cell_type": "markdown",
   "id": "1d86f34a",
   "metadata": {},
   "source": [
    "## 67. Frequency Distribution using for loop"
   ]
  },
  {
   "cell_type": "code",
   "execution_count": 34,
   "id": "6dccb3e3",
   "metadata": {},
   "outputs": [
    {
     "name": "stdout",
     "output_type": "stream",
     "text": [
      "t: 5\n",
      "h: 1\n",
      "i: 5\n",
      "s: 4\n",
      "a: 2\n",
      "m: 1\n",
      "p: 1\n",
      "l: 1\n",
      "e: 4\n",
      "x: 1\n",
      "f: 2\n",
      "o: 2\n",
      "r: 3\n",
      "q: 1\n",
      "u: 2\n",
      "n: 2\n",
      "c: 1\n",
      "y: 1\n",
      "d: 1\n",
      "b: 1\n"
     ]
    }
   ],
   "source": [
    "input_text = \"This is a sample text for frequency distribution.\"\n",
    "frequency_distribution = {}\n",
    "\n",
    "for char in input_text:\n",
    "    if char.isalpha():\n",
    "        char = char.lower()  # Convert the character to lowercase to ignore case sensitivity\n",
    "        if char in frequency_distribution:\n",
    "            frequency_distribution[char] += 1\n",
    "        else:\n",
    "            frequency_distribution[char] = 1\n",
    "\n",
    "# Print the frequency distribution\n",
    "for char, count in frequency_distribution.items():\n",
    "    print(f\"{char}: {count}\")\n"
   ]
  },
  {
   "cell_type": "markdown",
   "id": "4858aa73",
   "metadata": {},
   "source": [
    "## 68. Frequency Distribution using while loop"
   ]
  },
  {
   "cell_type": "code",
   "execution_count": 35,
   "id": "9ca3c3fc",
   "metadata": {},
   "outputs": [
    {
     "name": "stdout",
     "output_type": "stream",
     "text": [
      "t: 5\n",
      "h: 1\n",
      "i: 5\n",
      "s: 4\n",
      "a: 2\n",
      "m: 1\n",
      "p: 1\n",
      "l: 1\n",
      "e: 4\n",
      "x: 1\n",
      "f: 2\n",
      "o: 2\n",
      "r: 3\n",
      "q: 1\n",
      "u: 2\n",
      "n: 2\n",
      "c: 1\n",
      "y: 1\n",
      "d: 1\n",
      "b: 1\n"
     ]
    }
   ],
   "source": [
    "input_text = \"This is a sample text for frequency distribution.\"\n",
    "frequency_distribution = {}\n",
    "\n",
    "i = 0\n",
    "\n",
    "while i < len(input_text):\n",
    "    char = input_text[i].lower()  # Convert the character to lowercase to ignore case sensitivity\n",
    "\n",
    "    if char.isalpha():\n",
    "        if char in frequency_distribution:\n",
    "            frequency_distribution[char] += 1\n",
    "        else:\n",
    "            frequency_distribution[char] = 1\n",
    "\n",
    "    i += 1\n",
    "\n",
    "# Print the frequency distribution\n",
    "for char, count in frequency_distribution.items():\n",
    "    print(f\"{char}: {count}\")\n"
   ]
  },
  {
   "cell_type": "markdown",
   "id": "880d70b9",
   "metadata": {},
   "source": [
    "## 69. Intro to Nested Loops using for loop"
   ]
  },
  {
   "cell_type": "code",
   "execution_count": 36,
   "id": "1c2cfd0c",
   "metadata": {},
   "outputs": [
    {
     "name": "stdout",
     "output_type": "stream",
     "text": [
      "* \n",
      "* * \n",
      "* * * \n",
      "* * * * \n",
      "* * * * * \n"
     ]
    }
   ],
   "source": [
    "n = 5  # Change this value to control the number of rows\n",
    "\n",
    "for i in range(n):\n",
    "    for j in range(i + 1):\n",
    "        print(\"*\", end=\" \")\n",
    "    print()  # Move to the next line after each row\n"
   ]
  },
  {
   "cell_type": "markdown",
   "id": "694b1cc1",
   "metadata": {},
   "source": [
    "## 70. Intro to Nested Loops using while loop"
   ]
  },
  {
   "cell_type": "code",
   "execution_count": 37,
   "id": "951387c5",
   "metadata": {},
   "outputs": [
    {
     "name": "stdout",
     "output_type": "stream",
     "text": [
      "* \n",
      "* * \n",
      "* * * \n",
      "* * * * \n",
      "* * * * * \n"
     ]
    }
   ],
   "source": [
    "n = 5  # Change this value to control the number of rows\n",
    "i = 1\n",
    "\n",
    "while i <= n:\n",
    "    j = 1\n",
    "    while j <= i:\n",
    "        print(\"*\", end=\" \")\n",
    "        j += 1\n",
    "    print()  # Move to the next line after each row\n",
    "    i += 1\n"
   ]
  },
  {
   "cell_type": "markdown",
   "id": "fcca1544",
   "metadata": {},
   "source": [
    "## 71. Cumulative List Sum using for loop"
   ]
  },
  {
   "cell_type": "code",
   "execution_count": 38,
   "id": "bd7a2984",
   "metadata": {},
   "outputs": [
    {
     "name": "stdout",
     "output_type": "stream",
     "text": [
      "[1, 3, 6, 10, 15]\n"
     ]
    }
   ],
   "source": [
    "# Input list\n",
    "numbers = [1, 2, 3, 4, 5]\n",
    "\n",
    "# Initialize the cumulative sum\n",
    "cumulative_sum = 0\n",
    "\n",
    "# Initialize an empty list to store the cumulative sums\n",
    "cumulative_sums = []\n",
    "\n",
    "for num in numbers:\n",
    "    cumulative_sum += num\n",
    "    cumulative_sums.append(cumulative_sum)\n",
    "\n",
    "# Print the cumulative sums\n",
    "print(cumulative_sums)\n"
   ]
  },
  {
   "cell_type": "markdown",
   "id": "3cbe973a",
   "metadata": {},
   "source": [
    "## 72. Cumulative List Sum using while loop"
   ]
  },
  {
   "cell_type": "code",
   "execution_count": 39,
   "id": "a9793ebc",
   "metadata": {},
   "outputs": [
    {
     "name": "stdout",
     "output_type": "stream",
     "text": [
      "[1, 3, 6, 10, 15]\n"
     ]
    }
   ],
   "source": [
    "# Input list\n",
    "numbers = [1, 2, 3, 4, 5]\n",
    "\n",
    "# Initialize the cumulative sum\n",
    "cumulative_sum = 0\n",
    "\n",
    "# Initialize an empty list to store the cumulative sums\n",
    "cumulative_sums = []\n",
    "\n",
    "# Initialize an index for iteration\n",
    "i = 0\n",
    "\n",
    "while i < len(numbers):\n",
    "    cumulative_sum += numbers[i]\n",
    "    cumulative_sums.append(cumulative_sum)\n",
    "    i += 1\n",
    "\n",
    "# Print the cumulative sums\n",
    "print(cumulative_sums)\n"
   ]
  },
  {
   "cell_type": "markdown",
   "id": "31e575a5",
   "metadata": {},
   "source": [
    "## 73. Find the First Non-Repeated Character using for loop"
   ]
  },
  {
   "cell_type": "code",
   "execution_count": 40,
   "id": "9b9ef7a3",
   "metadata": {},
   "outputs": [
    {
     "name": "stdout",
     "output_type": "stream",
     "text": [
      "The first non-repeated character is: p\n"
     ]
    }
   ],
   "source": [
    "input_string = \"programming\"\n",
    "\n",
    "for char in input_string:\n",
    "    repeated = False  # Initialize a flag to check if the character is repeated\n",
    "\n",
    "    for other_char in input_string:\n",
    "        if char == other_char and input_string.index(char) != input_string.index(other_char):\n",
    "            repeated = True\n",
    "            break\n",
    "\n",
    "    if not repeated:\n",
    "        print(f\"The first non-repeated character is: {char}\")\n",
    "        break\n"
   ]
  },
  {
   "cell_type": "markdown",
   "id": "35a826da",
   "metadata": {},
   "source": [
    "## 74. Find the First Non-Repeated Character using while loop"
   ]
  },
  {
   "cell_type": "code",
   "execution_count": 42,
   "id": "4fc04a86",
   "metadata": {},
   "outputs": [
    {
     "name": "stdout",
     "output_type": "stream",
     "text": [
      "The first non-repeated character is: y\n"
     ]
    }
   ],
   "source": [
    "text = \"your_input_string\"\n",
    "\n",
    "# Initialize an empty dictionary to store character counts\n",
    "char_count = {}\n",
    "\n",
    "# Iterate through the characters in the string\n",
    "for char in text:\n",
    "    # If the character is already in the dictionary, increment its count\n",
    "    if char in char_count:\n",
    "        char_count[char] += 1\n",
    "    else:\n",
    "        # If the character is not in the dictionary, initialize its count to 1\n",
    "        char_count[char] = 1\n",
    "\n",
    "# Iterate through the string again to find the first non-repeated character\n",
    "for char in text:\n",
    "    if char_count[char] == 1:\n",
    "        # The first non-repeated character is found\n",
    "        print(f\"The first non-repeated character is: {char}\")\n",
    "        break\n"
   ]
  },
  {
   "cell_type": "markdown",
   "id": "23ab327a",
   "metadata": {},
   "source": [
    "## 75. Something in the Box? using for loop"
   ]
  },
  {
   "cell_type": "code",
   "execution_count": 46,
   "id": "663373d9",
   "metadata": {},
   "outputs": [
    {
     "name": "stdout",
     "output_type": "stream",
     "text": [
      "The item is in the list.\n"
     ]
    }
   ],
   "source": [
    "# List of items\n",
    "items = [\"apple\", \"banana\", \"orange\", \"something\", \"grape\"]\n",
    "\n",
    "# Item to search for\n",
    "search_item = \"something\"\n",
    "\n",
    "# Initialize a flag to indicate if the item is found\n",
    "found = False\n",
    "\n",
    "# Loop through the list\n",
    "for item in items:\n",
    "    if item == search_item:\n",
    "        found = True\n",
    "        break\n",
    "\n",
    "# Check if the item was found\n",
    "if found:\n",
    "    print(\"The item is in the list.\")\n",
    "else:\n",
    "    print(\"The item is not in the list.\")\n"
   ]
  },
  {
   "cell_type": "markdown",
   "id": "379fdc98",
   "metadata": {},
   "source": [
    "## 76. Something in the Box? using while loop"
   ]
  },
  {
   "cell_type": "code",
   "execution_count": 47,
   "id": "bf376548",
   "metadata": {},
   "outputs": [
    {
     "name": "stdout",
     "output_type": "stream",
     "text": [
      "The item is in the list.\n"
     ]
    }
   ],
   "source": [
    "# List of items\n",
    "items = [\"apple\", \"banana\", \"orange\", \"something\", \"grape\"]\n",
    "\n",
    "# Item to search for\n",
    "search_item = \"something\"\n",
    "\n",
    "# Initialize a variable to keep track of the current index\n",
    "index = 0\n",
    "\n",
    "# Initialize a flag to indicate if the item is found\n",
    "found = False\n",
    "\n",
    "# Keep searching until the end of the list or until the item is found\n",
    "while index < len(items):\n",
    "    if items[index] == search_item:\n",
    "        found = True\n",
    "        break\n",
    "    index += 1\n",
    "\n",
    "# Check if the item was found\n",
    "if found:\n",
    "    print(\"The item is in the list.\")\n",
    "else:\n",
    "    print(\"The item is not in the list.\")\n"
   ]
  },
  {
   "cell_type": "markdown",
   "id": "a7235a03",
   "metadata": {},
   "source": [
    "## 77. Find Unique Positive Numbers from Array using for loop"
   ]
  },
  {
   "cell_type": "code",
   "execution_count": 48,
   "id": "1693e1f3",
   "metadata": {},
   "outputs": [
    {
     "name": "stdout",
     "output_type": "stream",
     "text": [
      "Unique positive numbers: [2, 3, 4, 5, 7, 8]\n"
     ]
    }
   ],
   "source": [
    "# Input array\n",
    "numbers = [2, 3, -1, 4, 2, 5, 3, 7, 7, 4, -1, 8]\n",
    "\n",
    "# Initialize a set to store unique positive numbers\n",
    "unique_positives = set()\n",
    "\n",
    "# Loop through the array\n",
    "for num in numbers:\n",
    "    if num > 0:\n",
    "        unique_positives.add(num)\n",
    "\n",
    "# Convert the set back to a list if needed\n",
    "unique_positive_numbers = list(unique_positives)\n",
    "\n",
    "# Print the unique positive numbers\n",
    "print(\"Unique positive numbers:\", unique_positive_numbers)\n"
   ]
  },
  {
   "cell_type": "markdown",
   "id": "8a216c77",
   "metadata": {},
   "source": [
    "## 78. Find Unique Positive Numbers from Array using while loop"
   ]
  },
  {
   "cell_type": "code",
   "execution_count": 51,
   "id": "6785ecf2",
   "metadata": {},
   "outputs": [
    {
     "name": "stdout",
     "output_type": "stream",
     "text": [
      "Unique positive numbers: [2, 3, 4, 5, 7, 8]\n"
     ]
    }
   ],
   "source": [
    "# Input array\n",
    "numbers = [2, 3, -1, 4, 2, 5, 3, 7, 7, 4, -1, 8]\n",
    "\n",
    "# Initialize an empty list to store unique positive numbers\n",
    "unique_positives = []\n",
    "\n",
    "# Initialize an index for the while loop\n",
    "index = 0\n",
    "\n",
    "# Use a set to keep track of seen positive numbers\n",
    "seen_positives = set()\n",
    "\n",
    "# Loop through the array using a while loop\n",
    "while index < len(numbers):\n",
    "    num = numbers[index]\n",
    "    if num > 0 and num not in seen_positives:\n",
    "        unique_positives.append(num)\n",
    "        seen_positives.add(num)\n",
    "    index += 1\n",
    "\n",
    "# Print the unique positive numbers\n",
    "print(\"Unique positive numbers:\", unique_positives)\n",
    "\n"
   ]
  },
  {
   "cell_type": "markdown",
   "id": "f32c60bf",
   "metadata": {},
   "source": [
    "## 79. Doubled Pay using for loop"
   ]
  },
  {
   "cell_type": "code",
   "execution_count": 52,
   "id": "1377f498",
   "metadata": {},
   "outputs": [
    {
     "name": "stdout",
     "output_type": "stream",
     "text": [
      "Day 1: Pay = $1\n",
      "Day 2: Pay = $2\n",
      "Day 3: Pay = $4\n",
      "Day 4: Pay = $8\n",
      "Day 5: Pay = $16\n",
      "Day 6: Pay = $32\n",
      "Day 7: Pay = $64\n",
      "Day 8: Pay = $128\n",
      "Day 9: Pay = $256\n",
      "Day 10: Pay = $512\n"
     ]
    }
   ],
   "source": [
    "# Initialize variables\n",
    "initial_pay = 1  # Starting pay\n",
    "total_days = 10  # Total number of days\n",
    "\n",
    "# Loop to calculate pay for each day\n",
    "for day in range(1, total_days + 1):\n",
    "    print(f\"Day {day}: Pay = ${initial_pay}\")\n",
    "    initial_pay *= 2  # Double the pay for the next day\n"
   ]
  },
  {
   "cell_type": "markdown",
   "id": "c1ed4cf6",
   "metadata": {},
   "source": [
    "## 80. Doubled Pay using while loop"
   ]
  },
  {
   "cell_type": "code",
   "execution_count": 53,
   "id": "faf58500",
   "metadata": {},
   "outputs": [
    {
     "name": "stdout",
     "output_type": "stream",
     "text": [
      "Day 1: Pay = $1\n",
      "Day 2: Pay = $2\n",
      "Day 3: Pay = $4\n",
      "Day 4: Pay = $8\n",
      "Day 5: Pay = $16\n",
      "Day 6: Pay = $32\n",
      "Day 7: Pay = $64\n",
      "Day 8: Pay = $128\n",
      "Day 9: Pay = $256\n",
      "Day 10: Pay = $512\n"
     ]
    }
   ],
   "source": [
    "# Initialize variables\n",
    "initial_pay = 1  # Starting pay\n",
    "total_days = 10  # Total number of days\n",
    "\n",
    "# Initialize a variable to keep track of the current day\n",
    "day = 1\n",
    "\n",
    "# Simulate the scenario using a while loop\n",
    "while day <= total_days:\n",
    "    print(f\"Day {day}: Pay = ${initial_pay}\")\n",
    "    initial_pay *= 2  # Double the pay for the next day\n",
    "    day += 1\n"
   ]
  },
  {
   "cell_type": "markdown",
   "id": "02af9dee",
   "metadata": {},
   "source": [
    "## 81. Capitalize the First Letter of Each Word using for loop"
   ]
  },
  {
   "cell_type": "code",
   "execution_count": 54,
   "id": "a36d8985",
   "metadata": {},
   "outputs": [
    {
     "name": "stdout",
     "output_type": "stream",
     "text": [
      "This Is A Sample Sentence To Capitalize The First Letter Of Each Word\n"
     ]
    }
   ],
   "source": [
    "# Input string\n",
    "input_string = \"this is a sample sentence to capitalize the first letter of each word\"\n",
    "\n",
    "# Split the string into words using whitespace as a delimiter\n",
    "words = input_string.split()\n",
    "\n",
    "# Initialize an empty string to store the result\n",
    "capitalized_string = \"\"\n",
    "\n",
    "# Loop through each word and capitalize the first letter\n",
    "for word in words:\n",
    "    if len(word) > 0:\n",
    "        capitalized_word = word[0].upper() + word[1:]\n",
    "        capitalized_string += capitalized_word + \" \"\n",
    "\n",
    "# Remove the trailing space\n",
    "capitalized_string = capitalized_string.strip()\n",
    "\n",
    "# Print the capitalized string\n",
    "print(capitalized_string)\n"
   ]
  },
  {
   "cell_type": "markdown",
   "id": "fc47d018",
   "metadata": {},
   "source": [
    "## 82. Capitalize the First Letter of Each Word using while loop"
   ]
  },
  {
   "cell_type": "code",
   "execution_count": 55,
   "id": "294911a1",
   "metadata": {},
   "outputs": [
    {
     "name": "stdout",
     "output_type": "stream",
     "text": [
      "This Is A Sample Sentence To Capitalize The First Letter Of Each Word\n"
     ]
    }
   ],
   "source": [
    "# Input string\n",
    "input_string = \"this is a sample sentence to capitalize the first letter of each word\"\n",
    "\n",
    "# Initialize variables\n",
    "index = 0\n",
    "capitalized_string = \"\"\n",
    "word_start = True\n",
    "\n",
    "# Use a while loop to iterate through the characters of the input string\n",
    "while index < len(input_string):\n",
    "    char = input_string[index]\n",
    "\n",
    "    if word_start and char.isalpha():\n",
    "        capitalized_string += char.upper()\n",
    "        word_start = False\n",
    "    else:\n",
    "        capitalized_string += char\n",
    "        if not char.isalpha():\n",
    "            word_start = True\n",
    "\n",
    "    index += 1\n",
    "\n",
    "# Print the capitalized string\n",
    "print(capitalized_string)\n"
   ]
  },
  {
   "cell_type": "markdown",
   "id": "4b746180",
   "metadata": {},
   "source": [
    "## 83. Sum of Resistance in Parallel Circuits using for loop"
   ]
  },
  {
   "cell_type": "code",
   "execution_count": 57,
   "id": "b4439f96",
   "metadata": {},
   "outputs": [
    {
     "name": "stdout",
     "output_type": "stream",
     "text": [
      "Total resistance in the parallel circuit: 4.80 ohms\n"
     ]
    }
   ],
   "source": [
    "# Input resistances in ohms\n",
    "resistors = [10, 20, 30, 40]\n",
    "\n",
    "# Initialize the total inverse resistance\n",
    "total_inverse_resistance = 0\n",
    "\n",
    "# Use a for loop to calculate the total inverse resistance\n",
    "for resistance in resistors:\n",
    "    total_inverse_resistance += 1 / resistance\n",
    "\n",
    "# Calculate the total resistance by taking the reciprocal of the total inverse resistance\n",
    "total_resistance = 1 / total_inverse_resistance\n",
    "\n",
    "# Print the total resistance\n",
    "print(\"Total resistance in the parallel circuit: {:.2f} ohms\".format(total_resistance))\n"
   ]
  },
  {
   "cell_type": "markdown",
   "id": "44244585",
   "metadata": {},
   "source": [
    "## 84. Sum of Resistance in Parallel Circuits using while loop"
   ]
  },
  {
   "cell_type": "code",
   "execution_count": 56,
   "id": "836378f8",
   "metadata": {},
   "outputs": [
    {
     "name": "stdout",
     "output_type": "stream",
     "text": [
      "Total resistance in the parallel circuit: 4.80 ohms\n"
     ]
    }
   ],
   "source": [
    "# Input resistances in ohms\n",
    "resistors = [10, 20, 30, 40]\n",
    "\n",
    "# Initialize variables\n",
    "index = 0\n",
    "total_inverse_resistance = 0\n",
    "\n",
    "# Use a while loop to calculate the total inverse resistance\n",
    "while index < len(resistors):\n",
    "    resistance = resistors[index]\n",
    "    total_inverse_resistance += 1 / resistance\n",
    "    index += 1\n",
    "\n",
    "# Calculate the total resistance by taking the reciprocal of the total inverse resistance\n",
    "total_resistance = 1 / total_inverse_resistance\n",
    "\n",
    "# Print the total resistance\n",
    "print(\"Total resistance in the parallel circuit: {:.2f} ohms\".format(total_resistance))\n"
   ]
  },
  {
   "cell_type": "markdown",
   "id": "f1bcefc4",
   "metadata": {},
   "source": [
    "## 85. Remove the Letters ABC using for loop"
   ]
  },
  {
   "cell_type": "code",
   "execution_count": 58,
   "id": "b762f1f0",
   "metadata": {},
   "outputs": [
    {
     "name": "stdout",
     "output_type": "stream",
     "text": [
      " sample  string with some letters  to remove\n"
     ]
    }
   ],
   "source": [
    "# Input string\n",
    "input_string = \"A sample ABC string with some letters ABC to remove\"\n",
    "\n",
    "# Initialize an empty string to store the result\n",
    "result_string = \"\"\n",
    "\n",
    "# Loop through each character in the input string\n",
    "for char in input_string:\n",
    "    if char not in 'ABC':\n",
    "        result_string += char\n",
    "\n",
    "# Print the result\n",
    "print(result_string)\n"
   ]
  },
  {
   "cell_type": "markdown",
   "id": "e05fec04",
   "metadata": {},
   "source": [
    "## 86. Remove the Letters ABC using for loop"
   ]
  },
  {
   "cell_type": "code",
   "execution_count": 59,
   "id": "1517aae1",
   "metadata": {},
   "outputs": [
    {
     "name": "stdout",
     "output_type": "stream",
     "text": [
      " sample  string with some letters  to remove\n"
     ]
    }
   ],
   "source": [
    "# Input string\n",
    "input_string = \"A sample ABC string with some letters ABC to remove\"\n",
    "\n",
    "# Initialize an empty string to store the result\n",
    "result_string = \"\"\n",
    "\n",
    "# Initialize an index for the while loop\n",
    "index = 0\n",
    "\n",
    "# Use a while loop to iterate through each character in the input string\n",
    "while index < len(input_string):\n",
    "    char = input_string[index]\n",
    "    \n",
    "    if char not in 'ABC':\n",
    "        result_string += char\n",
    "    \n",
    "    index += 1\n",
    "\n",
    "# Print the result\n",
    "print(result_string)\n"
   ]
  },
  {
   "cell_type": "markdown",
   "id": "ac13ec7d",
   "metadata": {},
   "source": [
    "## 87. Puzzle Pieces using for loop"
   ]
  },
  {
   "cell_type": "code",
   "execution_count": 60,
   "id": "94b742f2",
   "metadata": {},
   "outputs": [
    {
     "name": "stdout",
     "output_type": "stream",
     "text": [
      "Assembled Puzzle:\n",
      "Piece 1\n",
      "Piece 2\n",
      "Piece 3\n",
      "Piece 4\n",
      "Piece 5\n",
      "Piece 6\n"
     ]
    }
   ],
   "source": [
    "# Simulating two sets of puzzle pieces\n",
    "set1 = [\"Piece 1\", \"Piece 2\", \"Piece 3\"]\n",
    "set2 = [\"Piece 4\", \"Piece 5\", \"Piece 6\"]\n",
    "\n",
    "# Initialize a list to represent the assembled puzzle\n",
    "assembled_puzzle = []\n",
    "\n",
    "# Combine the two sets using a for loop\n",
    "for piece in set1:\n",
    "    assembled_puzzle.append(piece)\n",
    "\n",
    "for piece in set2:\n",
    "    assembled_puzzle.append(piece)\n",
    "\n",
    "# Print the assembled puzzle\n",
    "print(\"Assembled Puzzle:\")\n",
    "for piece in assembled_puzzle:\n",
    "    print(piece)\n"
   ]
  },
  {
   "cell_type": "markdown",
   "id": "48b17818",
   "metadata": {},
   "source": [
    "## 88. Puzzle Pieces using while loop"
   ]
  },
  {
   "cell_type": "code",
   "execution_count": 61,
   "id": "b1d757af",
   "metadata": {},
   "outputs": [
    {
     "name": "stdout",
     "output_type": "stream",
     "text": [
      "Assembled Puzzle:\n",
      "Piece 1\n",
      "Piece 2\n",
      "Piece 3\n",
      "Piece 4\n",
      "Piece 5\n",
      "Piece 6\n"
     ]
    }
   ],
   "source": [
    "# Simulating two sets of puzzle pieces\n",
    "set1 = [\"Piece 1\", \"Piece 2\", \"Piece 3\"]\n",
    "set2 = [\"Piece 4\", \"Piece 5\", \"Piece 6\"]\n",
    "\n",
    "# Initialize a list to represent the assembled puzzle\n",
    "assembled_puzzle = []\n",
    "\n",
    "# Initialize indexes for the while loops\n",
    "index1 = 0\n",
    "index2 = 0\n",
    "\n",
    "# Combine the two sets using while loops\n",
    "while index1 < len(set1):\n",
    "    assembled_puzzle.append(set1[index1])\n",
    "    index1 += 1\n",
    "\n",
    "while index2 < len(set2):\n",
    "    assembled_puzzle.append(set2[index2])\n",
    "    index2 += 1\n",
    "\n",
    "# Print the assembled puzzle\n",
    "print(\"Assembled Puzzle:\")\n",
    "for piece in assembled_puzzle:\n",
    "    print(piece)\n"
   ]
  },
  {
   "cell_type": "markdown",
   "id": "9d29cbae",
   "metadata": {},
   "source": [
    "## 89. Fix the Code: Un-Mutating a List using for loop"
   ]
  },
  {
   "cell_type": "code",
   "execution_count": 62,
   "id": "ffafd9ae",
   "metadata": {},
   "outputs": [
    {
     "name": "stdout",
     "output_type": "stream",
     "text": [
      "Original List: [1, 2, 3, 4, 5]\n",
      "Unmutated List: [10, 2, 3, 4, 5]\n"
     ]
    }
   ],
   "source": [
    "# Original list\n",
    "original_list = [1, 2, 3, 4, 5]\n",
    "\n",
    "# Create a new list (unmutated_list) by iterating over the original list\n",
    "unmutated_list = []\n",
    "\n",
    "for item in original_list:\n",
    "    unmutated_list.append(item)\n",
    "\n",
    "# Modify the new list (unmutated_list)\n",
    "unmutated_list[0] = 10\n",
    "\n",
    "# Print both lists\n",
    "print(\"Original List:\", original_list)\n",
    "print(\"Unmutated List:\", unmutated_list)\n"
   ]
  },
  {
   "cell_type": "markdown",
   "id": "7bc7f36c",
   "metadata": {},
   "source": [
    "## 90. Fix the Code: Un-Mutating a List using for loop"
   ]
  },
  {
   "cell_type": "code",
   "execution_count": 63,
   "id": "496b3933",
   "metadata": {},
   "outputs": [
    {
     "name": "stdout",
     "output_type": "stream",
     "text": [
      "Original List: [1, 2, 3, 4, 5]\n",
      "Unmutated List: [10, 2, 3, 4, 5]\n"
     ]
    }
   ],
   "source": [
    "# Original list\n",
    "original_list = [1, 2, 3, 4, 5]\n",
    "\n",
    "# Create a new list (unmutated_list) using a while loop\n",
    "unmutated_list = []\n",
    "\n",
    "# Initialize an index for the while loop\n",
    "index = 0\n",
    "\n",
    "# Iterate through the original list and append elements to the new list\n",
    "while index < len(original_list):\n",
    "    unmutated_list.append(original_list[index])\n",
    "    index += 1\n",
    "\n",
    "# Modify the new list (unmutated_list)\n",
    "unmutated_list[0] = 10\n",
    "\n",
    "# Print both lists\n",
    "print(\"Original List:\", original_list)\n",
    "print(\"Unmutated List:\", unmutated_list)\n"
   ]
  },
  {
   "cell_type": "markdown",
   "id": "07b30437",
   "metadata": {},
   "source": [
    "## 91. Compounding Letters using for loop"
   ]
  },
  {
   "cell_type": "code",
   "execution_count": 65,
   "id": "a53dc522",
   "metadata": {},
   "outputs": [
    {
     "name": "stdout",
     "output_type": "stream",
     "text": [
      "ABCDE\n"
     ]
    }
   ],
   "source": [
    "# List of letters\n",
    "letters = ['A', 'B', 'C', 'D', 'E']\n",
    "\n",
    "# Initialize an empty string for compounding\n",
    "compound_string = ''\n",
    "\n",
    "# Iterate through the list of letters\n",
    "for letter in letters:\n",
    "    compound_string += letter\n",
    "\n",
    "# Print the compounded string\n",
    "print(compound_string)\n"
   ]
  },
  {
   "cell_type": "markdown",
   "id": "f3bb3551",
   "metadata": {},
   "source": [
    "## 92. Compounding Letters using while loop"
   ]
  },
  {
   "cell_type": "code",
   "execution_count": 66,
   "id": "46bbd452",
   "metadata": {},
   "outputs": [
    {
     "name": "stdout",
     "output_type": "stream",
     "text": [
      "ABCDE\n"
     ]
    }
   ],
   "source": [
    "# List of letters\n",
    "letters = ['A', 'B', 'C', 'D', 'E']\n",
    "\n",
    "# Initialize an empty string for compounding\n",
    "compound_string = ''\n",
    "\n",
    "# Initialize an index for the while loop\n",
    "index = 0\n",
    "\n",
    "# Use a while loop to compound the letters\n",
    "while index < len(letters):\n",
    "    compound_string += letters[index]\n",
    "    index += 1\n",
    "\n",
    "# Print the compounded string\n",
    "print(compound_string)\n"
   ]
  },
  {
   "cell_type": "markdown",
   "id": "9d837e96",
   "metadata": {},
   "source": [
    "## 93. Extremely Over-Nested using for loop"
   ]
  },
  {
   "cell_type": "code",
   "execution_count": 67,
   "id": "fbd90151",
   "metadata": {},
   "outputs": [
    {
     "name": "stdout",
     "output_type": "stream",
     "text": [
      "Outer loop iteration 0\n",
      "  Middle loop iteration 0\n",
      "    Inner loop iteration 0\n",
      "    Inner loop iteration 1\n",
      "    Inner loop iteration 2\n",
      "    Inner loop iteration 3\n",
      "  Middle loop iteration 1\n",
      "    Inner loop iteration 0\n",
      "    Inner loop iteration 1\n",
      "    Inner loop iteration 2\n",
      "    Inner loop iteration 3\n",
      "  Middle loop iteration 2\n",
      "    Inner loop iteration 0\n",
      "    Inner loop iteration 1\n",
      "    Inner loop iteration 2\n",
      "    Inner loop iteration 3\n",
      "Outer loop iteration 1\n",
      "  Middle loop iteration 0\n",
      "    Inner loop iteration 0\n",
      "    Inner loop iteration 1\n",
      "    Inner loop iteration 2\n",
      "    Inner loop iteration 3\n",
      "  Middle loop iteration 1\n",
      "    Inner loop iteration 0\n",
      "    Inner loop iteration 1\n",
      "    Inner loop iteration 2\n",
      "    Inner loop iteration 3\n",
      "  Middle loop iteration 2\n",
      "    Inner loop iteration 0\n",
      "    Inner loop iteration 1\n",
      "    Inner loop iteration 2\n",
      "    Inner loop iteration 3\n",
      "Code with nested loops is executed.\n"
     ]
    }
   ],
   "source": [
    "# Define the number of iterations for each level\n",
    "outer_iterations = 2\n",
    "middle_iterations = 3\n",
    "inner_iterations = 4\n",
    "\n",
    "# Outer loop\n",
    "for i in range(outer_iterations):\n",
    "    print(f\"Outer loop iteration {i}\")\n",
    "\n",
    "    # Middle loop\n",
    "    for j in range(middle_iterations):\n",
    "        print(f\"  Middle loop iteration {j}\")\n",
    "\n",
    "        # Inner loop\n",
    "        for k in range(inner_iterations):\n",
    "            print(f\"    Inner loop iteration {k}\")\n",
    "\n",
    "print(\"Code with nested loops is executed.\")\n"
   ]
  },
  {
   "cell_type": "markdown",
   "id": "c0ff52b2",
   "metadata": {},
   "source": [
    "## 94. Extremely Over-Nested using while loop"
   ]
  },
  {
   "cell_type": "code",
   "execution_count": 68,
   "id": "5aa5c853",
   "metadata": {},
   "outputs": [
    {
     "name": "stdout",
     "output_type": "stream",
     "text": [
      "Outer loop iteration 0\n",
      "  Middle loop iteration 0\n",
      "    Inner loop iteration 0\n",
      "    Inner loop iteration 1\n",
      "    Inner loop iteration 2\n",
      "    Inner loop iteration 3\n",
      "  Middle loop iteration 1\n",
      "    Inner loop iteration 0\n",
      "    Inner loop iteration 1\n",
      "    Inner loop iteration 2\n",
      "    Inner loop iteration 3\n",
      "  Middle loop iteration 2\n",
      "    Inner loop iteration 0\n",
      "    Inner loop iteration 1\n",
      "    Inner loop iteration 2\n",
      "    Inner loop iteration 3\n",
      "Outer loop iteration 1\n",
      "  Middle loop iteration 0\n",
      "    Inner loop iteration 0\n",
      "    Inner loop iteration 1\n",
      "    Inner loop iteration 2\n",
      "    Inner loop iteration 3\n",
      "  Middle loop iteration 1\n",
      "    Inner loop iteration 0\n",
      "    Inner loop iteration 1\n",
      "    Inner loop iteration 2\n",
      "    Inner loop iteration 3\n",
      "  Middle loop iteration 2\n",
      "    Inner loop iteration 0\n",
      "    Inner loop iteration 1\n",
      "    Inner loop iteration 2\n",
      "    Inner loop iteration 3\n",
      "Code with nested while loops is executed.\n"
     ]
    }
   ],
   "source": [
    "# Define the number of iterations for each level\n",
    "outer_iterations = 2\n",
    "middle_iterations = 3\n",
    "inner_iterations = 4\n",
    "\n",
    "# Initialize outer loop counter\n",
    "outer_counter = 0\n",
    "\n",
    "# Outer loop\n",
    "while outer_counter < outer_iterations:\n",
    "    print(f\"Outer loop iteration {outer_counter}\")\n",
    "\n",
    "    # Initialize middle loop counter\n",
    "    middle_counter = 0\n",
    "\n",
    "    # Middle loop\n",
    "    while middle_counter < middle_iterations:\n",
    "        print(f\"  Middle loop iteration {middle_counter}\")\n",
    "\n",
    "        # Initialize inner loop counter\n",
    "        inner_counter = 0\n",
    "\n",
    "        # Inner loop\n",
    "        while inner_counter < inner_iterations:\n",
    "            print(f\"    Inner loop iteration {inner_counter}\")\n",
    "            inner_counter += 1\n",
    "\n",
    "        middle_counter += 1\n",
    "\n",
    "    outer_counter += 1\n",
    "\n",
    "print(\"Code with nested while loops is executed.\")\n"
   ]
  },
  {
   "cell_type": "markdown",
   "id": "051b5e22",
   "metadata": {},
   "source": [
    "## 95. The Fibonacci Number using for loop"
   ]
  },
  {
   "cell_type": "code",
   "execution_count": 5,
   "id": "55c64dff",
   "metadata": {},
   "outputs": [
    {
     "name": "stdout",
     "output_type": "stream",
     "text": [
      "Enter the number of Fibonacci numbers to generate: 2\n",
      "Fibonacci Sequence:\n",
      "0 1 "
     ]
    }
   ],
   "source": [
    "# Define the number of Fibonacci numbers to generate\n",
    "N = int(input(\"Enter the number of Fibonacci numbers to generate: \"))\n",
    "\n",
    "# Initialize the first two Fibonacci numbers\n",
    "fibonacci_sequence = [0, 1]\n",
    "\n",
    "# Generate the Fibonacci numbers using a for loop\n",
    "for i in range(2, N):\n",
    "    next_number = fibonacci_sequence[i - 1] + fibonacci_sequence[i - 2]\n",
    "    fibonacci_sequence.append(next_number)\n",
    "\n",
    "# Print the Fibonacci numbers\n",
    "print(\"Fibonacci Sequence:\")\n",
    "for number in fibonacci_sequence:\n",
    "    print(number, end=\" \")\n"
   ]
  },
  {
   "cell_type": "markdown",
   "id": "cd5fb614",
   "metadata": {},
   "source": [
    "## 96. The Fibonacci Number using while looop"
   ]
  },
  {
   "cell_type": "code",
   "execution_count": 6,
   "id": "1f7a9b9f",
   "metadata": {},
   "outputs": [
    {
     "name": "stdout",
     "output_type": "stream",
     "text": [
      "Enter the number of Fibonacci numbers to generate: 2\n",
      "Fibonacci Sequence:\n",
      "0 1 "
     ]
    }
   ],
   "source": [
    "# Define the number of Fibonacci numbers to generate\n",
    "N = int(input(\"Enter the number of Fibonacci numbers to generate: \"))\n",
    "\n",
    "# Initialize the first two Fibonacci numbers\n",
    "fibonacci_sequence = [0, 1]\n",
    "\n",
    "# Generate the Fibonacci numbers using a while loop\n",
    "i = 2\n",
    "while i < N:\n",
    "    next_number = fibonacci_sequence[i - 1] + fibonacci_sequence[i - 2]\n",
    "    fibonacci_sequence.append(next_number)\n",
    "    i += 1\n",
    "\n",
    "# Print the Fibonacci numbers\n",
    "print(\"Fibonacci Sequence:\")\n",
    "for number in fibonacci_sequence:\n",
    "    print(number, end=\" \")\n"
   ]
  },
  {
   "cell_type": "markdown",
   "id": "bc20e212",
   "metadata": {},
   "source": [
    "## 97. Return Last Element using for loop"
   ]
  },
  {
   "cell_type": "code",
   "execution_count": 8,
   "id": "15305fdf",
   "metadata": {},
   "outputs": [
    {
     "name": "stdout",
     "output_type": "stream",
     "text": [
      "Enter a list of items separated by spaces: ayesha asif \n",
      "Last item in the list: asif\n"
     ]
    }
   ],
   "source": [
    "# Input a list of items\n",
    "items = input(\"Enter a list of items separated by spaces: \").split()\n",
    "\n",
    "# Initialize a variable to store the last item\n",
    "last_item = None\n",
    "\n",
    "# Use a for loop to find the last item\n",
    "for item in items:\n",
    "    last_item = item\n",
    "\n",
    "# Check if the list is not empty and print the last item\n",
    "if last_item is not None:\n",
    "    print(\"Last item in the list:\", last_item)\n",
    "else:\n",
    "    print(\"The list is empty.\")\n"
   ]
  },
  {
   "cell_type": "markdown",
   "id": "aa35fcc7",
   "metadata": {},
   "source": [
    "## 98. Return Last Element using while loop"
   ]
  },
  {
   "cell_type": "code",
   "execution_count": 9,
   "id": "0580277d",
   "metadata": {},
   "outputs": [
    {
     "name": "stdout",
     "output_type": "stream",
     "text": [
      "Enter a list of items separated by spaces: ayesha asif \n",
      "Last item in the list: asif\n"
     ]
    }
   ],
   "source": [
    "# Input a list of items\n",
    "items = input(\"Enter a list of items separated by spaces: \").split()\n",
    "\n",
    "# Initialize variables\n",
    "last_item = None\n",
    "index = 0\n",
    "\n",
    "# Use a while loop to find the last item\n",
    "while index < len(items):\n",
    "    last_item = items[index]\n",
    "    index += 1\n",
    "\n",
    "# Check if the list is not empty and print the last item\n",
    "if last_item is not None:\n",
    "    print(\"Last item in the list:\", last_item)\n",
    "else:\n",
    "    print(\"The list is empty.\")\n"
   ]
  },
  {
   "cell_type": "markdown",
   "id": "af6337f3",
   "metadata": {},
   "source": [
    "## 99. Filter Repeating Character Strings using for loop"
   ]
  },
  {
   "cell_type": "code",
   "execution_count": 10,
   "id": "656fb52f",
   "metadata": {},
   "outputs": [
    {
     "name": "stdout",
     "output_type": "stream",
     "text": [
      "Enter a list of strings separated by spaces: asif yaseen umar taher \n",
      "Filtered List:\n",
      "asif umar taher "
     ]
    }
   ],
   "source": [
    "# Input a list of strings\n",
    "string_list = input(\"Enter a list of strings separated by spaces: \").split()\n",
    "\n",
    "# Initialize a list to store non-repeating strings\n",
    "filtered_list = []\n",
    "\n",
    "# Use a for loop to filter out repeating character strings\n",
    "for string in string_list:\n",
    "    is_repeating = False\n",
    "\n",
    "    # Check if the string contains repeating characters\n",
    "    for char in string:\n",
    "        if string.count(char) > 1:\n",
    "            is_repeating = True\n",
    "            break\n",
    "\n",
    "    if not is_repeating:\n",
    "        filtered_list.append(string)\n",
    "\n",
    "# Print the filtered list\n",
    "print(\"Filtered List:\")\n",
    "for string in filtered_list:\n",
    "    print(string, end=\" \")\n"
   ]
  },
  {
   "cell_type": "markdown",
   "id": "eda3f87d",
   "metadata": {},
   "source": [
    "## 100. Filter Repeating Character Strings using while loop"
   ]
  },
  {
   "cell_type": "code",
   "execution_count": 11,
   "id": "fdafdaee",
   "metadata": {},
   "outputs": [
    {
     "name": "stdout",
     "output_type": "stream",
     "text": [
      "Enter a list of strings separated by spaces: ayesha yaseen asif umar taher\n",
      "Filtered List:\n",
      "asif umar taher "
     ]
    }
   ],
   "source": [
    "# Input a list of strings\n",
    "string_list = input(\"Enter a list of strings separated by spaces: \").split()\n",
    "\n",
    "# Initialize lists to store the original and filtered strings\n",
    "original_list = string_list\n",
    "filtered_list = []\n",
    "\n",
    "# Initialize index\n",
    "index = 0\n",
    "\n",
    "# Helper function to check for repeating characters in a string\n",
    "def has_repeating_characters(s):\n",
    "    seen = set()\n",
    "    for char in s:\n",
    "        if char in seen:\n",
    "            return True\n",
    "        seen.add(char)\n",
    "    return False\n",
    "\n",
    "# Use a while loop to filter out repeating character strings\n",
    "while index < len(original_list):\n",
    "    string = original_list[index]\n",
    "    \n",
    "    if not has_repeating_characters(string):\n",
    "        filtered_list.append(string)\n",
    "    \n",
    "    index += 1\n",
    "\n",
    "# Print the filtered list\n",
    "print(\"Filtered List:\")\n",
    "for string in filtered_list:\n",
    "    print(string, end=\" \")\n"
   ]
  },
  {
   "cell_type": "markdown",
   "id": "48eb18ee",
   "metadata": {},
   "source": [
    "# Medium Loop Programs"
   ]
  },
  {
   "cell_type": "markdown",
   "id": "2d219ea9",
   "metadata": {},
   "source": [
    "## 101. List of Multiples using for loop "
   ]
  },
  {
   "cell_type": "code",
   "execution_count": 3,
   "id": "ca46c699",
   "metadata": {},
   "outputs": [
    {
     "name": "stdout",
     "output_type": "stream",
     "text": [
      "Multiples of 9 from 1 to 10 are: [9, 18, 27, 36, 45, 54, 63, 72, 81, 90]\n"
     ]
    }
   ],
   "source": [
    "# 1.using for loop finding multiples\n",
    "# Define the number for which you want to find multiples\n",
    "num = 9\n",
    "start = 1\n",
    "end = 10\n",
    "multiples =[]\n",
    "for i in range(1, 11):\n",
    "    multiple = num * i\n",
    "    multiples.append(multiple)\n",
    "print(\"Multiples of\", num, \"from\", start, \"to\", end, \"are:\", multiples)"
   ]
  },
  {
   "cell_type": "markdown",
   "id": "83fd2e62",
   "metadata": {},
   "source": [
    "## 102. List of Multiples using while loop "
   ]
  },
  {
   "cell_type": "code",
   "execution_count": 4,
   "id": "86a1f1e2",
   "metadata": {},
   "outputs": [
    {
     "name": "stdout",
     "output_type": "stream",
     "text": [
      "Multiples of 9 from 1 to 10 are: [9, 18, 27, 36, 45, 54, 63, 72, 81, 90]\n"
     ]
    }
   ],
   "source": [
    "# 2.\n",
    "# Define the number for which you want to find multiples\n",
    "num = 9\n",
    "start = 1\n",
    "end = 10\n",
    "multiples = []\n",
    "i = start\n",
    "while i <= end:\n",
    "    multiple = num * i\n",
    "    multiples.append(multiple)\n",
    "    i += 1\n",
    "print(\"Multiples of\", num, \"from\", start, \"to\", end, \"are:\", multiples)"
   ]
  },
  {
   "cell_type": "markdown",
   "id": "14513605",
   "metadata": {},
   "source": [
    "## 103.  Designing Rugs using for loop "
   ]
  },
  {
   "cell_type": "code",
   "execution_count": 12,
   "id": "f8436e08",
   "metadata": {},
   "outputs": [
    {
     "name": "stdout",
     "output_type": "stream",
     "text": [
      "**********\n",
      "##########\n",
      "**********\n",
      "##########\n",
      "**********\n"
     ]
    }
   ],
   "source": [
    "# 2 #3 Define the width and height of the rug\n",
    "width = 10\n",
    "height = 5\n",
    "row = 0\n",
    "while row < height:\n",
    "    if row % 2 == 0:\n",
    "        print(\"*\" * width)  \n",
    "    else:\n",
    "        print(\"#\" * width)  # Print a full row of hashtags\n",
    "    row += 1  # Move to the next row"
   ]
  },
  {
   "cell_type": "markdown",
   "id": "4c6c6446",
   "metadata": {},
   "source": [
    "## 104.  Designing Rugs using while loop"
   ]
  },
  {
   "cell_type": "code",
   "execution_count": 1,
   "id": "488e7b26",
   "metadata": {},
   "outputs": [
    {
     "name": "stdout",
     "output_type": "stream",
     "text": [
      "**********\n",
      "##########\n",
      "**********\n",
      "##########\n",
      "**********\n"
     ]
    }
   ],
   "source": [
    "\n",
    "# 4 Define the width and height of the rug\n",
    "width = 10\n",
    "height = 5\n",
    "\n",
    "# Initialize the row counter\n",
    "row = 0\n",
    "\n",
    "# Print the rug design using a while loop\n",
    "while row < height:\n",
    "    if row % 2 == 0:\n",
    "        print(\"*\" * width)  # Print a full row of asterisks\n",
    "    else:\n",
    "        print(\"#\" * width)  # Print a full row of hashtags\n",
    "    row += 1  # Move to the next ro"
   ]
  },
  {
   "cell_type": "markdown",
   "id": "9900c812",
   "metadata": {},
   "source": [
    "## 105.  Burglary Series (06): Convert to Number using for loop"
   ]
  },
  {
   "cell_type": "code",
   "execution_count": 4,
   "id": "d3338134",
   "metadata": {},
   "outputs": [
    {
     "name": "stdout",
     "output_type": "stream",
     "text": [
      "Converted number: 11001\n"
     ]
    }
   ],
   "source": [
    "# 5 #5 bulgary series\n",
    "burglary_series = \"0011001\"\n",
    "\n",
    "# Initialize a variable to store the converted number\n",
    "converted_number = 0\n",
    "\n",
    "# Iterate through the characters in the burglary_series using a for loop\n",
    "for i in burglary_series:\n",
    "    # Convert the character to an integer and add it to the converted_number\n",
    "    converted_number = converted_number * 10 + int(i)\n",
    "\n",
    "# Print the converted number\n",
    "print(\"Converted number:\", converted_number)\n"
   ]
  },
  {
   "cell_type": "markdown",
   "id": "df8e8b02",
   "metadata": {},
   "source": [
    "## 106. Burglary Series (06): Convert to Number using while loop"
   ]
  },
  {
   "cell_type": "code",
   "execution_count": 5,
   "id": "9d7c4b7e",
   "metadata": {},
   "outputs": [
    {
     "name": "stdout",
     "output_type": "stream",
     "text": [
      "Converted number: 11001\n"
     ]
    }
   ],
   "source": [
    "#6 buklgaery series\n",
    "burglary_series = \"0011001\"\n",
    "\n",
    "# Initialize variables\n",
    "converted_number = 0\n",
    "index = 0\n",
    "\n",
    "# Use a while loop to iterate through the characters in the burglary_series\n",
    "while index < len(burglary_series):\n",
    "    char = burglary_series[index]\n",
    "    converted_number = converted_number * 10 + int(char)\n",
    "    index += 1\n",
    "\n",
    "# Print the converted number\n",
    "print(\"Converted number:\", converted_number)\n",
    "\n"
   ]
  },
  {
   "cell_type": "markdown",
   "id": "5bb039ac",
   "metadata": {},
   "source": [
    "## 107.  Two Distinct Elements using for loop"
   ]
  },
  {
   "cell_type": "code",
   "execution_count": null,
   "id": "30552d86",
   "metadata": {},
   "outputs": [],
   "source": [
    "#4 #7 distinct elements\n",
    "l = [1, 2, 1, 3, 2]\n",
    "distinct_elements = []\n",
    "\n",
    "for element in l:\n",
    "    if element not in distinct_elements:\n",
    "        distinct_elements.append(element)\n",
    "    \n",
    "    if len(distinct_elements) == 2:\n",
    "        break\n",
    "\n",
    "if len(distinct_elements) == 2:\n",
    "    print(\"Distinct elements:\", distinct_elements[0], distinct_elements[1])\n",
    "else:\n",
    "    print(\"There are not exactly two distinct elements in the list.\")\n"
   ]
  },
  {
   "cell_type": "markdown",
   "id": "d9b0b15b",
   "metadata": {},
   "source": [
    "## 108.  Two Distinct Elements using while loop"
   ]
  },
  {
   "cell_type": "code",
   "execution_count": 7,
   "id": "f63e89cd",
   "metadata": {},
   "outputs": [
    {
     "name": "stdout",
     "output_type": "stream",
     "text": [
      "Distinct elements: 1 2\n"
     ]
    }
   ],
   "source": [
    "#8 distinct elements\n",
    "arr = [1, 2, 1, 3, 2]\n",
    "distinct_elements = []\n",
    "\n",
    "index = 0\n",
    "while len(distinct_elements) < 2 and index < len(arr):\n",
    "    element = arr[index]\n",
    "\n",
    "    if element not in distinct_elements:\n",
    "        distinct_elements.append(element)\n",
    "    \n",
    "    index += 1\n",
    "\n",
    "if len(distinct_elements) == 2:\n",
    "    print(\"Distinct elements:\", distinct_elements[0], distinct_elements[1])\n",
    "else:\n",
    "    print(\"There are not exactly two distinct elements in the list.\")\n"
   ]
  },
  {
   "cell_type": "markdown",
   "id": "ff0a7834",
   "metadata": {},
   "source": [
    "## 109.  Algebra Sequence — Boxes using for loop"
   ]
  },
  {
   "cell_type": "code",
   "execution_count": 9,
   "id": "6462d982",
   "metadata": {},
   "outputs": [
    {
     "name": "stdout",
     "output_type": "stream",
     "text": [
      "[1] [2] [3] [4] [5] \n"
     ]
    }
   ],
   "source": [
    "#5 #9 Define the number of boxes in the sequence\n",
    "num_boxes = 5\n",
    "\n",
    "# Initialize a variable to store the sequence\n",
    "sequence = \"\"\n",
    "\n",
    "# Create the algebraic sequence of boxes using a for loop\n",
    "for i in range(1, num_boxes + 1):\n",
    "    sequence += \"[\" + str(i) + \"] \"\n",
    "\n",
    "# Print the algebraic sequence of boxes\n",
    "print(sequence)\n"
   ]
  },
  {
   "cell_type": "markdown",
   "id": "15da0d71",
   "metadata": {},
   "source": [
    "## 110. Algebra Sequence — Boxes using while loop"
   ]
  },
  {
   "cell_type": "code",
   "execution_count": 16,
   "id": "38bd70fd",
   "metadata": {},
   "outputs": [
    {
     "name": "stdout",
     "output_type": "stream",
     "text": [
      "[1] [2] [3] [4] [5] \n"
     ]
    }
   ],
   "source": [
    "#10 Define the number of boxes in the sequence\n",
    "num_boxes = 5\n",
    "\n",
    "# Initialize a variable to store the sequence\n",
    "sequence = \"\"\n",
    "i = 1\n",
    "\n",
    "# Create the algebraic sequence of boxes using a while loop\n",
    "while i <= num_boxes:\n",
    "    sequence += \"[\" + str(i) + \"] \"\n",
    "    i += 1\n",
    "\n",
    "# Print the algebraic sequence of boxes\n",
    "print(sequence)\n"
   ]
  },
  {
   "cell_type": "markdown",
   "id": "f6f8af91",
   "metadata": {},
   "source": [
    "## 111.  Harshad Number using for loop"
   ]
  },
  {
   "cell_type": "code",
   "execution_count": 3,
   "id": "352b8f95",
   "metadata": {},
   "outputs": [
    {
     "name": "stdout",
     "output_type": "stream",
     "text": [
      "Enter a number: 902777809\n",
      "902777809 is not a Harshad number\n"
     ]
    }
   ],
   "source": [
    "#6 #11 Input a number to check if it's a Harshad number\n",
    "number = int(input(\"Enter a number: \"))\n",
    "\n",
    "# Calculate the sum of the digits\n",
    "digit_sum = 0\n",
    "\n",
    "# Use a for loop to calculate the sum of the digits\n",
    "for digit in str(number):\n",
    "    digit_sum += int(digit)\n",
    "\n",
    "# Check if the number is a Harshad number\n",
    "if number % digit_sum == 0:\n",
    "    print(f\"{number} is a Harshad number\")\n",
    "else:\n",
    "    print(f\"{number} is not a Harshad number\")\n"
   ]
  },
  {
   "cell_type": "markdown",
   "id": "a05d2e10",
   "metadata": {},
   "source": [
    "## 112.  Harshad Number using while loop"
   ]
  },
  {
   "cell_type": "code",
   "execution_count": 11,
   "id": "75fce845",
   "metadata": {},
   "outputs": [
    {
     "name": "stdout",
     "output_type": "stream",
     "text": [
      "Enter a number: 901030890\n",
      "901030890 is a Harshad number\n"
     ]
    }
   ],
   "source": [
    "#12 Input a number to check if it's a Harshad number\n",
    "number = int(input(\"Enter a number: \"))\n",
    "\n",
    "# Calculate the sum of the digits\n",
    "digit_sum = 0\n",
    "temp_number = number\n",
    "\n",
    "while temp_number > 0:\n",
    "    digit = temp_number % 10\n",
    "    digit_sum += digit\n",
    "    temp_number //= 10\n",
    "\n",
    "# Check if the number is a Harshad number\n",
    "if number % digit_sum == 0:\n",
    "    print(f\"{number} is a Harshad number\")\n",
    "else:\n",
    "    print(f\"{number} is not a Harshad number\")\n"
   ]
  },
  {
   "cell_type": "markdown",
   "id": "388212d8",
   "metadata": {},
   "source": [
    "## 113. Is Johnny Making Progress? using for loop"
   ]
  },
  {
   "cell_type": "code",
   "execution_count": 2,
   "id": "dfadd5e8",
   "metadata": {},
   "outputs": [
    {
     "name": "stdout",
     "output_type": "stream",
     "text": [
      "Is Johnny Making Progress? (yes/no): yes\n",
      "Great! Keep it up, Johnny!\n"
     ]
    }
   ],
   "source": [
    "#7 #13 johny progress\n",
    "for _ in range(1):\n",
    "    response = input(\"Is Johnny Making Progress? (yes/no): \")\n",
    "\n",
    "if response.lower() == \"yes\":\n",
    "    print(\"Great! Keep it up, Johnny!\")\n",
    "else:\n",
    "    print(\"Don't worry, Johnny. Keep working hard!\")\n"
   ]
  },
  {
   "cell_type": "markdown",
   "id": "d3a67ce5",
   "metadata": {},
   "source": [
    "## 114. Is Johnny Making Progress? using while loop "
   ]
  },
  {
   "cell_type": "code",
   "execution_count": 1,
   "id": "252a8eec",
   "metadata": {},
   "outputs": [
    {
     "name": "stdout",
     "output_type": "stream",
     "text": [
      "Is Johnny Making Progress? (yes/no): yes\n",
      "Great! Keep it up, Johnny!\n"
     ]
    }
   ],
   "source": [
    "#14 johny progress\n",
    "response = \"\"\n",
    "while response.lower() not in [\"yes\", \"no\"]:\n",
    "    response = input(\"Is Johnny Making Progress? (yes/no): \")\n",
    "\n",
    "if response.lower() == \"yes\":\n",
    "    print(\"Great! Keep it up, Johnny!\")\n",
    "else:\n",
    "    print(\"Don't worry, Johnny. Keep working hard!\")"
   ]
  },
  {
   "cell_type": "markdown",
   "id": "f94c23ae",
   "metadata": {},
   "source": [
    "## 115. Perfect Square Patch using for loop "
   ]
  },
  {
   "cell_type": "code",
   "execution_count": 4,
   "id": "a065f31e",
   "metadata": {},
   "outputs": [
    {
     "name": "stdout",
     "output_type": "stream",
     "text": [
      "Enter the side length of the square: 8\n",
      "* * * * * * * * \n",
      "* * * * * * * * \n",
      "* * * * * * * * \n",
      "* * * * * * * * \n",
      "* * * * * * * * \n",
      "* * * * * * * * \n",
      "* * * * * * * * \n",
      "* * * * * * * * \n"
     ]
    }
   ],
   "source": [
    "#8 #15 Get the side length of the square from the user\n",
    "side_length = int(input(\"Enter the side length of the square: \"))\n",
    "\n",
    "# Loop to create the square patch\n",
    "for i in range(side_length):\n",
    "    for j in range(side_length):\n",
    "        print(\"*\", end=\" \")  # Use any character or symbol you want for the square\n",
    "    print()  # Move to the next line for the next row\n"
   ]
  },
  {
   "cell_type": "markdown",
   "id": "984ae8aa",
   "metadata": {},
   "source": [
    "## 116. Perfect Square Patch using for loop "
   ]
  },
  {
   "cell_type": "code",
   "execution_count": 5,
   "id": "7c8b26ea",
   "metadata": {},
   "outputs": [
    {
     "name": "stdout",
     "output_type": "stream",
     "text": [
      "Enter the side length of the square: 8\n",
      "* * * * * * * * \n",
      "* * * * * * * * \n",
      "* * * * * * * * \n",
      "* * * * * * * * \n",
      "* * * * * * * * \n",
      "* * * * * * * * \n",
      "* * * * * * * * \n",
      "* * * * * * * * \n"
     ]
    }
   ],
   "source": [
    "# 16 Get the side length of the square from the user\n",
    "side_length = int(input(\"Enter the side length of the square: \"))\n",
    "\n",
    "row = 0\n",
    "while row < side_length:\n",
    "    col = 0\n",
    "    while col < side_length:\n",
    "        print(\"*\", end=\" \")  # Use any character or symbol you want for the square\n",
    "        col += 1\n",
    "    print()  # Move to the next line for the next row\n",
    "    row += 1\n"
   ]
  },
  {
   "cell_type": "markdown",
   "id": "70689b79",
   "metadata": {},
   "source": [
    "## 117. Reverse Coding Challenge #6 using for loop"
   ]
  },
  {
   "cell_type": "code",
   "execution_count": 1,
   "id": "d3166006",
   "metadata": {},
   "outputs": [
    {
     "name": "stdout",
     "output_type": "stream",
     "text": [
      "Enter a positive integer: 4\n",
      "1234\n",
      "1234\n",
      "1234\n",
      "1234\n"
     ]
    }
   ],
   "source": [
    "#9 #17 reverse code\n",
    "n = int(input(\"Enter a positive integer: \"))\n",
    "\n",
    "# Loop to generate the pattern\n",
    "for i in range(1, n + 1):\n",
    "    for j in range(1, n + 1):\n",
    "        print(j, end=\"\")\n",
    "    print()\n"
   ]
  },
  {
   "cell_type": "markdown",
   "id": "17e911c2",
   "metadata": {},
   "source": [
    "## 118. Reverse Coding Challenge #6 using while loop"
   ]
  },
  {
   "cell_type": "code",
   "execution_count": 2,
   "id": "d32bfe2e",
   "metadata": {},
   "outputs": [
    {
     "name": "stdout",
     "output_type": "stream",
     "text": [
      "Enter a positive integer: 4\n",
      "1234\n",
      "1234\n",
      "1234\n",
      "1234\n"
     ]
    }
   ],
   "source": [
    "# 18 reverse \n",
    "n = int(input(\"Enter a positive integer: \"))\n",
    "row = 1\n",
    "\n",
    "# Loop to generate the pattern\n",
    "while row <= n:\n",
    "    col = 1\n",
    "    while col <= n:\n",
    "        print(col, end=\"\")\n",
    "        col += 1\n",
    "    print()\n",
    "    row += 1\n"
   ]
  },
  {
   "cell_type": "markdown",
   "id": "8f41608a",
   "metadata": {},
   "source": [
    "## 119. Neutralisation using for loop "
   ]
  },
  {
   "cell_type": "code",
   "execution_count": 3,
   "id": "f34ee4b9",
   "metadata": {},
   "outputs": [
    {
     "name": "stdout",
     "output_type": "stream",
     "text": [
      "Enter the volume of acid (in mL): 100\n",
      "Enter the volume of base (in mL): 100\n",
      "Neutralization complete. The reaction is balanced.\n"
     ]
    }
   ],
   "source": [
    "#10 #19 Input the amount of acid and base\n",
    "acid_volume = int(input(\"Enter the volume of acid (in mL): \"))\n",
    "base_volume = int(input(\"Enter the volume of base (in mL): \"))\n",
    "\n",
    "# Check if the volumes are positive\n",
    "if acid_volume < 0 or base_volume < 0:\n",
    "    print(\"Volumes must be positive.\")\n",
    "else:\n",
    "    # Initialize variables for neutralization\n",
    "    remaining_acid = acid_volume\n",
    "    remaining_base = base_volume\n",
    "\n",
    "    # Perform neutralization using a for loop\n",
    "    for i in range(min(acid_volume, base_volume)):\n",
    "        remaining_acid -= 1\n",
    "        remaining_base -= 1\n",
    "\n",
    "    # Determine the result of neutralization\n",
    "    if remaining_acid == 0 and remaining_base == 0:\n",
    "        print(\"Neutralization complete. The reaction is balanced.\")\n",
    "    else:\n",
    "        print(\"Neutralization incomplete. Some reactants remain.\")\n"
   ]
  },
  {
   "cell_type": "markdown",
   "id": "c8190fa1",
   "metadata": {},
   "source": [
    "## 120. Neutralisation using while loop"
   ]
  },
  {
   "cell_type": "code",
   "execution_count": 4,
   "id": "9babc634",
   "metadata": {},
   "outputs": [
    {
     "name": "stdout",
     "output_type": "stream",
     "text": [
      "Enter the volume of acid (in mL): 100\n",
      "Enter the volume of base (in mL): 100\n",
      "Neutralization complete. The reaction is balanced.\n"
     ]
    }
   ],
   "source": [
    "# 20 Input the amount of acid and base\n",
    "acid_volume = int(input(\"Enter the volume of acid (in mL): \"))\n",
    "base_volume = int(input(\"Enter the volume of base (in mL): \"))\n",
    "\n",
    "# Check if the volumes are positive\n",
    "if acid_volume < 0 or base_volume < 0:\n",
    "    print(\"Volumes must be positive.\")\n",
    "else:\n",
    "    # Initialize variables for neutralization\n",
    "    remaining_acid = acid_volume\n",
    "    remaining_base = base_volume\n",
    "\n",
    "    # Perform neutralization using a while loop\n",
    "    while remaining_acid > 0 and remaining_base > 0:\n",
    "        remaining_acid -= 1\n",
    "        remaining_base -= 1\n",
    "\n",
    "    # Determine the result of neutralization\n",
    "    if remaining_acid == 0 and remaining_base == 0:\n",
    "        print(\"Neutralization complete. The reaction is balanced.\")\n",
    "    else:\n",
    "        print(\"Neutralization incomplete. Some reactants remain.\")\n"
   ]
  },
  {
   "cell_type": "markdown",
   "id": "c186eaa1",
   "metadata": {},
   "source": [
    "## 121. Iterated Square Root using for loop"
   ]
  },
  {
   "cell_type": "code",
   "execution_count": null,
   "id": "899328ae",
   "metadata": {},
   "outputs": [],
   "source": [
    "# 11 #21  iterated sqaure root\n",
    "x = 10  # You can change this to any positive number\n",
    "\n",
    "# Number of iterations\n",
    "iterations = 5  # You can change this to control how many iterations you want\n",
    "\n",
    "# Perform iterated square root using a for loop\n",
    "for _ in range(iterations):\n",
    "    x = x ** 0.5  # Calculate the square root of x and update x\n",
    "\n",
    "# Print the final result\n",
    "print(\"After\", iterations, \"iterations, the result is:\", x)\n"
   ]
  },
  {
   "cell_type": "markdown",
   "id": "c574f056",
   "metadata": {},
   "source": [
    "## 122. Iterated Square Root using while loop"
   ]
  },
  {
   "cell_type": "code",
   "execution_count": 6,
   "id": "faadeed2",
   "metadata": {},
   "outputs": [
    {
     "name": "stdout",
     "output_type": "stream",
     "text": [
      "After 5 iterations, the result is: 1.0746078283213176\n"
     ]
    }
   ],
   "source": [
    "#22 Start with an initial positive number\n",
    "x = 10  # You can change this to any positive number\n",
    "\n",
    "# Number of iterations\n",
    "iterations = 5  # You can change this to control how many iterations you want\n",
    "\n",
    "# Perform iterated square root using a while loop\n",
    "count = 0\n",
    "while count < iterations:\n",
    "    x = x ** 0.5  # Calculate the square root of x and update x\n",
    "    count += 1\n",
    "\n",
    "# Print the final result\n",
    "print(\"After\", iterations, \"iterations, the result is:\", x)\n"
   ]
  },
  {
   "cell_type": "markdown",
   "id": "523a8431",
   "metadata": {},
   "source": [
    "## 123. Syncopated Rhythm using while loop"
   ]
  },
  {
   "cell_type": "code",
   "execution_count": 8,
   "id": "5b2e9d6a",
   "metadata": {},
   "outputs": [
    {
     "name": "stdout",
     "output_type": "stream",
     "text": [
      "Syncopated Rhythm Pattern:\n",
      "X X . X . X . X X . X . X . X X\n"
     ]
    }
   ],
   "source": [
    "# 24 Define a list of notes and rests\n",
    "rhythm_pattern = [\"X\", \"X\", \".\", \"X\", \".\", \"X\", \".\"]  # \"X\" represents a note, \".\" represents a rest\n",
    "\n",
    "# Number of iterations\n",
    "iterations = 16  # You can change this to control the length of the rhythm\n",
    "\n",
    "# Initialize an empty rhythm sequence and a counter\n",
    "rhythm_sequence = []\n",
    "count = 0\n",
    "\n",
    "# Perform rhythm generation using a while loop\n",
    "while count < iterations:\n",
    "    rhythm_sequence.append(rhythm_pattern[count % len(rhythm_pattern)])\n",
    "    count += 1\n",
    "\n",
    "# Print the final rhythm sequence\n",
    "print(\"Syncopated Rhythm Pattern:\")\n",
    "print(\" \".join(rhythm_sequence))\n"
   ]
  },
  {
   "cell_type": "markdown",
   "id": "3185ba45",
   "metadata": {},
   "source": [
    "## 124. Syncopated Rhythm using for loop"
   ]
  },
  {
   "cell_type": "code",
   "execution_count": null,
   "id": "914fd59a",
   "metadata": {},
   "outputs": [],
   "source": []
  },
  {
   "cell_type": "markdown",
   "id": "d6349934",
   "metadata": {},
   "source": [
    "## 125. Count the Number of Duplicate Characters using for loop"
   ]
  },
  {
   "cell_type": "code",
   "execution_count": 9,
   "id": "210fab46",
   "metadata": {},
   "outputs": [
    {
     "name": "stdout",
     "output_type": "stream",
     "text": [
      "Total number of duplicate characters: 5\n"
     ]
    }
   ],
   "source": [
    "# 13#25 number of count of duplicate characters\n",
    "# Input string\n",
    "input_string = \"hello world\"\n",
    "\n",
    "# Initialize a counter for duplicate characters\n",
    "duplicate_count = 0\n",
    "\n",
    "# Iterate through the characters in the input string\n",
    "for char in input_string:\n",
    "    # Count the occurrences of the current character in the string\n",
    "    char_occurrences = input_string.count(char)\n",
    "    \n",
    "    # If the character appears more than once, increment the duplicate_count\n",
    "    if char_occurrences > 1:\n",
    "        duplicate_count += 1\n",
    "\n",
    "# Print the total number of duplicate characters\n",
    "print(\"Total number of duplicate characters:\", duplicate_count)\n"
   ]
  },
  {
   "cell_type": "markdown",
   "id": "4ec3934f",
   "metadata": {},
   "source": [
    "## 126. Count the Number of Duplicate Characters using while loop"
   ]
  },
  {
   "cell_type": "code",
   "execution_count": 11,
   "id": "2c4f6e87",
   "metadata": {},
   "outputs": [
    {
     "name": "stdout",
     "output_type": "stream",
     "text": [
      "Total number of duplicate characters: 5\n"
     ]
    }
   ],
   "source": [
    "#26 Input string\n",
    "input_string = \"hello world\"\n",
    "\n",
    "# Initialize a counter for duplicate characters\n",
    "duplicate_count = 0\n",
    "\n",
    "# Initialize an index for the first character\n",
    "index = 0\n",
    "\n",
    "# Iterate through the characters in the input string using a while loop\n",
    "while index < len(input_string):\n",
    "    char = input_string[index]\n",
    "    \n",
    "    # Count the occurrences of the current character in the string\n",
    "    char_occurrences = input_string.count(char)\n",
    "    \n",
    "    # If the character appears more than once, increment the duplicate_count\n",
    "    if char_occurrences > 1:\n",
    "        duplicate_count += 1\n",
    "\n",
    "    # Move to the next character\n",
    "    index += 1\n",
    "\n",
    "# Print the total number of duplicate characters\n",
    "print(\"Total number of duplicate characters:\", duplicate_count)\n"
   ]
  },
  {
   "cell_type": "markdown",
   "id": "96e486bf",
   "metadata": {},
   "source": [
    "## 127. Don't Roll Doubles! using for loop"
   ]
  },
  {
   "cell_type": "code",
   "execution_count": 12,
   "id": "1317832b",
   "metadata": {},
   "outputs": [
    {
     "name": "stdout",
     "output_type": "stream",
     "text": [
      "Rolling two dice: Die 1 = 3, Die 2 = 4\n",
      "You didn't roll doubles!\n"
     ]
    }
   ],
   "source": [
    "#14 #27 dont roll doubles\n",
    "import random\n",
    "\n",
    "for _ in range(100):\n",
    "    die1 = random.randint(1, 6)\n",
    "    die2 = random.randint(1, 6)\n",
    "    \n",
    "    print(f\"Rolling two dice: Die 1 = {die1}, Die 2 = {die2}\")\n",
    "    \n",
    "    if die1 != die2:\n",
    "        print(\"You didn't roll doubles!\")\n",
    "        break\n"
   ]
  },
  {
   "cell_type": "markdown",
   "id": "63bb41b6",
   "metadata": {},
   "source": [
    "## 128. Don't Roll Doubles! using while loop"
   ]
  },
  {
   "cell_type": "code",
   "execution_count": 13,
   "id": "098872cf",
   "metadata": {},
   "outputs": [
    {
     "name": "stdout",
     "output_type": "stream",
     "text": [
      "Rolling two dice: Die 1 = 3, Die 2 = 4\n",
      "You didn't roll doubles!\n"
     ]
    }
   ],
   "source": [
    "#28 .\n",
    "import random\n",
    "\n",
    "doubles = True  # Initialize to True to enter the loop\n",
    "\n",
    "while doubles:\n",
    "    die1 = random.randint(1, 6)\n",
    "    die2 = random.randint(1, 6)\n",
    "    \n",
    "    print(f\"Rolling two dice: Die 1 = {die1}, Die 2 = {die2}\")\n",
    "    \n",
    "    if die1 != die2:\n",
    "        print(\"You didn't roll doubles!\")\n",
    "        doubles = False\n"
   ]
  },
  {
   "cell_type": "markdown",
   "id": "9ac6ef3a",
   "metadata": {},
   "source": [
    "## 129. Likes vs. Dislikes using for loop"
   ]
  },
  {
   "cell_type": "code",
   "execution_count": 2,
   "id": "a0b616da",
   "metadata": {},
   "outputs": [
    {
     "name": "stdout",
     "output_type": "stream",
     "text": [
      "Likes: 6\n",
      "Dislikes: 4\n"
     ]
    }
   ],
   "source": [
    "#9 #29 likes vs dislikes\n",
    "# Initialize counts for likes and dislikes\n",
    "likes = 0\n",
    "dislikes = 0\n",
    "\n",
    "# List of votes (1 for like, -1 for dislike)\n",
    "votes = [1, 1, -1, 1, -1, -1, 1, 1, 1, -1]\n",
    "\n",
    "# Count likes and dislikes using a for loop\n",
    "for vote in votes:\n",
    "    if vote == 1:\n",
    "        likes += 1\n",
    "    elif vote == -1:\n",
    "        dislikes += 1\n",
    "\n",
    "# Display the results\n",
    "print(f\"Likes: {likes}\")\n",
    "print(f\"Dislikes: {dislikes}\")\n"
   ]
  },
  {
   "cell_type": "markdown",
   "id": "c31ba089",
   "metadata": {},
   "source": [
    "## 130. Likes vs. Dislikes using while loop"
   ]
  },
  {
   "cell_type": "code",
   "execution_count": 3,
   "id": "fba28dfc",
   "metadata": {},
   "outputs": [
    {
     "name": "stdout",
     "output_type": "stream",
     "text": [
      "Likes: 6\n",
      "Dislikes: 4\n"
     ]
    }
   ],
   "source": [
    "# 30 Initialize counts for likes and dislikes\n",
    "likes = 0\n",
    "dislikes = 0\n",
    "\n",
    "# List of votes (1 for like, -1 for dislike)\n",
    "votes = [1, -1, 1, 1, -1, -1, 1, 1, -1, 1]\n",
    "\n",
    "# Initialize index for iterating through the votes\n",
    "index = 0\n",
    "\n",
    "# Use a while loop to count likes and dislikes\n",
    "while index < len(votes):\n",
    "    vote = votes[index]\n",
    "    \n",
    "    if vote == 1:\n",
    "        likes += 1\n",
    "    elif vote == -1:\n",
    "        dislikes += 1\n",
    "    \n",
    "    index += 1\n",
    "\n",
    "# Display the results\n",
    "print(f\"Likes: {likes}\")\n",
    "print(f\"Dislikes: {dislikes}\")\n"
   ]
  },
  {
   "cell_type": "markdown",
   "id": "2debf122",
   "metadata": {},
   "source": [
    "## 131. Capital Split using for loop"
   ]
  },
  {
   "cell_type": "code",
   "execution_count": 7,
   "id": "7abebf4e",
   "metadata": {},
   "outputs": [
    {
     "name": "stdout",
     "output_type": "stream",
     "text": [
      "['A', 'B', 'C', 'D', 'E', 'F', 'G', 'H']\n"
     ]
    }
   ],
   "source": [
    "# 16 #31 capital split\n",
    "capital_letters = \"ABCDEFGH\"\n",
    "split_capitals = []\n",
    "\n",
    "for letter in capital_letters:\n",
    "    split_capitals.append(letter)\n",
    "\n",
    "print(split_capitals)\n"
   ]
  },
  {
   "cell_type": "markdown",
   "id": "84ebf6cc",
   "metadata": {},
   "source": [
    "## 132. Capital Split using while loop"
   ]
  },
  {
   "cell_type": "code",
   "execution_count": 8,
   "id": "4c3d1b82",
   "metadata": {},
   "outputs": [
    {
     "name": "stdout",
     "output_type": "stream",
     "text": [
      "['A', 'B', 'C', 'D', 'E', 'F', 'G', 'H']\n"
     ]
    }
   ],
   "source": [
    "# 32 \n",
    "capital_letters = \"ABCDEFGH\"\n",
    "split_capitals = []\n",
    "\n",
    "index = 0\n",
    "while index < len(capital_letters):\n",
    "    split_capitals.append(capital_letters[index])\n",
    "    index += 1\n",
    "\n",
    "print(split_capitals)\n"
   ]
  },
  {
   "cell_type": "markdown",
   "id": "4dfb9348",
   "metadata": {},
   "source": [
    "## 133. Integer Digits Count using for loop"
   ]
  },
  {
   "cell_type": "code",
   "execution_count": 12,
   "id": "5af31236",
   "metadata": {},
   "outputs": [
    {
     "name": "stdout",
     "output_type": "stream",
     "text": [
      "Enter an integer: 666666677\n",
      "Number of digits: 9\n"
     ]
    }
   ],
   "source": [
    "#17 # 33 Get the input integer from the user\n",
    "num = int(input(\"Enter an integer: \"))\n",
    "\n",
    "# Initialize a variable to count the digits\n",
    "count = 0\n",
    "\n",
    "# Handle the case for a 0 input separately\n",
    "if num == 0:\n",
    "    count = 1\n",
    "\n",
    "# Use a for loop to count the digits\n",
    "for _ in str(abs(num)):\n",
    "    count += 1\n",
    "\n",
    "# Display the count\n",
    "print(\"Number of digits:\", count)\n"
   ]
  },
  {
   "cell_type": "markdown",
   "id": "775d6a5f",
   "metadata": {},
   "source": [
    "## 134. Integer Digits Count using while loop"
   ]
  },
  {
   "cell_type": "code",
   "execution_count": 14,
   "id": "bf7d671a",
   "metadata": {},
   "outputs": [
    {
     "name": "stdout",
     "output_type": "stream",
     "text": [
      "Enter an integer: 7788999\n",
      "Number of integer digits: 7\n"
     ]
    }
   ],
   "source": [
    "# 34 Input number\n",
    "num = int(input(\"Enter an integer: \"))\n",
    "\n",
    "# Initialize count to 0\n",
    "count = 0\n",
    "\n",
    "# Check each digit in the number\n",
    "while num != 0:\n",
    "    num //= 10  # Remove the last digit\n",
    "    count += 1  # Increment the count\n",
    "\n",
    "# Print the count\n",
    "print(\"Number of integer digits:\", count)\n"
   ]
  },
  {
   "cell_type": "markdown",
   "id": "bf42fd4f",
   "metadata": {},
   "source": [
    "## 135. Odd Up, Even Down — N Times using for loop"
   ]
  },
  {
   "cell_type": "code",
   "execution_count": 19,
   "id": "354d83fa",
   "metadata": {},
   "outputs": [
    {
     "name": "stdout",
     "output_type": "stream",
     "text": [
      "Enter the value of N: 5\n",
      "1 (Odd Up)\n",
      "2 (Even Down)\n",
      "1 (Odd Up)\n",
      "2 (Even Down)\n",
      "1 (Odd Up)\n"
     ]
    }
   ],
   "source": [
    "# 18 #35 oddup even down\n",
    "N = int(input(\"Enter the value of N: \"))\n",
    "number = 1\n",
    "\n",
    "for _ in range(N):\n",
    "    if number % 2 == 1:  # Odd number, increase\n",
    "        print(f\"{number} (Odd Up)\")\n",
    "        number += 1\n",
    "    else:  # Even number, decrease\n",
    "        print(f\"{number} (Even Down)\")\n",
    "        number -= 1\n"
   ]
  },
  {
   "cell_type": "markdown",
   "id": "9b66c529",
   "metadata": {},
   "source": [
    "## 136. Odd Up, Even Down — N Times using while loop"
   ]
  },
  {
   "cell_type": "code",
   "execution_count": 18,
   "id": "7fae1ebf",
   "metadata": {},
   "outputs": [
    {
     "name": "stdout",
     "output_type": "stream",
     "text": [
      "Enter the value of N: 4\n",
      "1 (Odd Up)\n",
      "2 (Even Down)\n",
      "1 (Odd Up)\n",
      "2 (Even Down)\n"
     ]
    }
   ],
   "source": [
    "# 36\n",
    "N = int(input(\"Enter the value of N: \"))\n",
    "number = 1\n",
    "\n",
    "while N > 0:\n",
    "    if number % 2 == 1:  # Odd number, increase\n",
    "        print(f\"{number} (Odd Up)\")\n",
    "        number += 1\n",
    "    else:  # Even number, decrease\n",
    "        print(f\"{number} (Even Down)\")\n",
    "        number -= 1\n",
    "    N -= 1\n"
   ]
  },
  {
   "cell_type": "markdown",
   "id": "28313ade",
   "metadata": {},
   "source": [
    "## 137. Missing Letters using for loop"
   ]
  },
  {
   "cell_type": "code",
   "execution_count": 23,
   "id": "34737643",
   "metadata": {},
   "outputs": [
    {
     "name": "stdout",
     "output_type": "stream",
     "text": [
      "Missing letters: ml\n"
     ]
    }
   ],
   "source": [
    "# 19#37 missing letters\n",
    "# Input string\n",
    "input_string = \"abcdefghijknopqrstuvwxyz\"\n",
    "\n",
    "# Create an empty string to store missing letters\n",
    "missing_letters = \"\"\n",
    "\n",
    "# Iterate through the alphabet\n",
    "for letter in \"abcdefghijkmlnopqrstuvwxyz\":\n",
    "    if letter not in input_string:\n",
    "        missing_letters += letter\n",
    "\n",
    "# Print the missing letters\n",
    "if missing_letters:\n",
    "    print(\"Missing letters:\", missing_letters)\n",
    "else:\n",
    "    print(\"No missing letters found.\")\n"
   ]
  },
  {
   "cell_type": "markdown",
   "id": "daf9c707",
   "metadata": {},
   "source": [
    "## 138. Missing Letters using while loop"
   ]
  },
  {
   "cell_type": "code",
   "execution_count": 25,
   "id": "ec65dee4",
   "metadata": {},
   "outputs": [
    {
     "name": "stdout",
     "output_type": "stream",
     "text": [
      "Missing letters: nopq\n"
     ]
    }
   ],
   "source": [
    "# 38 Input string\n",
    "input_string = \"abcdefghijklmrstuvwxyz\"\n",
    "\n",
    "# Create an empty string to store missing letters\n",
    "missing_letters = \"\"\n",
    "\n",
    "# Initialize an index for the while loop\n",
    "index = 0\n",
    "\n",
    "# Create a string containing the entire alphabet\n",
    "alphabet = \"abcdefghijklmnopqrstuvwxyz\"\n",
    "\n",
    "# Iterate through the alphabet using a while loop\n",
    "while index < len(alphabet):\n",
    "    letter = alphabet[index]\n",
    "    if letter not in input_string:\n",
    "        missing_letters += letter\n",
    "    index += 1\n",
    "\n",
    "# Print the missing letters\n",
    "if missing_letters:\n",
    "    print(\"Missing letters:\", missing_letters)\n",
    "else:\n",
    "    print(\"No missing letters found.\")\n"
   ]
  },
  {
   "cell_type": "markdown",
   "id": "08799ddf",
   "metadata": {},
   "source": [
    "## 139. Seven Boom! using for loop"
   ]
  },
  {
   "cell_type": "code",
   "execution_count": 26,
   "id": "a2e8c979",
   "metadata": {},
   "outputs": [
    {
     "name": "stdout",
     "output_type": "stream",
     "text": [
      "1\n",
      "2\n",
      "3\n",
      "4\n",
      "5\n",
      "6\n",
      "Boom!\n",
      "8\n",
      "9\n",
      "10\n",
      "11\n",
      "12\n",
      "13\n",
      "Boom!\n",
      "15\n",
      "16\n",
      "Boom!\n",
      "18\n",
      "19\n",
      "20\n",
      "Boom!\n",
      "22\n",
      "23\n",
      "24\n",
      "25\n",
      "26\n",
      "Boom!\n",
      "Boom!\n",
      "29\n",
      "30\n",
      "31\n",
      "32\n",
      "33\n",
      "34\n",
      "Boom!\n",
      "36\n",
      "Boom!\n",
      "38\n",
      "39\n",
      "40\n",
      "41\n",
      "Boom!\n",
      "43\n",
      "44\n",
      "45\n",
      "46\n",
      "Boom!\n",
      "48\n",
      "Boom!\n",
      "50\n",
      "51\n",
      "52\n",
      "53\n",
      "54\n",
      "55\n",
      "Boom!\n",
      "Boom!\n",
      "58\n",
      "59\n",
      "60\n",
      "61\n",
      "62\n",
      "Boom!\n",
      "64\n",
      "65\n",
      "66\n",
      "Boom!\n",
      "68\n",
      "69\n",
      "Boom!\n",
      "Boom!\n",
      "Boom!\n",
      "Boom!\n",
      "Boom!\n",
      "Boom!\n",
      "Boom!\n",
      "Boom!\n",
      "Boom!\n",
      "Boom!\n",
      "80\n",
      "81\n",
      "82\n",
      "83\n",
      "Boom!\n",
      "85\n",
      "86\n",
      "Boom!\n",
      "88\n",
      "89\n",
      "90\n",
      "Boom!\n",
      "92\n",
      "93\n",
      "94\n",
      "95\n",
      "96\n",
      "Boom!\n",
      "Boom!\n",
      "99\n",
      "100\n"
     ]
    }
   ],
   "source": [
    "# 20 #39 3 seven boom\n",
    "# Set the limit for counting\n",
    "limit = 100\n",
    "\n",
    "# Iterate from 1 to the specified limit\n",
    "for number in range(1, limit + 1):\n",
    "    # Check if the number contains the digit 7\n",
    "    if '7' in str(number) or number % 7 == 0:\n",
    "        print(\"Boom!\")\n",
    "    else:\n",
    "        print(number)\n"
   ]
  },
  {
   "cell_type": "markdown",
   "id": "7c25e3ac",
   "metadata": {},
   "source": [
    "## 140. Seven Boom! using while loop"
   ]
  },
  {
   "cell_type": "code",
   "execution_count": 27,
   "id": "cf7b124c",
   "metadata": {},
   "outputs": [
    {
     "name": "stdout",
     "output_type": "stream",
     "text": [
      "1\n",
      "2\n",
      "3\n",
      "4\n",
      "5\n",
      "6\n",
      "Boom!\n",
      "8\n",
      "9\n",
      "10\n",
      "11\n",
      "12\n",
      "13\n",
      "Boom!\n",
      "15\n",
      "16\n",
      "Boom!\n",
      "18\n",
      "19\n",
      "20\n",
      "Boom!\n",
      "22\n",
      "23\n",
      "24\n",
      "25\n",
      "26\n",
      "Boom!\n",
      "Boom!\n",
      "29\n",
      "30\n",
      "31\n",
      "32\n",
      "33\n",
      "34\n",
      "Boom!\n",
      "36\n",
      "Boom!\n",
      "38\n",
      "39\n",
      "40\n",
      "41\n",
      "Boom!\n",
      "43\n",
      "44\n",
      "45\n",
      "46\n",
      "Boom!\n",
      "48\n",
      "Boom!\n",
      "50\n",
      "51\n",
      "52\n",
      "53\n",
      "54\n",
      "55\n",
      "Boom!\n",
      "Boom!\n",
      "58\n",
      "59\n",
      "60\n",
      "61\n",
      "62\n",
      "Boom!\n",
      "64\n",
      "65\n",
      "66\n",
      "Boom!\n",
      "68\n",
      "69\n",
      "Boom!\n",
      "Boom!\n",
      "Boom!\n",
      "Boom!\n",
      "Boom!\n",
      "Boom!\n",
      "Boom!\n",
      "Boom!\n",
      "Boom!\n",
      "Boom!\n",
      "80\n",
      "81\n",
      "82\n",
      "83\n",
      "Boom!\n",
      "85\n",
      "86\n",
      "Boom!\n",
      "88\n",
      "89\n",
      "90\n",
      "Boom!\n",
      "92\n",
      "93\n",
      "94\n",
      "95\n",
      "96\n",
      "Boom!\n",
      "Boom!\n",
      "99\n",
      "100\n"
     ]
    }
   ],
   "source": [
    "# 40 Set the limit for counting\n",
    "limit = 100\n",
    "\n",
    "# Initialize the current number to 1\n",
    "number = 1\n",
    "\n",
    "# Iterate while the current number is less than or equal to the limit\n",
    "while number <= limit:\n",
    "    # Check if the number contains the digit 7\n",
    "    if '7' in str(number) or number % 7 == 0:\n",
    "        print(\"Boom!\")\n",
    "    else:\n",
    "        print(number)\n",
    "    \n",
    "    # Increment the current number\n",
    "    number += 1\n"
   ]
  },
  {
   "cell_type": "markdown",
   "id": "6cc94001",
   "metadata": {},
   "source": [
    "## 141. Bundle Up! using for loop"
   ]
  },
  {
   "cell_type": "code",
   "execution_count": 28,
   "id": "09e9d3f9",
   "metadata": {},
   "outputs": [
    {
     "name": "stdout",
     "output_type": "stream",
     "text": [
      "Temperature is comfortable.\n",
      "Temperature is comfortable.\n",
      "Bundle Up!\n",
      "Bundle Up!\n",
      "Bundle Up!\n",
      "Bundle Up!\n",
      "Temperature is comfortable.\n"
     ]
    }
   ],
   "source": [
    "#21 # 41 bundle up\n",
    "# Define a list of temperatures for a week\n",
    "temperatures = [45, 40, 38, 32, 34, 39, 42]\n",
    "\n",
    "# Iterate through the temperatures using a for loop\n",
    "for temp in temperatures:\n",
    "    if temp < 40:\n",
    "        print(\"Bundle Up!\")\n",
    "    else:\n",
    "        print(\"Temperature is comfortable.\")\n"
   ]
  },
  {
   "cell_type": "markdown",
   "id": "1283bb54",
   "metadata": {},
   "source": [
    "## 142. Bundle Up! using while loop"
   ]
  },
  {
   "cell_type": "code",
   "execution_count": 29,
   "id": "0d129258",
   "metadata": {},
   "outputs": [
    {
     "name": "stdout",
     "output_type": "stream",
     "text": [
      "Temperature is comfortable.\n",
      "Temperature is comfortable.\n",
      "Bundle Up!\n",
      "Bundle Up!\n",
      "Bundle Up!\n",
      "Bundle Up!\n",
      "Temperature is comfortable.\n"
     ]
    }
   ],
   "source": [
    "# 42 Define a list of temperatures for a week\n",
    "temperatures = [45, 40, 38, 32, 34, 39, 42]\n",
    "\n",
    "# Initialize an index for the while loop\n",
    "index = 0\n",
    "\n",
    "# Iterate through the temperatures using a while loop\n",
    "while index < len(temperatures):\n",
    "    temp = temperatures[index]\n",
    "    if temp < 40:\n",
    "        print(\"Bundle Up!\")\n",
    "    else:\n",
    "        print(\"Temperature is comfortable.\")\n",
    "    index += 1\n"
   ]
  },
  {
   "cell_type": "markdown",
   "id": "e31cfbf5",
   "metadata": {},
   "source": [
    "## 143. Binary to Decimal Converter using for loop"
   ]
  },
  {
   "cell_type": "code",
   "execution_count": 32,
   "id": "830e8ed1",
   "metadata": {},
   "outputs": [
    {
     "name": "stdout",
     "output_type": "stream",
     "text": [
      "Enter a binary number: 20\n",
      "The decimal equivalent is: 4\n"
     ]
    }
   ],
   "source": [
    "#22 #  43 binary to decimal\n",
    "binary_number = input(\"Enter a binary number: \")\n",
    "decimal = 0\n",
    "\n",
    "for i in range(len(binary_number)):\n",
    "    bit = int(binary_number[-(i + 1)])\n",
    "    decimal += bit * (2 ** i)\n",
    "\n",
    "print(f\"The decimal equivalent is: {decimal}\")\n"
   ]
  },
  {
   "cell_type": "markdown",
   "id": "bbb31825",
   "metadata": {},
   "source": [
    "## 144. Binary to Decimal Converter using while loop"
   ]
  },
  {
   "cell_type": "code",
   "execution_count": 33,
   "id": "6e87a656",
   "metadata": {},
   "outputs": [
    {
     "name": "stdout",
     "output_type": "stream",
     "text": [
      "Enter a binary number: 20\n",
      "The decimal equivalent is: 4\n"
     ]
    }
   ],
   "source": [
    "# 44\n",
    "binary_number = input(\"Enter a binary number: \")\n",
    "decimal = 0\n",
    "position = 0\n",
    "\n",
    "while binary_number:\n",
    "    bit = int(binary_number[-1])\n",
    "    decimal += bit * (2 ** position)\n",
    "    binary_number = binary_number[:-1]\n",
    "    position += 1\n",
    "\n",
    "print(f\"The decimal equivalent is: {decimal}\")\n"
   ]
  },
  {
   "cell_type": "markdown",
   "id": "1f0cac5d",
   "metadata": {},
   "source": [
    "## 145. Find The Largest Even Number using for loop"
   ]
  },
  {
   "cell_type": "code",
   "execution_count": 34,
   "id": "ee3ddde4",
   "metadata": {},
   "outputs": [
    {
     "name": "stdout",
     "output_type": "stream",
     "text": [
      "The largest even number is: 54\n"
     ]
    }
   ],
   "source": [
    "#23 # 45 find the largest even\n",
    "# Input list of numbers\n",
    "numbers = [10, 15, 22, 8, 46, 31, 54, 29]\n",
    "\n",
    "# Initialize a variable to store the largest even number\n",
    "largest_even = None\n",
    "\n",
    "# Iterate through the numbers using a for loop\n",
    "for number in numbers:\n",
    "    if number % 2 == 0:  # Check if the number is even\n",
    "        if largest_even is None or number > largest_even:\n",
    "            largest_even = number\n",
    "\n",
    "# Check if any even numbers were found\n",
    "if largest_even is not None:\n",
    "    print(f\"The largest even number is: {largest_even}\")\n",
    "else:\n",
    "    print(\"No even numbers found in the list.\")\n"
   ]
  },
  {
   "cell_type": "markdown",
   "id": "a398a8b3",
   "metadata": {},
   "source": [
    "## 146. Find The Largest Even Number using while loop"
   ]
  },
  {
   "cell_type": "code",
   "execution_count": 35,
   "id": "b7b39b9d",
   "metadata": {},
   "outputs": [
    {
     "name": "stdout",
     "output_type": "stream",
     "text": [
      "The largest even number is: 54\n"
     ]
    }
   ],
   "source": [
    "# 46 Input list of numbers\n",
    "numbers = [10, 15, 22, 8, 46, 31, 54, 29]\n",
    "\n",
    "# Initialize a variable to store the largest even number\n",
    "largest_even = None\n",
    "\n",
    "# Initialize an index variable for the while loop\n",
    "index = 0\n",
    "\n",
    "# Iterate through the numbers using a while loop\n",
    "while index < len(numbers):\n",
    "    number = numbers[index]\n",
    "\n",
    "    if number % 2 == 0:  # Check if the number is even\n",
    "        if largest_even is None or number > largest_even:\n",
    "            largest_even = number\n",
    "\n",
    "    index += 1\n",
    "\n",
    "# Check if any even numbers were found\n",
    "if largest_even is not None:\n",
    "    print(f\"The largest even number is: {largest_even}\")\n",
    "else:\n",
    "    print(\"No even numbers found in the list.\")\n",
    "\n"
   ]
  },
  {
   "cell_type": "markdown",
   "id": "2f38b1f9",
   "metadata": {},
   "source": [
    "## 147. Hold Your Breath! using for loop"
   ]
  },
  {
   "cell_type": "code",
   "execution_count": 2,
   "id": "05f30c5d",
   "metadata": {},
   "outputs": [
    {
     "name": "stdout",
     "output_type": "stream",
     "text": [
      "Holding your breath for 10 seconds...\n",
      "10 9 8 7 6 5 4 3 2 1 \n",
      "Time's up! You can now breathe.\n"
     ]
    }
   ],
   "source": [
    "# 24 # 47\n",
    "seconds = 10  # Adjust this value to set the duration of holding your breath\n",
    "\n",
    "print(\"Holding your breath for {} seconds...\".format(seconds))\n",
    "\n",
    "for _ in range(seconds, 0, -1):\n",
    "    print(_, end=' ')\n",
    "\n",
    "print(\"\\nTime's up! You can now breathe.\")\n"
   ]
  },
  {
   "cell_type": "markdown",
   "id": "450a0815",
   "metadata": {},
   "source": [
    "## 148. Hold Your Breath! using for loop"
   ]
  },
  {
   "cell_type": "code",
   "execution_count": 1,
   "id": "0a22ea39",
   "metadata": {},
   "outputs": [
    {
     "name": "stdout",
     "output_type": "stream",
     "text": [
      "Holding your breath for 10 seconds...\n",
      "10 9 8 7 6 5 4 3 2 1 \n",
      "Time's up! You can now breathe.\n"
     ]
    }
   ],
   "source": [
    "# 48\n",
    "seconds = 10  # Adjust this value to set the duration of holding your breath\n",
    "\n",
    "print(\"Holding your breath for {} seconds...\".format(seconds))\n",
    "\n",
    "while seconds > 0:\n",
    "    print(seconds, end=' ')\n",
    "    seconds -= 1\n",
    "\n",
    "print(\"\\nTime's up! You can now breathe.\")\n"
   ]
  },
  {
   "cell_type": "markdown",
   "id": "05052228",
   "metadata": {},
   "source": [
    "## 149. Accumulating List using for loop"
   ]
  },
  {
   "cell_type": "code",
   "execution_count": 3,
   "id": "648dec25",
   "metadata": {},
   "outputs": [
    {
     "name": "stdout",
     "output_type": "stream",
     "text": [
      "Original list of numbers: [1, 2, 3, 4, 5, 6, 7, 8, 9]\n",
      "Accumulated list: [1, 3, 6, 10, 15, 21, 28, 36, 45]\n"
     ]
    }
   ],
   "source": [
    "#49\n",
    "numbers = [1, 2, 3, 4, 5, 6, 7, 8, 9]  # Adjust the list to your preferred list of numbers\n",
    "accumulated = []\n",
    "\n",
    "total = 0\n",
    "\n",
    "for num in numbers:\n",
    "    total += num\n",
    "    accumulated.append(total)\n",
    "\n",
    "print(\"Original list of numbers:\", numbers)\n",
    "print(\"Accumulated list:\", accumulated)\n"
   ]
  },
  {
   "cell_type": "markdown",
   "id": "65de231f",
   "metadata": {},
   "source": [
    "## 150. Accumulating List using while loop"
   ]
  },
  {
   "cell_type": "code",
   "execution_count": 4,
   "id": "66d544d8",
   "metadata": {},
   "outputs": [
    {
     "name": "stdout",
     "output_type": "stream",
     "text": [
      "Original list of numbers: [1, 2, 3, 4, 5, 6, 7, 8, 9]\n",
      "Accumulated list: [1, 3, 6, 10, 15, 21, 28, 36, 45]\n"
     ]
    }
   ],
   "source": [
    "#50\n",
    "numbers = [1, 2, 3, 4, 5, 6, 7, 8, 9]  # Adjust the list to your preferred list of numbers\n",
    "accumulated = []\n",
    "total = 0\n",
    "index = 0\n",
    "\n",
    "while index < len(numbers):\n",
    "    total += numbers[index]\n",
    "    accumulated.append(total)\n",
    "    index += 1\n",
    "\n",
    "print(\"Original list of numbers:\", numbers)\n",
    "print(\"Accumulated list:\", accumulated)\n"
   ]
  }
 ],
 "metadata": {
  "kernelspec": {
   "display_name": "Python 3 (ipykernel)",
   "language": "python",
   "name": "python3"
  },
  "language_info": {
   "codemirror_mode": {
    "name": "ipython",
    "version": 3
   },
   "file_extension": ".py",
   "mimetype": "text/x-python",
   "name": "python",
   "nbconvert_exporter": "python",
   "pygments_lexer": "ipython3",
   "version": "3.11.5"
  }
 },
 "nbformat": 4,
 "nbformat_minor": 5
}
