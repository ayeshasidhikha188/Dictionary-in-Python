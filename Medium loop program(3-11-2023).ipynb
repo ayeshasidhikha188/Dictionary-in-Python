{
 "cells": [
  {
   "cell_type": "markdown",
   "id": "01d8d2c0",
   "metadata": {},
   "source": [
    "# Weekend Task(3-11-2023)\n",
    "# Medium loop programs\n",
    "# 1.List of Multiples\n",
    "## Create a function that takes two numbers as arguments (num, length) and returns a list of multiples of num until the list length reaches length."
   ]
  },
  {
   "cell_type": "code",
   "execution_count": 3,
   "id": "ffe90d70",
   "metadata": {},
   "outputs": [
    {
     "name": "stdout",
     "output_type": "stream",
     "text": [
      "Multiples of 9 from 1 to 10 are: [9, 18, 27, 36, 45, 54, 63, 72, 81, 90]\n"
     ]
    }
   ],
   "source": [
    "num = 9\n",
    "start = 1\n",
    "end = 10\n",
    "multiples =[]\n",
    "for i in range(1, 11):\n",
    "    multiple = num * i\n",
    "    multiples.append(multiple)\n",
    "print(\"Multiples of\", num, \"from\", start, \"to\", end, \"are:\", multiples)"
   ]
  },
  {
   "cell_type": "code",
   "execution_count": 4,
   "id": "c98e4dd5",
   "metadata": {},
   "outputs": [
    {
     "name": "stdout",
     "output_type": "stream",
     "text": [
      "Multiples of 9 from 1 to 10 are: [9, 18, 27, 36, 45, 54, 63, 72, 81, 90]\n"
     ]
    }
   ],
   "source": [
    "num = 9\n",
    "start = 1\n",
    "end = 10\n",
    "multiples = []\n",
    "i = start\n",
    "while i <= end:\n",
    "    multiple = num * i\n",
    "    multiples.append(multiple)\n",
    "    i += 1\n",
    "print(\"Multiples of\", num, \"from\", start, \"to\", end, \"are:\", multiples)"
   ]
  },
  {
   "cell_type": "markdown",
   "id": "407d6800",
   "metadata": {},
   "source": [
    "# 2. Designing Rugs\n",
    "## Write a function that accepts the height and width (m, n) and an optional proc s and generates a list with m elements. Each element is a string consisting of either:*\n",
    "### * The default character (hash #) repeating n times (if no proc is given).\n",
    "### * The character passed in through the proc repeating n times."
   ]
  },
  {
   "cell_type": "code",
   "execution_count": 5,
   "id": "d43940ef",
   "metadata": {},
   "outputs": [
    {
     "name": "stdout",
     "output_type": "stream",
     "text": [
      "**********\n",
      "##########\n",
      "**********\n",
      "##########\n",
      "**********\n"
     ]
    }
   ],
   "source": [
    "width = 10\n",
    "height = 5\n",
    "row = 0\n",
    "while row < height:\n",
    "    if row % 2 == 0:\n",
    "        print(\"*\" * width)  \n",
    "    else:\n",
    "        print(\"#\" * width)  \n",
    "    row += 1 "
   ]
  },
  {
   "cell_type": "markdown",
   "id": "3872e283",
   "metadata": {},
   "source": [
    "# 3.Burglary Series (06): Convert to Number\n",
    "## You prepare a list to send to the insurance company. As you finish, you notice you misformatted it. Given a dictionary with at least one key/value pair, convert all the values to numbers."
   ]
  },
  {
   "cell_type": "code",
   "execution_count": 10,
   "id": "59d25d4c",
   "metadata": {},
   "outputs": [
    {
     "name": "stdout",
     "output_type": "stream",
     "text": [
      "Converted number: 11001\n"
     ]
    }
   ],
   "source": [
    "burglaryseries = \"0011001\"\n",
    "convertednumber = 0\n",
    "for i in burglaryseries:\n",
    "    convertednumber = convertednumber * 10 + int(i)\n",
    "print(\"Converted number:\", convertednumber)"
   ]
  },
  {
   "cell_type": "code",
   "execution_count": 9,
   "id": "89328454",
   "metadata": {},
   "outputs": [
    {
     "name": "stdout",
     "output_type": "stream",
     "text": [
      "Converted number: 11001\n"
     ]
    }
   ],
   "source": [
    "burglaryseries = \"0011001\"\n",
    "convertednumber = 0\n",
    "index = 0\n",
    "while index < len(burglary_series):\n",
    "    char = burglaryseries[index]\n",
    "    convertednumber = convertednumber * 10 + int(char)\n",
    "    index += 1\n",
    "print(\"Converted number:\", convertednumber)"
   ]
  },
  {
   "cell_type": "markdown",
   "id": "a82b3209",
   "metadata": {},
   "source": [
    "# 4.Two Distinct Elements\n",
    "## In each input list, every number repeats at least once, except for two. Write a function that returns the two unique numbers."
   ]
  },
  {
   "cell_type": "code",
   "execution_count": 14,
   "id": "161ab56d",
   "metadata": {},
   "outputs": [
    {
     "name": "stdout",
     "output_type": "stream",
     "text": [
      "Distinct elements: 1 2\n"
     ]
    }
   ],
   "source": [
    "l = [1, 2, 1, 3, 2]\n",
    "distinctelements = []\n",
    "for element in l:\n",
    "    if element not in distinctelements:\n",
    "        distinctelements.append(element)\n",
    "    if len(distinctelements) == 2:\n",
    "        break\n",
    "if len(distinctelements) == 2:\n",
    "    print(\"Distinct elements:\", distinctelements[0], distinctelements[1])\n",
    "else:\n",
    "    print(\"There are not exactly two distinct elements in the list.\")"
   ]
  },
  {
   "cell_type": "code",
   "execution_count": 15,
   "id": "e2db0788",
   "metadata": {},
   "outputs": [
    {
     "name": "stdout",
     "output_type": "stream",
     "text": [
      "Distinct elements: 1 2\n"
     ]
    }
   ],
   "source": [
    "l = [1, 2, 1, 3, 2]\n",
    "distinctelements = []\n",
    "\n",
    "index = 0\n",
    "while len(distinctelements) < 2 and index < len(l):\n",
    "    element = l[index]\n",
    "\n",
    "    if element not in distinctelements:\n",
    "        distinctelements.append(element)\n",
    "    \n",
    "    index += 1\n",
    "\n",
    "if len(distinctelements) == 2:\n",
    "    print(\"Distinct elements:\", distinctelements[0], distinctelements[1])\n",
    "else:\n",
    "    print(\"There are not exactly two distinct elements in the list.\")\n"
   ]
  },
  {
   "cell_type": "markdown",
   "id": "2814af8e",
   "metadata": {},
   "source": [
    "# 5. Algebra Sequence — Boxes\n",
    "## Create a function that takes a number (step) as an argument and returns the amount of boxes in that step of the sequence."
   ]
  },
  {
   "cell_type": "code",
   "execution_count": 18,
   "id": "98d70858",
   "metadata": {},
   "outputs": [
    {
     "name": "stdout",
     "output_type": "stream",
     "text": [
      "[1] [2] [3] [4] [5] \n"
     ]
    }
   ],
   "source": [
    "numboxes = 5\n",
    "sequence = \"\"\n",
    "for i in range(1, numboxes + 1):\n",
    "    sequence += \"[\" + str(i) + \"] \"\n",
    "print(sequence)"
   ]
  },
  {
   "cell_type": "code",
   "execution_count": 19,
   "id": "c6115119",
   "metadata": {},
   "outputs": [
    {
     "name": "stdout",
     "output_type": "stream",
     "text": [
      "[1] [2] [3] [4] [5] \n"
     ]
    }
   ],
   "source": [
    "numboxes = 5\n",
    "sequence = \"\"\n",
    "i = 1\n",
    "while i <= numboxes:\n",
    "    sequence += \"[\" + str(i) + \"] \"\n",
    "    i += 1\n",
    "print(sequence)"
   ]
  },
  {
   "cell_type": "markdown",
   "id": "91d50c50",
   "metadata": {},
   "source": [
    "# 6. Harshad Number\n",
    "## A number is said to be Harshad if it's exactly divisible by the sum of its digits. Create a function that determines whether a number is a Harshad or not."
   ]
  },
  {
   "cell_type": "code",
   "execution_count": 20,
   "id": "878467f8",
   "metadata": {},
   "outputs": [
    {
     "name": "stdout",
     "output_type": "stream",
     "text": [
      "Enter a number: 7980856789\n",
      "7980856789 is not a Harshad number\n"
     ]
    }
   ],
   "source": [
    "number = int(input(\"Enter a number: \"))\n",
    "digit_sum = 0\n",
    "for digit in str(number):\n",
    "    digit_sum += int(digit)\n",
    "if number % digit_sum == 0:\n",
    "    print(f\"{number} is a Harshad number\")\n",
    "else:\n",
    "    print(f\"{number} is not a Harshad number\")\n"
   ]
  },
  {
   "cell_type": "code",
   "execution_count": 21,
   "id": "0898e861",
   "metadata": {},
   "outputs": [
    {
     "name": "stdout",
     "output_type": "stream",
     "text": [
      "Enter a number: 8979800887\n",
      "8979800887 is not a Harshad number\n"
     ]
    }
   ],
   "source": [
    "number = int(input(\"Enter a number: \"))\n",
    "digit_sum = 0\n",
    "temp_number = number\n",
    "while temp_number > 0:\n",
    "    digit = temp_number % 10\n",
    "    digit_sum += digit\n",
    "    temp_number //= 10\n",
    "if number % digit_sum == 0:\n",
    "    print(f\"{number} is a Harshad number\")\n",
    "else:\n",
    "    print(f\"{number} is not a Harshad number\")\n"
   ]
  },
  {
   "cell_type": "markdown",
   "id": "a3701be8",
   "metadata": {},
   "source": [
    "# 7. Is Johnny Making Progress?\n",
    "## Create a function that takes in a list of miles run every Saturday and returns Johnny's total number of progress days."
   ]
  },
  {
   "cell_type": "code",
   "execution_count": 26,
   "id": "adcdefb3",
   "metadata": {},
   "outputs": [
    {
     "name": "stdout",
     "output_type": "stream",
     "text": [
      "Is Johnny Making Progress? (yes/no): yes\n",
      "Great! Keep it up, Johnny!\n"
     ]
    }
   ],
   "source": [
    "for _ in range(1):\n",
    "    response = input(\"Is Johnny Making Progress? (yes/no): \")\n",
    "if response.lower() == \"yes\":\n",
    "    print(\"Great! Keep it up, Johnny!\")\n",
    "else:\n",
    "    print(\"Don't worry, Johnny. Keep working hard!\")\n"
   ]
  },
  {
   "cell_type": "code",
   "execution_count": 28,
   "id": "1b1bd4b1",
   "metadata": {},
   "outputs": [
    {
     "name": "stdout",
     "output_type": "stream",
     "text": [
      "Is Johnny Making Progress? (yes/no): yes\n",
      "Great! Keep it up, Johnny!\n"
     ]
    }
   ],
   "source": [
    "response = \"\"\n",
    "while response.lower() not in [\"yes\", \"no\"]:\n",
    "    response = input(\"Is Johnny Making Progress? (yes/no): \")\n",
    "\n",
    "if response.lower() == \"yes\":\n",
    "    print(\"Great! Keep it up, Johnny!\")\n",
    "else:\n",
    "    print(\"Don't worry, Johnny. Keep working hard!\")"
   ]
  },
  {
   "cell_type": "markdown",
   "id": "1e87ef76",
   "metadata": {},
   "source": [
    "# 8.Perfect Square Patch\n",
    "## Create a function that takes an integer and outputs an n x n square solely consisting of the integer n."
   ]
  },
  {
   "cell_type": "code",
   "execution_count": 29,
   "id": "76bfad77",
   "metadata": {},
   "outputs": [
    {
     "name": "stdout",
     "output_type": "stream",
     "text": [
      "Enter the side length of the square: 8\n",
      "* * * * * * * * \n",
      "* * * * * * * * \n",
      "* * * * * * * * \n",
      "* * * * * * * * \n",
      "* * * * * * * * \n",
      "* * * * * * * * \n",
      "* * * * * * * * \n",
      "* * * * * * * * \n"
     ]
    }
   ],
   "source": [
    "side_length = int(input(\"Enter the side length of the square: \"))\n",
    "for i in range(side_length):\n",
    "    for j in range(side_length):\n",
    "        print(\"*\", end=\" \")  \n",
    "    print()  "
   ]
  },
  {
   "cell_type": "code",
   "execution_count": 30,
   "id": "fb40f735",
   "metadata": {},
   "outputs": [
    {
     "name": "stdout",
     "output_type": "stream",
     "text": [
      "Enter the side length of the square: 8\n",
      "* * * * * * * * \n",
      "* * * * * * * * \n",
      "* * * * * * * * \n",
      "* * * * * * * * \n",
      "* * * * * * * * \n",
      "* * * * * * * * \n",
      "* * * * * * * * \n",
      "* * * * * * * * \n"
     ]
    }
   ],
   "source": [
    "side_length = int(input(\"Enter the side length of the square: \"))\n",
    "row = 0\n",
    "while row < side_length:\n",
    "    col = 0\n",
    "    while col < side_length:\n",
    "        print(\"*\", end=\" \")  \n",
    "        col += 1\n",
    "    print()  \n",
    "    row += 1"
   ]
  },
  {
   "cell_type": "markdown",
   "id": "effb044e",
   "metadata": {},
   "source": [
    "# 9. Reverse Coding Challenge #6\n",
    "## This is a reverse coding challenge. Normally you're given explicit directions with how to create a function. Here, you must generate your own function to satisfy the relationship between the inputs and outputs.\n",
    "## Your task is to create a function that, when fed the inputs below, produces the sample outputs shown."
   ]
  },
  {
   "cell_type": "code",
   "execution_count": 32,
   "id": "9592e9ee",
   "metadata": {},
   "outputs": [
    {
     "name": "stdout",
     "output_type": "stream",
     "text": [
      "Enter a positive integer: 6\n",
      "123456\n",
      "123456\n",
      "123456\n",
      "123456\n",
      "123456\n",
      "123456\n"
     ]
    }
   ],
   "source": [
    "n = int(input(\"Enter a positive integer: \"))\n",
    "for i in range(1, n + 1):\n",
    "    for j in range(1, n + 1):\n",
    "        print(j, end=\"\")\n",
    "    print()"
   ]
  },
  {
   "cell_type": "code",
   "execution_count": 33,
   "id": "90061423",
   "metadata": {},
   "outputs": [
    {
     "name": "stdout",
     "output_type": "stream",
     "text": [
      "Enter a positive integer: 6\n",
      "123456\n",
      "123456\n",
      "123456\n",
      "123456\n",
      "123456\n",
      "123456\n"
     ]
    }
   ],
   "source": [
    "n = int(input(\"Enter a positive integer: \"))\n",
    "row = 1\n",
    "while row <= n:\n",
    "    col = 1\n",
    "    while col <= n:\n",
    "        print(col, end=\"\")\n",
    "        col += 1\n",
    "    print()\n",
    "    row += 1"
   ]
  },
  {
   "cell_type": "markdown",
   "id": "e0adc917",
   "metadata": {},
   "source": [
    "# 10. Neutralisation\n",
    "## Given two strings comprised of + and -, return a new string which shows how the two strings interact in the following way:\n",
    "## * When positives and positives interact, they remain positive.\n",
    "## * When negatives and negatives interact, they remain negative.\n",
    "## But when negatives and positives interact, they become neutral, and are shown as the number 0.# 10. "
   ]
  },
  {
   "cell_type": "code",
   "execution_count": 34,
   "id": "e3bb4c6e",
   "metadata": {},
   "outputs": [
    {
     "name": "stdout",
     "output_type": "stream",
     "text": [
      "Enter the volume of acid (in mL): 40\n",
      "Enter the volume of base (in mL): 40\n",
      "Neutralization complete. The reaction is balanced.\n"
     ]
    }
   ],
   "source": [
    "acid_volume = int(input(\"Enter the volume of acid (in mL): \"))\n",
    "base_volume = int(input(\"Enter the volume of base (in mL): \"))\n",
    "if acid_volume < 0 or base_volume < 0:\n",
    "    print(\"Volumes must be positive.\")\n",
    "else:\n",
    "    remaining_acid = acid_volume\n",
    "    remaining_base = base_volume\n",
    "    for i in range(min(acid_volume, base_volume)):\n",
    "        remaining_acid -= 1\n",
    "        remaining_base -= 1\n",
    "    if remaining_acid == 0 and remaining_base == 0:\n",
    "        print(\"Neutralization complete. The reaction is balanced.\")\n",
    "    else:\n",
    "        print(\"Neutralization incomplete. Some reactants remain.\")"
   ]
  },
  {
   "cell_type": "code",
   "execution_count": 38,
   "id": "571f5ec4",
   "metadata": {},
   "outputs": [
    {
     "name": "stdout",
     "output_type": "stream",
     "text": [
      "Enter the volume of acid (in mL): 70\n",
      "Enter the volume of base (in mL): 70\n",
      "Neutralization complete. The reaction is balanced.\n"
     ]
    }
   ],
   "source": [
    "acid_volume = int(input(\"Enter the volume of acid (in mL): \"))\n",
    "base_volume = int(input(\"Enter the volume of base (in mL): \"))\n",
    "if acid_volume < 0 or base_volume < 0:\n",
    "    print(\"Volumes must be positive.\")\n",
    "else:\n",
    "    remaining_acid = acid_volume\n",
    "    remaining_base = base_volume\n",
    "    while remaining_acid > 0 and remaining_base > 0:\n",
    "        remaining_acid -= 1\n",
    "        remaining_base -= 1\n",
    "    if remaining_acid == 0 and remaining_base == 0:\n",
    "        print(\"Neutralization complete. The reaction is balanced.\")\n",
    "    else:\n",
    "        print(\"Neutralization incomplete. Some reactants remain.\")"
   ]
  },
  {
   "cell_type": "markdown",
   "id": "017fc610",
   "metadata": {},
   "source": [
    "# 11. Iterated Square Root\n",
    "## The iterated square root of a number is the number of times the square root function must be applied to bring the number strictly under 2.\n",
    "## Given an integer, return its iterated square root. Return \"invalid\" if it is negative"
   ]
  },
  {
   "cell_type": "code",
   "execution_count": 39,
   "id": "78e2a98d",
   "metadata": {},
   "outputs": [
    {
     "name": "stdout",
     "output_type": "stream",
     "text": [
      "After 5 iterations, the result is: 1.0746078283213176\n"
     ]
    }
   ],
   "source": [
    "x = 10  \n",
    "iterations = 5 \n",
    "for _ in range(iterations):\n",
    "    x = x ** 0.5  \n",
    "print(\"After\", iterations, \"iterations, the result is:\", x)"
   ]
  },
  {
   "cell_type": "code",
   "execution_count": 40,
   "id": "b25a0e56",
   "metadata": {},
   "outputs": [
    {
     "name": "stdout",
     "output_type": "stream",
     "text": [
      "After 5 iterations, the result is: 1.0746078283213176\n"
     ]
    }
   ],
   "source": [
    "x = 10  \n",
    "iterations = 5  \n",
    "count = 0\n",
    "while count < iterations:\n",
    "    x = x ** 0.5  \n",
    "    count += 1\n",
    "print(\"After\", iterations, \"iterations, the result is:\", x)"
   ]
  },
  {
   "cell_type": "markdown",
   "id": "72d1b0ee",
   "metadata": {},
   "source": [
    "# 12. Syncopated Rhythm\n",
    "## Syncopation means an emphasis on a weak beat of a bar of music; most commonly, beats 2 and 4 (and all other even-numbered beats if applicable)."
   ]
  },
  {
   "cell_type": "code",
   "execution_count": 41,
   "id": "9f1656cf",
   "metadata": {},
   "outputs": [
    {
     "name": "stdout",
     "output_type": "stream",
     "text": [
      "Syncopated Rhythm Pattern:\n",
      "X X . X . X . X X . X . X . X X\n"
     ]
    }
   ],
   "source": [
    "rhythm_pattern = [\"X\", \"X\", \".\", \"X\", \".\", \"X\", \".\"]  \n",
    "iterations = 16  \n",
    "rhythm_sequence = []\n",
    "count = 0\n",
    "while count < iterations:\n",
    "    rhythm_sequence.append(rhythm_pattern[count % len(rhythm_pattern)])\n",
    "    count += 1\n",
    "print(\"Syncopated Rhythm Pattern:\")\n",
    "print(\" \".join(rhythm_sequence))"
   ]
  },
  {
   "cell_type": "code",
   "execution_count": null,
   "id": "b6081e4d",
   "metadata": {},
   "outputs": [],
   "source": []
  },
  {
   "cell_type": "markdown",
   "id": "b1600573",
   "metadata": {},
   "source": [
    "# 13. Count the Number of Duplicate Characters\n",
    "## Create a function that returns the amount of duplicate characters in a string. It will be case sensitive and spaces are included. If there are no duplicates, return 0."
   ]
  },
  {
   "cell_type": "code",
   "execution_count": 42,
   "id": "4381c498",
   "metadata": {},
   "outputs": [
    {
     "name": "stdout",
     "output_type": "stream",
     "text": [
      "Total number of duplicate characters: 5\n"
     ]
    }
   ],
   "source": [
    "input_string = \"hello world\"\n",
    "duplicate_count = 0\n",
    "for char in input_string:\n",
    "    char_occurrences = input_string.count(char)\n",
    "    if char_occurrences > 1:\n",
    "        duplicate_count += 1\n",
    "print(\"Total number of duplicate characters:\", duplicate_count)"
   ]
  },
  {
   "cell_type": "code",
   "execution_count": 43,
   "id": "d17c4c1a",
   "metadata": {},
   "outputs": [
    {
     "name": "stdout",
     "output_type": "stream",
     "text": [
      "Total number of duplicate characters: 5\n"
     ]
    }
   ],
   "source": [
    "input_string = \"hello world\"\n",
    "duplicate_count = 0\n",
    "index = 0\n",
    "while index < len(input_string):\n",
    "    char = input_string[index]\n",
    "    char_occurrences = input_string.count(char)\n",
    "    if char_occurrences > 1:\n",
    "        duplicate_count += 1\n",
    "    index += 1\n",
    "print(\"Total number of duplicate characters:\", duplicate_count)"
   ]
  },
  {
   "cell_type": "markdown",
   "id": "bd79595b",
   "metadata": {},
   "source": [
    "# 14. Don't Roll Doubles!\n",
    "## Create a function that takes in a list of tuples as input, and return John's score after his game has ended."
   ]
  },
  {
   "cell_type": "code",
   "execution_count": 45,
   "id": "08cdc73e",
   "metadata": {},
   "outputs": [
    {
     "name": "stdout",
     "output_type": "stream",
     "text": [
      "Rolling two dice: Die 1 = 3, Die 2 = 6\n",
      "You didn't roll doubles!\n"
     ]
    }
   ],
   "source": [
    "import random\n",
    "for _ in range(100):\n",
    "    die1 = random.randint(1, 6)\n",
    "    die2 = random.randint(1, 6)\n",
    "    print(f\"Rolling two dice: Die 1 = {die1}, Die 2 = {die2}\")\n",
    "    if die1 != die2:\n",
    "        print(\"You didn't roll doubles!\")\n",
    "        break\n"
   ]
  },
  {
   "cell_type": "code",
   "execution_count": 46,
   "id": "3469e701",
   "metadata": {},
   "outputs": [
    {
     "name": "stdout",
     "output_type": "stream",
     "text": [
      "Rolling two dice: Die 1 = 4, Die 2 = 1\n",
      "You didn't roll doubles!\n"
     ]
    }
   ],
   "source": [
    "import random\n",
    "doubles = True  # Initialize to True to enter the loop\n",
    "while doubles:\n",
    "    die1 = random.randint(1, 6)\n",
    "    die2 = random.randint(1, 6)\n",
    "    print(f\"Rolling two dice: Die 1 = {die1}, Die 2 = {die2}\")\n",
    "    if die1 != die2:\n",
    "        print(\"You didn't roll doubles!\")\n",
    "        doubles = False"
   ]
  },
  {
   "cell_type": "markdown",
   "id": "1845b539",
   "metadata": {},
   "source": [
    "# 15. Likes vs. Dislikes\n",
    "## Create a function that takes in a list of button inputs and returns the final state."
   ]
  },
  {
   "cell_type": "code",
   "execution_count": 47,
   "id": "b0652517",
   "metadata": {},
   "outputs": [
    {
     "name": "stdout",
     "output_type": "stream",
     "text": [
      "Likes: 6\n",
      "Dislikes: 4\n"
     ]
    }
   ],
   "source": [
    "likes = 0\n",
    "dislikes = 0\n",
    "votes = [1, 1, -1, 1, -1, -1, 1, 1, 1, -1]\n",
    "for vote in votes:\n",
    "    if vote == 1:\n",
    "        likes += 1\n",
    "    elif vote == -1:\n",
    "        dislikes += 1\n",
    "print(f\"Likes: {likes}\")\n",
    "print(f\"Dislikes: {dislikes}\")\n"
   ]
  },
  {
   "cell_type": "code",
   "execution_count": 48,
   "id": "12e956c3",
   "metadata": {},
   "outputs": [
    {
     "name": "stdout",
     "output_type": "stream",
     "text": [
      "Likes: 6\n",
      "Dislikes: 4\n"
     ]
    }
   ],
   "source": [
    "likes = 0\n",
    "dislikes = 0\n",
    "votes = [1, -1, 1, 1, -1, -1, 1, 1, -1, 1]\n",
    "index = 0\n",
    "while index < len(votes):\n",
    "    vote = votes[index]\n",
    "    if vote == 1:\n",
    "        likes += 1\n",
    "    elif vote == -1:\n",
    "        dislikes += 1\n",
    "    index += 1\n",
    "print(f\"Likes: {likes}\")\n",
    "print(f\"Dislikes: {dislikes}\")"
   ]
  },
  {
   "cell_type": "markdown",
   "id": "d323511c",
   "metadata": {},
   "source": [
    "# 16. Capital Split\n",
    "## Create a function which adds spaces before every capital in a word. Uncapitalize the whole string afterwards."
   ]
  },
  {
   "cell_type": "code",
   "execution_count": 50,
   "id": "3f8af936",
   "metadata": {},
   "outputs": [
    {
     "name": "stdout",
     "output_type": "stream",
     "text": [
      "['A', 'B', 'C', 'D', 'E', 'F', 'G', 'H']\n"
     ]
    }
   ],
   "source": [
    "capital_letters = \"ABCDEFGH\"\n",
    "split_capitals = []\n",
    "for letter in capital_letters:\n",
    "    split_capitals.append(letter)\n",
    "print(split_capitals)"
   ]
  },
  {
   "cell_type": "code",
   "execution_count": 51,
   "id": "9db5e1e3",
   "metadata": {},
   "outputs": [
    {
     "name": "stdout",
     "output_type": "stream",
     "text": [
      "['A', 'B', 'C', 'D', 'E', 'F', 'G', 'H']\n"
     ]
    }
   ],
   "source": [
    "capital_letters = \"ABCDEFGH\"\n",
    "split_capitals = []\n",
    "index = 0\n",
    "while index < len(capital_letters):\n",
    "    split_capitals.append(capital_letters[index])\n",
    "    index += 1\n",
    "print(split_capitals)"
   ]
  },
  {
   "cell_type": "markdown",
   "id": "e9aca7aa",
   "metadata": {},
   "source": [
    "# 17. Integer Digits Count\n",
    "## Create a function that counts the integer's number of digits."
   ]
  },
  {
   "cell_type": "code",
   "execution_count": 53,
   "id": "a4c2aac3",
   "metadata": {},
   "outputs": [
    {
     "name": "stdout",
     "output_type": "stream",
     "text": [
      "Enter an integer: 456\n",
      "Number of digits: 3\n"
     ]
    }
   ],
   "source": [
    "num = int(input(\"Enter an integer: \"))\n",
    "count = 0\n",
    "if num == 0:\n",
    "    count = 1\n",
    "for _ in str(abs(num)):\n",
    "    count += 1\n",
    "print(\"Number of digits:\", count)"
   ]
  },
  {
   "cell_type": "code",
   "execution_count": 55,
   "id": "5924089f",
   "metadata": {},
   "outputs": [
    {
     "name": "stdout",
     "output_type": "stream",
     "text": [
      "Enter an integer: 786\n",
      "Number of integer digits: 3\n"
     ]
    }
   ],
   "source": [
    "num = int(input(\"Enter an integer: \"))\n",
    "count = 0\n",
    "while num != 0:\n",
    "    num //= 10  \n",
    "    count += 1  \n",
    "print(\"Number of integer digits:\", count)"
   ]
  },
  {
   "cell_type": "markdown",
   "id": "38ebdd06",
   "metadata": {},
   "source": [
    "# 18. Odd Up, Even Down — N Times\n",
    "## Create a function that performs an even-odd transform to a list, n times. Each even-odd transformation:\n",
    "## * Adds two (+2) to each odd integer.\n",
    "## * Subtracts two (-2) from each even integer."
   ]
  },
  {
   "cell_type": "code",
   "execution_count": 56,
   "id": "edcca714",
   "metadata": {},
   "outputs": [
    {
     "name": "stdout",
     "output_type": "stream",
     "text": [
      "Enter the value of N: 6\n",
      "1 (Odd Up)\n",
      "2 (Even Down)\n",
      "1 (Odd Up)\n",
      "2 (Even Down)\n",
      "1 (Odd Up)\n",
      "2 (Even Down)\n"
     ]
    }
   ],
   "source": [
    "N = int(input(\"Enter the value of N: \"))\n",
    "number = 1\n",
    "for _ in range(N):\n",
    "    if number % 2 == 1:  \n",
    "        print(f\"{number} (Odd Up)\")\n",
    "        number += 1\n",
    "    else:  \n",
    "        print(f\"{number} (Even Down)\")\n",
    "        number -= 1"
   ]
  },
  {
   "cell_type": "code",
   "execution_count": 57,
   "id": "97fa2742",
   "metadata": {},
   "outputs": [
    {
     "name": "stdout",
     "output_type": "stream",
     "text": [
      "Enter the value of N: 6\n",
      "1 (Odd Up)\n",
      "2 (Even Down)\n",
      "1 (Odd Up)\n",
      "2 (Even Down)\n",
      "1 (Odd Up)\n",
      "2 (Even Down)\n"
     ]
    }
   ],
   "source": [
    "N = int(input(\"Enter the value of N: \"))\n",
    "number = 1\n",
    "while N > 0:\n",
    "    if number % 2 == 1:  \n",
    "        print(f\"{number} (Odd Up)\")\n",
    "        number += 1\n",
    "    else:  \n",
    "        print(f\"{number} (Even Down)\")\n",
    "        number -= 1\n",
    "    N -= 1"
   ]
  },
  {
   "cell_type": "markdown",
   "id": "a019abf4",
   "metadata": {},
   "source": [
    "# 19. Missing Letters\n",
    "## Given a string containing unique letters, return a sorted string with the letters that don't appear in the string."
   ]
  },
  {
   "cell_type": "code",
   "execution_count": 62,
   "id": "07ef0c23",
   "metadata": {},
   "outputs": [
    {
     "name": "stdout",
     "output_type": "stream",
     "text": [
      "Missing letters: as\n"
     ]
    }
   ],
   "source": [
    "input_string = \"bcdefghijknmlopqrtuvwxyz\"\n",
    "missing_letters = \"\"\n",
    "for letter in \"abcdefghijkmlnopqrstuvwxyz\":\n",
    "    if letter not in input_string:\n",
    "        missing_letters += letter\n",
    "if missing_letters:\n",
    "    print(\"Missing letters:\", missing_letters)\n",
    "else:\n",
    "    print(\"No missing letters found.\")"
   ]
  },
  {
   "cell_type": "code",
   "execution_count": 61,
   "id": "a93d349a",
   "metadata": {},
   "outputs": [
    {
     "name": "stdout",
     "output_type": "stream",
     "text": [
      "Missing letters: as\n"
     ]
    }
   ],
   "source": [
    "input_string = \"bcdefghijklmrnoqptuvwxyz\"\n",
    "missing_letters = \"\"\n",
    "index = 0\n",
    "alphabet = \"abcdefghijklmnopqrstuvwxyz\"\n",
    "while index < len(alphabet):\n",
    "    letter = alphabet[index]\n",
    "    if letter not in input_string:\n",
    "        missing_letters += letter\n",
    "    index += 1\n",
    "if missing_letters:\n",
    "    print(\"Missing letters:\", missing_letters)\n",
    "else:\n",
    "    print(\"No missing letters found.\")"
   ]
  },
  {
   "cell_type": "markdown",
   "id": "9789ac29",
   "metadata": {},
   "source": [
    "# 20. Seven Boom!\n",
    "## Create a function that takes a list of numbers and return \"Boom!\" if the digit 7 appears in the list. Otherwise, return \"there is no 7 in the list\"."
   ]
  },
  {
   "cell_type": "code",
   "execution_count": 63,
   "id": "e2c38f26",
   "metadata": {},
   "outputs": [
    {
     "name": "stdout",
     "output_type": "stream",
     "text": [
      "1\n",
      "2\n",
      "3\n",
      "4\n",
      "5\n",
      "6\n",
      "Boom!\n",
      "8\n",
      "9\n",
      "10\n",
      "11\n",
      "12\n",
      "13\n",
      "Boom!\n",
      "15\n",
      "16\n",
      "Boom!\n",
      "18\n",
      "19\n",
      "20\n"
     ]
    }
   ],
   "source": [
    "limit = 20\n",
    "for number in range(1, limit + 1):\n",
    "    if '7' in str(number) or number % 7 == 0:\n",
    "        print(\"Boom!\")\n",
    "    else:\n",
    "        print(number)"
   ]
  },
  {
   "cell_type": "code",
   "execution_count": 64,
   "id": "09c81898",
   "metadata": {},
   "outputs": [
    {
     "name": "stdout",
     "output_type": "stream",
     "text": [
      "1\n",
      "2\n",
      "3\n",
      "4\n",
      "5\n",
      "6\n",
      "Boom!\n",
      "8\n",
      "9\n",
      "10\n",
      "11\n",
      "12\n",
      "13\n",
      "Boom!\n",
      "15\n",
      "16\n",
      "Boom!\n",
      "18\n",
      "19\n",
      "20\n"
     ]
    }
   ],
   "source": [
    "limit = 20\n",
    "number = 1\n",
    "while number <= limit:\n",
    "    if '7' in str(number) or number % 7 == 0:\n",
    "        print(\"Boom!\")\n",
    "    else:\n",
    "        print(number)\n",
    "    number += 1"
   ]
  },
  {
   "cell_type": "markdown",
   "id": "3679c39b",
   "metadata": {},
   "source": [
    "# 21. Bundle Up!\n",
    "## Given n number of layers and a given temperature, return the temperature inside of all those warm fuzzy layers. Round to the nearest tenth of a degree."
   ]
  },
  {
   "cell_type": "code",
   "execution_count": 65,
   "id": "a30d624c",
   "metadata": {},
   "outputs": [
    {
     "name": "stdout",
     "output_type": "stream",
     "text": [
      "Temperature is comfortable.\n",
      "Temperature is comfortable.\n",
      "Bundle Up!\n",
      "Bundle Up!\n",
      "Bundle Up!\n",
      "Bundle Up!\n",
      "Temperature is comfortable.\n"
     ]
    }
   ],
   "source": [
    "temperatures = [45, 40, 38, 32, 34, 39, 42]\n",
    "for temp in temperatures:\n",
    "    if temp < 40:\n",
    "        print(\"Bundle Up!\")\n",
    "    else:\n",
    "        print(\"Temperature is comfortable.\")"
   ]
  },
  {
   "cell_type": "code",
   "execution_count": 66,
   "id": "97756409",
   "metadata": {},
   "outputs": [
    {
     "name": "stdout",
     "output_type": "stream",
     "text": [
      "Temperature is comfortable.\n",
      "Temperature is comfortable.\n",
      "Bundle Up!\n",
      "Bundle Up!\n",
      "Bundle Up!\n",
      "Bundle Up!\n",
      "Temperature is comfortable.\n"
     ]
    }
   ],
   "source": [
    "temperatures = [45, 40, 38, 32, 34, 39, 42]\n",
    "index = 0\n",
    "while index < len(temperatures):\n",
    "    temp = temperatures[index]\n",
    "    if temp < 40:\n",
    "        print(\"Bundle Up!\")\n",
    "    else:\n",
    "        print(\"Temperature is comfortable.\")\n",
    "    index += 1"
   ]
  },
  {
   "cell_type": "markdown",
   "id": "0bbaa439",
   "metadata": {},
   "source": [
    "# 22. Binary to Decimal Converter\n",
    "## You are given one input: a list containing eight 1's and/or 0's. Write a function that takes an 8 bit binary number and converts it to decimal."
   ]
  },
  {
   "cell_type": "code",
   "execution_count": 67,
   "id": "d235e168",
   "metadata": {},
   "outputs": [
    {
     "name": "stdout",
     "output_type": "stream",
     "text": [
      "Enter a binary number: 67\n",
      "The decimal equivalent is: 19\n"
     ]
    }
   ],
   "source": [
    "binary_number = input(\"Enter a binary number: \")\n",
    "decimal = 0\n",
    "for i in range(len(binary_number)):\n",
    "    bit = int(binary_number[-(i + 1)])\n",
    "    decimal += bit * (2 ** i)\n",
    "print(f\"The decimal equivalent is: {decimal}\")"
   ]
  },
  {
   "cell_type": "code",
   "execution_count": 68,
   "id": "1cc068f8",
   "metadata": {},
   "outputs": [
    {
     "name": "stdout",
     "output_type": "stream",
     "text": [
      "Enter a binary number: 67\n",
      "The decimal equivalent is: 19\n"
     ]
    }
   ],
   "source": [
    "binary_number = input(\"Enter a binary number: \")\n",
    "decimal = 0\n",
    "position = 0\n",
    "while binary_number:\n",
    "    bit = int(binary_number[-1])\n",
    "    decimal += bit * (2 ** position)\n",
    "    binary_number = binary_number[:-1]\n",
    "    position += 1\n",
    "\n",
    "print(f\"The decimal equivalent is: {decimal}\")"
   ]
  },
  {
   "cell_type": "markdown",
   "id": "e8f6d9a1",
   "metadata": {},
   "source": [
    "# 23. Find The Largest Even Number\n",
    "## Write a function that finds the largest even number in a list. Return -1 if not found. The use of built-in functions max() and sorted() are prohibited."
   ]
  },
  {
   "cell_type": "code",
   "execution_count": 69,
   "id": "fa3c1034",
   "metadata": {},
   "outputs": [
    {
     "name": "stdout",
     "output_type": "stream",
     "text": [
      "The largest even number is: 54\n"
     ]
    }
   ],
   "source": [
    "numbers = [10, 15, 22, 8, 46, 31, 54, 29]\n",
    "largest_even = None\n",
    "for number in numbers:\n",
    "    if number % 2 == 0:  \n",
    "        if largest_even is None or number > largest_even:\n",
    "            largest_even = number\n",
    "if largest_even is not None:\n",
    "    print(f\"The largest even number is: {largest_even}\")\n",
    "else:\n",
    "    print(\"No even numbers found in the list.\")"
   ]
  },
  {
   "cell_type": "code",
   "execution_count": 70,
   "id": "7f302b07",
   "metadata": {},
   "outputs": [
    {
     "name": "stdout",
     "output_type": "stream",
     "text": [
      "The largest even number is: 54\n"
     ]
    }
   ],
   "source": [
    "numbers = [10, 15, 22, 8, 46, 31, 54, 29]\n",
    "largest_even = None\n",
    "index = 0\n",
    "while index < len(numbers):\n",
    "    number = numbers[index]\n",
    "    if number % 2 == 0:  \n",
    "        if largest_even is None or number > largest_even:\n",
    "            largest_even = number\n",
    "    index += 1\n",
    "if largest_even is not None:\n",
    "    print(f\"The largest even number is: {largest_even}\")\n",
    "else:\n",
    "    print(\"No even numbers found in the list.\")\n"
   ]
  },
  {
   "cell_type": "markdown",
   "id": "9325ca04",
   "metadata": {},
   "source": [
    "# 24. Hold Your Breath!"
   ]
  },
  {
   "cell_type": "code",
   "execution_count": 72,
   "id": "077a4cf8",
   "metadata": {},
   "outputs": [
    {
     "name": "stdout",
     "output_type": "stream",
     "text": [
      "Holding your breath for 10 seconds...\n",
      "10 9 8 7 6 5 4 3 2 1 \n",
      "Time's up! You can now breathe.\n"
     ]
    }
   ],
   "source": [
    "seconds = 10  \n",
    "print(\"Holding your breath for {} seconds...\".format(seconds))\n",
    "for _ in range(seconds, 0, -1):\n",
    "    print(_, end=' ')\n",
    "print(\"\\nTime's up! You can now breathe.\")"
   ]
  },
  {
   "cell_type": "code",
   "execution_count": 73,
   "id": "2a30d4ce",
   "metadata": {},
   "outputs": [
    {
     "name": "stdout",
     "output_type": "stream",
     "text": [
      "Holding your breath for 10 seconds...\n",
      "10 9 8 7 6 5 4 3 2 1 \n",
      "Time's up! You can now breathe.\n"
     ]
    }
   ],
   "source": [
    "seconds = 10\n",
    "print(\"Holding your breath for {} seconds...\".format(seconds))\n",
    "while seconds > 0:\n",
    "    print(seconds, end=' ')\n",
    "    seconds -= 1\n",
    "print(\"\\nTime's up! You can now breathe.\")"
   ]
  },
  {
   "cell_type": "markdown",
   "id": "ec703a80",
   "metadata": {},
   "source": [
    "# 25. Accumulating List\n",
    "## Create a function that takes in a list and returns a list of the accumulating sum"
   ]
  },
  {
   "cell_type": "code",
   "execution_count": 74,
   "id": "7f808149",
   "metadata": {},
   "outputs": [
    {
     "name": "stdout",
     "output_type": "stream",
     "text": [
      "Original list of numbers: [1, 2, 3, 4, 5, 6, 7, 8, 9]\n",
      "Accumulated list: [1, 3, 6, 10, 15, 21, 28, 36, 45]\n"
     ]
    }
   ],
   "source": [
    "numbers = [1, 2, 3, 4, 5, 6, 7, 8, 9]  \n",
    "accumulated = []\n",
    "total = 0\n",
    "for num in numbers:\n",
    "    total += num\n",
    "    accumulated.append(total)\n",
    "print(\"Original list of numbers:\", numbers)\n",
    "print(\"Accumulated list:\", accumulated)"
   ]
  },
  {
   "cell_type": "code",
   "execution_count": 76,
   "id": "91c89e6b",
   "metadata": {},
   "outputs": [
    {
     "name": "stdout",
     "output_type": "stream",
     "text": [
      "Original list of numbers: [1, 2, 3, 4, 5, 6, 7, 8, 9]\n",
      "Accumulated list: [1, 3, 6, 10, 15, 21, 28, 36, 45]\n"
     ]
    }
   ],
   "source": [
    "numbers = [1, 2, 3, 4, 5, 6, 7, 8, 9]  \n",
    "accumulated = []\n",
    "total = 0\n",
    "index = 0\n",
    "while index < len(numbers):\n",
    "    total += numbers[index]\n",
    "    accumulated.append(total)\n",
    "    index += 1\n",
    "print(\"Original list of numbers:\", numbers)\n",
    "print(\"Accumulated list:\", accumulated)"
   ]
  }
 ],
 "metadata": {
  "kernelspec": {
   "display_name": "Python 3 (ipykernel)",
   "language": "python",
   "name": "python3"
  },
  "language_info": {
   "codemirror_mode": {
    "name": "ipython",
    "version": 3
   },
   "file_extension": ".py",
   "mimetype": "text/x-python",
   "name": "python",
   "nbconvert_exporter": "python",
   "pygments_lexer": "ipython3",
   "version": "3.11.5"
  }
 },
 "nbformat": 4,
 "nbformat_minor": 5
}
